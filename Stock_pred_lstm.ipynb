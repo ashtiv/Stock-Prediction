{
 "cells": [
  {
   "cell_type": "code",
   "execution_count": 1,
   "id": "4159f4f1-6bde-4765-9191-cdd98283566c",
   "metadata": {},
   "outputs": [
    {
     "data": {
      "text/html": [
       "<div>\n",
       "<style scoped>\n",
       "    .dataframe tbody tr th:only-of-type {\n",
       "        vertical-align: middle;\n",
       "    }\n",
       "\n",
       "    .dataframe tbody tr th {\n",
       "        vertical-align: top;\n",
       "    }\n",
       "\n",
       "    .dataframe thead th {\n",
       "        text-align: right;\n",
       "    }\n",
       "</style>\n",
       "<table border=\"1\" class=\"dataframe\">\n",
       "  <thead>\n",
       "    <tr style=\"text-align: right;\">\n",
       "      <th></th>\n",
       "      <th>Symbol</th>\n",
       "      <th>Series</th>\n",
       "      <th>Prev Close</th>\n",
       "      <th>Open</th>\n",
       "      <th>High</th>\n",
       "      <th>Low</th>\n",
       "      <th>Last</th>\n",
       "      <th>Close</th>\n",
       "      <th>VWAP</th>\n",
       "      <th>Volume</th>\n",
       "      <th>Turnover</th>\n",
       "      <th>Trades</th>\n",
       "      <th>Deliverable Volume</th>\n",
       "      <th>%Deliverble</th>\n",
       "    </tr>\n",
       "    <tr>\n",
       "      <th>Date</th>\n",
       "      <th></th>\n",
       "      <th></th>\n",
       "      <th></th>\n",
       "      <th></th>\n",
       "      <th></th>\n",
       "      <th></th>\n",
       "      <th></th>\n",
       "      <th></th>\n",
       "      <th></th>\n",
       "      <th></th>\n",
       "      <th></th>\n",
       "      <th></th>\n",
       "      <th></th>\n",
       "      <th></th>\n",
       "    </tr>\n",
       "  </thead>\n",
       "  <tbody>\n",
       "    <tr>\n",
       "      <th>2020-11-02</th>\n",
       "      <td>BHARTIARTL</td>\n",
       "      <td>EQ</td>\n",
       "      <td>433.75</td>\n",
       "      <td>435.0</td>\n",
       "      <td>460.00</td>\n",
       "      <td>435.00</td>\n",
       "      <td>455.55</td>\n",
       "      <td>457.40</td>\n",
       "      <td>451.11</td>\n",
       "      <td>28174600</td>\n",
       "      <td>1.270977e+15</td>\n",
       "      <td>262756</td>\n",
       "      <td>9622899</td>\n",
       "      <td>0.3415</td>\n",
       "    </tr>\n",
       "    <tr>\n",
       "      <th>2020-11-03</th>\n",
       "      <td>BHARTIARTL</td>\n",
       "      <td>EQ</td>\n",
       "      <td>457.40</td>\n",
       "      <td>458.0</td>\n",
       "      <td>460.70</td>\n",
       "      <td>447.45</td>\n",
       "      <td>454.90</td>\n",
       "      <td>454.60</td>\n",
       "      <td>454.62</td>\n",
       "      <td>16036760</td>\n",
       "      <td>7.290606e+14</td>\n",
       "      <td>162571</td>\n",
       "      <td>5662537</td>\n",
       "      <td>0.3531</td>\n",
       "    </tr>\n",
       "    <tr>\n",
       "      <th>2020-11-04</th>\n",
       "      <td>BHARTIARTL</td>\n",
       "      <td>EQ</td>\n",
       "      <td>454.60</td>\n",
       "      <td>453.0</td>\n",
       "      <td>455.55</td>\n",
       "      <td>447.15</td>\n",
       "      <td>451.50</td>\n",
       "      <td>453.05</td>\n",
       "      <td>451.71</td>\n",
       "      <td>10003680</td>\n",
       "      <td>4.518785e+14</td>\n",
       "      <td>98671</td>\n",
       "      <td>3323113</td>\n",
       "      <td>0.3322</td>\n",
       "    </tr>\n",
       "    <tr>\n",
       "      <th>2020-11-05</th>\n",
       "      <td>BHARTIARTL</td>\n",
       "      <td>EQ</td>\n",
       "      <td>453.05</td>\n",
       "      <td>457.0</td>\n",
       "      <td>461.90</td>\n",
       "      <td>452.60</td>\n",
       "      <td>458.00</td>\n",
       "      <td>457.30</td>\n",
       "      <td>457.50</td>\n",
       "      <td>9234395</td>\n",
       "      <td>4.224738e+14</td>\n",
       "      <td>109959</td>\n",
       "      <td>3414270</td>\n",
       "      <td>0.3697</td>\n",
       "    </tr>\n",
       "    <tr>\n",
       "      <th>2020-11-06</th>\n",
       "      <td>BHARTIARTL</td>\n",
       "      <td>EQ</td>\n",
       "      <td>457.30</td>\n",
       "      <td>457.0</td>\n",
       "      <td>460.35</td>\n",
       "      <td>448.75</td>\n",
       "      <td>450.25</td>\n",
       "      <td>449.90</td>\n",
       "      <td>453.18</td>\n",
       "      <td>11970462</td>\n",
       "      <td>5.424776e+14</td>\n",
       "      <td>130841</td>\n",
       "      <td>5122085</td>\n",
       "      <td>0.4279</td>\n",
       "    </tr>\n",
       "  </tbody>\n",
       "</table>\n",
       "</div>"
      ],
      "text/plain": [
       "                Symbol Series  Prev Close   Open    High     Low    Last  \\\n",
       "Date                                                                       \n",
       "2020-11-02  BHARTIARTL     EQ      433.75  435.0  460.00  435.00  455.55   \n",
       "2020-11-03  BHARTIARTL     EQ      457.40  458.0  460.70  447.45  454.90   \n",
       "2020-11-04  BHARTIARTL     EQ      454.60  453.0  455.55  447.15  451.50   \n",
       "2020-11-05  BHARTIARTL     EQ      453.05  457.0  461.90  452.60  458.00   \n",
       "2020-11-06  BHARTIARTL     EQ      457.30  457.0  460.35  448.75  450.25   \n",
       "\n",
       "             Close    VWAP    Volume      Turnover  Trades  \\\n",
       "Date                                                         \n",
       "2020-11-02  457.40  451.11  28174600  1.270977e+15  262756   \n",
       "2020-11-03  454.60  454.62  16036760  7.290606e+14  162571   \n",
       "2020-11-04  453.05  451.71  10003680  4.518785e+14   98671   \n",
       "2020-11-05  457.30  457.50   9234395  4.224738e+14  109959   \n",
       "2020-11-06  449.90  453.18  11970462  5.424776e+14  130841   \n",
       "\n",
       "            Deliverable Volume  %Deliverble  \n",
       "Date                                         \n",
       "2020-11-02             9622899       0.3415  \n",
       "2020-11-03             5662537       0.3531  \n",
       "2020-11-04             3323113       0.3322  \n",
       "2020-11-05             3414270       0.3697  \n",
       "2020-11-06             5122085       0.4279  "
      ]
     },
     "execution_count": 1,
     "metadata": {},
     "output_type": "execute_result"
    }
   ],
   "source": [
    "import pandas as pd\n",
    "import numpy as np\n",
    "import keras\n",
    "import tensorflow as tf\n",
    "from keras.preprocessing.sequence import TimeseriesGenerator\n",
    "from nsepy import get_history as gh\n",
    "import datetime as dt\n",
    "start = dt.datetime(2020,11,1)\n",
    "end = dt.datetime(2021,11,1)\n",
    "stock='BHARTIARTL'\n",
    "df = gh(symbol=stock,start=start,end=end)\n",
    "df.head()"
   ]
  },
  {
   "cell_type": "code",
   "execution_count": 2,
   "id": "006d635f-d50d-4c18-a617-3c62fb40bc83",
   "metadata": {},
   "outputs": [
    {
     "data": {
      "text/html": [
       "<div>\n",
       "<style scoped>\n",
       "    .dataframe tbody tr th:only-of-type {\n",
       "        vertical-align: middle;\n",
       "    }\n",
       "\n",
       "    .dataframe tbody tr th {\n",
       "        vertical-align: top;\n",
       "    }\n",
       "\n",
       "    .dataframe thead th {\n",
       "        text-align: right;\n",
       "    }\n",
       "</style>\n",
       "<table border=\"1\" class=\"dataframe\">\n",
       "  <thead>\n",
       "    <tr style=\"text-align: right;\">\n",
       "      <th></th>\n",
       "      <th>Date</th>\n",
       "      <th>Close</th>\n",
       "    </tr>\n",
       "  </thead>\n",
       "  <tbody>\n",
       "    <tr>\n",
       "      <th>0</th>\n",
       "      <td>2020-11-02</td>\n",
       "      <td>457.40</td>\n",
       "    </tr>\n",
       "    <tr>\n",
       "      <th>1</th>\n",
       "      <td>2020-11-03</td>\n",
       "      <td>454.60</td>\n",
       "    </tr>\n",
       "    <tr>\n",
       "      <th>2</th>\n",
       "      <td>2020-11-04</td>\n",
       "      <td>453.05</td>\n",
       "    </tr>\n",
       "    <tr>\n",
       "      <th>3</th>\n",
       "      <td>2020-11-05</td>\n",
       "      <td>457.30</td>\n",
       "    </tr>\n",
       "    <tr>\n",
       "      <th>4</th>\n",
       "      <td>2020-11-06</td>\n",
       "      <td>449.90</td>\n",
       "    </tr>\n",
       "  </tbody>\n",
       "</table>\n",
       "</div>"
      ],
      "text/plain": [
       "         Date   Close\n",
       "0  2020-11-02  457.40\n",
       "1  2020-11-03  454.60\n",
       "2  2020-11-04  453.05\n",
       "3  2020-11-05  457.30\n",
       "4  2020-11-06  449.90"
      ]
     },
     "execution_count": 2,
     "metadata": {},
     "output_type": "execute_result"
    }
   ],
   "source": [
    "sf=df.index\n",
    "cf=df['Close'].values\n",
    "pf=pd.DataFrame()\n",
    "pf['Date']=sf\n",
    "pf['Close']=cf\n",
    "pf.head()\n",
    "df=pf\n",
    "df.head()"
   ]
  },
  {
   "cell_type": "code",
   "execution_count": 3,
   "id": "93472d31-ade4-4f87-bff6-545f25553916",
   "metadata": {},
   "outputs": [
    {
     "data": {
      "text/plain": [
       "[<matplotlib.lines.Line2D at 0x1ae14848eb8>]"
      ]
     },
     "execution_count": 3,
     "metadata": {},
     "output_type": "execute_result"
    },
    {
     "data": {
      "image/png": "[encoded data removed]",
      "text/plain": [
       "<Figure size 432x288 with 1 Axes>"
      ]
     },
     "metadata": {
      "needs_background": "light"
     },
     "output_type": "display_data"
    }
   ],
   "source": [
    "import matplotlib.pyplot as plt\n",
    "df['Date'] = pd.to_datetime(df['Date'])\n",
    "df.set_axis(df['Date'], inplace=True)\n",
    "plt.plot(df['Close'])"
   ]
  },
  {
   "cell_type": "code",
   "execution_count": 4,
   "id": "c1573dd3-d3a3-4eed-8186-cb083e823f04",
   "metadata": {},
   "outputs": [
    {
     "name": "stdout",
     "output_type": "stream",
     "text": [
      "198 50\n"
     ]
    }
   ],
   "source": [
    "close_data = df['Close'].values\n",
    "close_data = close_data.reshape((-1,1))\n",
    "split_percent = 0.80\n",
    "split = int(split_percent*len(close_data))\n",
    "close_train = close_data[:split]\n",
    "close_test = close_data[split:]\n",
    "date_train = df['Date'][:split]\n",
    "date_test = df['Date'][split:]\n",
    "print(len(close_train),len(close_test))"
   ]
  },
  {
   "cell_type": "code",
   "execution_count": 5,
   "id": "42394d25-c67c-47a6-bf04-5e92ec9461e9",
   "metadata": {},
   "outputs": [],
   "source": [
    "look_back = 15\n",
    "train_generator = TimeseriesGenerator(close_train, close_train, length=look_back, batch_size=20)     \n",
    "test_generator = TimeseriesGenerator(close_test, close_test, length=look_back, batch_size=1)"
   ]
  },
  {
   "cell_type": "code",
   "execution_count": 6,
   "id": "1766ab8e-0fbc-4f6e-b771-b7adf0a45b22",
   "metadata": {},
   "outputs": [
    {
     "name": "stdout",
     "output_type": "stream",
     "text": [
      "Epoch 1/100\n",
      "10/10 [==============================] - 2s 9ms/step - loss: 31459.7754\n",
      "Epoch 2/100\n",
      "10/10 [==============================] - 0s 10ms/step - loss: 19603.1367\n",
      "Epoch 3/100\n",
      "10/10 [==============================] - 0s 5ms/step - loss: 10004.4316\n",
      "Epoch 4/100\n",
      "10/10 [==============================] - 0s 7ms/step - loss: 6409.0034\n",
      "Epoch 5/100\n",
      "10/10 [==============================] - 0s 8ms/step - loss: 2347.0657\n",
      "Epoch 6/100\n",
      "10/10 [==============================] - 0s 8ms/step - loss: 1743.2021\n",
      "Epoch 7/100\n",
      "10/10 [==============================] - 0s 8ms/step - loss: 1596.8993\n",
      "Epoch 8/100\n",
      "10/10 [==============================] - 0s 9ms/step - loss: 1823.7510\n",
      "Epoch 9/100\n",
      "10/10 [==============================] - 0s 9ms/step - loss: 1837.8181\n",
      "Epoch 10/100\n",
      "10/10 [==============================] - 0s 8ms/step - loss: 1645.5198\n",
      "Epoch 11/100\n",
      "10/10 [==============================] - 0s 8ms/step - loss: 1660.5248\n",
      "Epoch 12/100\n",
      "10/10 [==============================] - 0s 9ms/step - loss: 1764.0997\n",
      "Epoch 13/100\n",
      "10/10 [==============================] - 0s 5ms/step - loss: 1587.9961\n",
      "Epoch 14/100\n",
      "10/10 [==============================] - 0s 6ms/step - loss: 1608.3851\n",
      "Epoch 15/100\n",
      "10/10 [==============================] - 0s 5ms/step - loss: 1637.3027\n",
      "Epoch 16/100\n",
      "10/10 [==============================] - 0s 6ms/step - loss: 1731.0415\n",
      "Epoch 17/100\n",
      "10/10 [==============================] - 0s 6ms/step - loss: 1635.5959\n",
      "Epoch 18/100\n",
      "10/10 [==============================] - 0s 9ms/step - loss: 1521.1901\n",
      "Epoch 19/100\n",
      "10/10 [==============================] - 0s 8ms/step - loss: 1609.0907\n",
      "Epoch 20/100\n",
      "10/10 [==============================] - 0s 7ms/step - loss: 1659.5907\n",
      "Epoch 21/100\n",
      "10/10 [==============================] - 0s 7ms/step - loss: 1576.4315\n",
      "Epoch 22/100\n",
      "10/10 [==============================] - 0s 8ms/step - loss: 1526.4902\n",
      "Epoch 23/100\n",
      "10/10 [==============================] - 0s 7ms/step - loss: 1513.4293\n",
      "Epoch 24/100\n",
      "10/10 [==============================] - 0s 9ms/step - loss: 1476.9084\n",
      "Epoch 25/100\n",
      "10/10 [==============================] - 0s 9ms/step - loss: 1554.3173\n",
      "Epoch 26/100\n",
      "10/10 [==============================] - 0s 7ms/step - loss: 1489.2568\n",
      "Epoch 27/100\n",
      "10/10 [==============================] - 0s 8ms/step - loss: 1468.7433\n",
      "Epoch 28/100\n",
      "10/10 [==============================] - 0s 6ms/step - loss: 1459.0215\n",
      "Epoch 29/100\n",
      "10/10 [==============================] - 0s 6ms/step - loss: 1522.8285\n",
      "Epoch 30/100\n",
      "10/10 [==============================] - 0s 6ms/step - loss: 1462.6515\n",
      "Epoch 31/100\n",
      "10/10 [==============================] - 0s 5ms/step - loss: 1421.3214\n",
      "Epoch 32/100\n",
      "10/10 [==============================] - 0s 3ms/step - loss: 1494.5007\n",
      "Epoch 33/100\n",
      "10/10 [==============================] - 0s 5ms/step - loss: 1521.5292\n",
      "Epoch 34/100\n",
      "10/10 [==============================] - 0s 4ms/step - loss: 1402.2317\n",
      "Epoch 35/100\n",
      "10/10 [==============================] - 0s 6ms/step - loss: 1417.9058\n",
      "Epoch 36/100\n",
      "10/10 [==============================] - 0s 6ms/step - loss: 1363.9421\n",
      "Epoch 37/100\n",
      "10/10 [==============================] - 0s 5ms/step - loss: 1506.8241\n",
      "Epoch 38/100\n",
      "10/10 [==============================] - 0s 5ms/step - loss: 1440.3976\n",
      "Epoch 39/100\n",
      "10/10 [==============================] - 0s 6ms/step - loss: 1364.2621\n",
      "Epoch 40/100\n",
      "10/10 [==============================] - 0s 4ms/step - loss: 1437.8306\n",
      "Epoch 41/100\n",
      "10/10 [==============================] - 0s 6ms/step - loss: 1347.9720\n",
      "Epoch 42/100\n",
      "10/10 [==============================] - 0s 6ms/step - loss: 1430.8961\n",
      "Epoch 43/100\n",
      "10/10 [==============================] - 0s 6ms/step - loss: 1392.7374\n",
      "Epoch 44/100\n",
      "10/10 [==============================] - 0s 6ms/step - loss: 1402.4417\n",
      "Epoch 45/100\n",
      "10/10 [==============================] - 0s 6ms/step - loss: 1378.5555\n",
      "Epoch 46/100\n",
      "10/10 [==============================] - 0s 6ms/step - loss: 1430.1212\n",
      "Epoch 47/100\n",
      "10/10 [==============================] - 0s 5ms/step - loss: 1348.4600\n",
      "Epoch 48/100\n",
      "10/10 [==============================] - 0s 5ms/step - loss: 1502.3109\n",
      "Epoch 49/100\n",
      "10/10 [==============================] - 0s 6ms/step - loss: 1534.1952\n",
      "Epoch 50/100\n",
      "10/10 [==============================] - 0s 6ms/step - loss: 1571.3706\n",
      "Epoch 51/100\n",
      "10/10 [==============================] - 0s 6ms/step - loss: 1316.3130\n",
      "Epoch 52/100\n",
      "10/10 [==============================] - 0s 5ms/step - loss: 1305.5635\n",
      "Epoch 53/100\n",
      "10/10 [==============================] - 0s 6ms/step - loss: 1433.2162\n",
      "Epoch 54/100\n",
      "10/10 [==============================] - 0s 6ms/step - loss: 1487.1353\n",
      "Epoch 55/100\n",
      "10/10 [==============================] - 0s 6ms/step - loss: 1317.8462\n",
      "Epoch 56/100\n",
      "10/10 [==============================] - 0s 6ms/step - loss: 1289.2791\n",
      "Epoch 57/100\n",
      "10/10 [==============================] - 0s 6ms/step - loss: 1337.9495\n",
      "Epoch 58/100\n",
      "10/10 [==============================] - 0s 6ms/step - loss: 1245.3708\n",
      "Epoch 59/100\n",
      "10/10 [==============================] - 0s 7ms/step - loss: 1034.7496\n",
      "Epoch 60/100\n",
      "10/10 [==============================] - 0s 7ms/step - loss: 891.1781\n",
      "Epoch 61/100\n",
      "10/10 [==============================] - 0s 7ms/step - loss: 635.1674\n",
      "Epoch 62/100\n",
      "10/10 [==============================] - 0s 6ms/step - loss: 880.9182\n",
      "Epoch 63/100\n",
      "10/10 [==============================] - 0s 6ms/step - loss: 812.9030\n",
      "Epoch 64/100\n",
      "10/10 [==============================] - 0s 6ms/step - loss: 764.6366\n",
      "Epoch 65/100\n",
      "10/10 [==============================] - 0s 11ms/step - loss: 656.5734\n",
      "Epoch 66/100\n",
      "10/10 [==============================] - 0s 6ms/step - loss: 519.7967\n",
      "Epoch 67/100\n",
      "10/10 [==============================] - 0s 6ms/step - loss: 470.6427\n",
      "Epoch 68/100\n",
      "10/10 [==============================] - 0s 6ms/step - loss: 588.1581\n",
      "Epoch 69/100\n",
      "10/10 [==============================] - 0s 6ms/step - loss: 474.2892\n",
      "Epoch 70/100\n",
      "10/10 [==============================] - 0s 6ms/step - loss: 382.6312\n",
      "Epoch 71/100\n",
      "10/10 [==============================] - 0s 6ms/step - loss: 298.2679\n",
      "Epoch 72/100\n",
      "10/10 [==============================] - 0s 6ms/step - loss: 301.9189\n",
      "Epoch 73/100\n",
      "10/10 [==============================] - 0s 6ms/step - loss: 282.9583\n",
      "Epoch 74/100\n",
      "10/10 [==============================] - 0s 6ms/step - loss: 1636.2329\n",
      "Epoch 75/100\n",
      "10/10 [==============================] - 0s 6ms/step - loss: 475.1005\n",
      "Epoch 76/100\n",
      "10/10 [==============================] - 0s 6ms/step - loss: 415.2919\n",
      "Epoch 77/100\n",
      "10/10 [==============================] - 0s 7ms/step - loss: 307.3927\n",
      "Epoch 78/100\n",
      "10/10 [==============================] - 0s 6ms/step - loss: 492.6215\n",
      "Epoch 79/100\n",
      "10/10 [==============================] - 0s 6ms/step - loss: 333.3375\n",
      "Epoch 80/100\n",
      "10/10 [==============================] - 0s 6ms/step - loss: 316.1588\n",
      "Epoch 81/100\n",
      "10/10 [==============================] - 0s 7ms/step - loss: 228.4863\n",
      "Epoch 82/100\n",
      "10/10 [==============================] - 0s 5ms/step - loss: 219.7669\n",
      "Epoch 83/100\n",
      "10/10 [==============================] - 0s 5ms/step - loss: 205.1497\n",
      "Epoch 84/100\n",
      "10/10 [==============================] - 0s 6ms/step - loss: 255.2104\n",
      "Epoch 85/100\n",
      "10/10 [==============================] - 0s 6ms/step - loss: 254.5488\n",
      "Epoch 86/100\n",
      "10/10 [==============================] - 0s 6ms/step - loss: 250.1046\n",
      "Epoch 87/100\n",
      "10/10 [==============================] - 0s 6ms/step - loss: 216.1964\n",
      "Epoch 88/100\n",
      "10/10 [==============================] - 0s 6ms/step - loss: 216.0976\n",
      "Epoch 89/100\n",
      "10/10 [==============================] - 0s 6ms/step - loss: 189.6275\n",
      "Epoch 90/100\n",
      "10/10 [==============================] - 0s 7ms/step - loss: 200.7938\n",
      "Epoch 91/100\n",
      "10/10 [==============================] - 0s 8ms/step - loss: 220.9052\n",
      "Epoch 92/100\n",
      "10/10 [==============================] - 0s 6ms/step - loss: 220.2172\n",
      "Epoch 93/100\n",
      "10/10 [==============================] - 0s 6ms/step - loss: 189.9267\n",
      "Epoch 94/100\n",
      "10/10 [==============================] - 0s 7ms/step - loss: 181.7535\n",
      "Epoch 95/100\n",
      "10/10 [==============================] - 0s 6ms/step - loss: 181.6976\n",
      "Epoch 96/100\n",
      "10/10 [==============================] - 0s 6ms/step - loss: 196.7773\n",
      "Epoch 97/100\n",
      "10/10 [==============================] - 0s 7ms/step - loss: 187.4796\n",
      "Epoch 98/100\n",
      "10/10 [==============================] - 0s 6ms/step - loss: 184.1769\n",
      "Epoch 99/100\n",
      "10/10 [==============================] - 0s 8ms/step - loss: 196.2988\n",
      "Epoch 100/100\n",
      "10/10 [==============================] - 0s 6ms/step - loss: 218.1510\n",
      "1000\n",
      "218.1510009765625\n",
      "218.1510009765625 9\n",
      "Epoch 1/100\n",
      "10/10 [==============================] - 1s 4ms/step - loss: 296752.2188\n",
      "Epoch 2/100\n",
      "10/10 [==============================] - 0s 4ms/step - loss: 296241.9062\n",
      "Epoch 3/100\n",
      "10/10 [==============================] - 0s 3ms/step - loss: 290141.1875\n",
      "Epoch 4/100\n",
      "10/10 [==============================] - 0s 4ms/step - loss: 248521.1406\n",
      "Epoch 5/100\n",
      "10/10 [==============================] - 0s 3ms/step - loss: 190519.1719\n",
      "Epoch 6/100\n",
      "10/10 [==============================] - 0s 7ms/step - loss: 184101.8125\n",
      "Epoch 7/100\n",
      "10/10 [==============================] - 0s 5ms/step - loss: 160652.4844\n",
      "Epoch 8/100\n",
      "10/10 [==============================] - 0s 5ms/step - loss: 114999.3359\n",
      "Epoch 9/100\n",
      "10/10 [==============================] - 0s 8ms/step - loss: 91123.1250\n",
      "Epoch 10/100\n",
      "10/10 [==============================] - 0s 9ms/step - loss: 65572.9766\n",
      "Epoch 11/100\n",
      "10/10 [==============================] - 0s 9ms/step - loss: 39810.2305\n",
      "Epoch 12/100\n",
      "10/10 [==============================] - 0s 8ms/step - loss: 18363.6973\n",
      "Epoch 13/100\n",
      "10/10 [==============================] - 0s 8ms/step - loss: 7298.9194\n",
      "Epoch 14/100\n",
      "10/10 [==============================] - 0s 7ms/step - loss: 17772.9414\n",
      "Epoch 15/100\n",
      "10/10 [==============================] - 0s 8ms/step - loss: 144913.1094\n",
      "Epoch 16/100\n",
      "10/10 [==============================] - 0s 5ms/step - loss: 200317.6406\n",
      "Epoch 17/100\n",
      "10/10 [==============================] - 0s 4ms/step - loss: 97758.6562\n",
      "Epoch 18/100\n",
      "10/10 [==============================] - 0s 4ms/step - loss: 14801.5547\n",
      "Epoch 19/100\n",
      "10/10 [==============================] - 0s 3ms/step - loss: 237832.6562\n",
      "Epoch 20/100\n",
      "10/10 [==============================] - 0s 4ms/step - loss: 28369.5293\n",
      "Epoch 21/100\n",
      "10/10 [==============================] - 0s 7ms/step - loss: 4887.3750\n",
      "Epoch 22/100\n",
      "10/10 [==============================] - 0s 8ms/step - loss: 763.2992\n",
      "Epoch 23/100\n",
      "10/10 [==============================] - 0s 8ms/step - loss: 611.2767\n",
      "Epoch 24/100\n",
      "10/10 [==============================] - 0s 14ms/step - loss: 583.2462\n",
      "Epoch 25/100\n",
      "10/10 [==============================] - 0s 8ms/step - loss: 569.6110\n",
      "Epoch 26/100\n",
      "10/10 [==============================] - 0s 5ms/step - loss: 546.7637\n",
      "Epoch 27/100\n",
      "10/10 [==============================] - 0s 3ms/step - loss: 530.7162\n",
      "Epoch 28/100\n",
      "10/10 [==============================] - 0s 4ms/step - loss: 511.4175\n",
      "Epoch 29/100\n",
      "10/10 [==============================] - 0s 3ms/step - loss: 498.4722\n",
      "Epoch 30/100\n",
      "10/10 [==============================] - 0s 5ms/step - loss: 487.5222\n",
      "Epoch 31/100\n",
      "10/10 [==============================] - 0s 3ms/step - loss: 480.3189\n",
      "Epoch 32/100\n",
      "10/10 [==============================] - 0s 3ms/step - loss: 473.6252\n",
      "Epoch 33/100\n",
      "10/10 [==============================] - 0s 3ms/step - loss: 469.6768\n",
      "Epoch 34/100\n",
      "10/10 [==============================] - 0s 6ms/step - loss: 464.0817\n",
      "Epoch 35/100\n",
      "10/10 [==============================] - 0s 6ms/step - loss: 459.1021\n",
      "Epoch 36/100\n",
      "10/10 [==============================] - 0s 6ms/step - loss: 457.6139\n",
      "Epoch 37/100\n",
      "10/10 [==============================] - 0s 7ms/step - loss: 451.0516\n",
      "Epoch 38/100\n",
      "10/10 [==============================] - 0s 6ms/step - loss: 450.6130\n",
      "Epoch 39/100\n",
      "10/10 [==============================] - 0s 5ms/step - loss: 448.5746\n",
      "Epoch 40/100\n",
      "10/10 [==============================] - 0s 6ms/step - loss: 443.4746\n",
      "Epoch 41/100\n",
      "10/10 [==============================] - 0s 6ms/step - loss: 442.5275\n",
      "Epoch 42/100\n",
      "10/10 [==============================] - 0s 6ms/step - loss: 437.6615\n",
      "Epoch 43/100\n",
      "10/10 [==============================] - 0s 6ms/step - loss: 436.7219\n",
      "Epoch 44/100\n",
      "10/10 [==============================] - 0s 6ms/step - loss: 438.0082\n",
      "Epoch 45/100\n",
      "10/10 [==============================] - 0s 5ms/step - loss: 434.3450\n",
      "Epoch 46/100\n",
      "10/10 [==============================] - 0s 6ms/step - loss: 431.1919\n",
      "Epoch 47/100\n",
      "10/10 [==============================] - 0s 5ms/step - loss: 440.7043\n",
      "Epoch 48/100\n",
      "10/10 [==============================] - 0s 7ms/step - loss: 426.8069\n",
      "Epoch 49/100\n",
      "10/10 [==============================] - 0s 5ms/step - loss: 427.2293\n",
      "Epoch 50/100\n",
      "10/10 [==============================] - 0s 7ms/step - loss: 422.0275\n",
      "Epoch 51/100\n",
      "10/10 [==============================] - 0s 4ms/step - loss: 432.0879\n",
      "Epoch 52/100\n",
      "10/10 [==============================] - 0s 4ms/step - loss: 423.3043\n",
      "Epoch 53/100\n",
      "10/10 [==============================] - 0s 5ms/step - loss: 420.5264\n",
      "Epoch 54/100\n",
      "10/10 [==============================] - 0s 5ms/step - loss: 414.6368\n",
      "Epoch 55/100\n",
      "10/10 [==============================] - 0s 5ms/step - loss: 413.3300\n",
      "Epoch 56/100\n",
      "10/10 [==============================] - 0s 5ms/step - loss: 413.8788\n",
      "Epoch 57/100\n",
      "10/10 [==============================] - 0s 5ms/step - loss: 411.2802\n",
      "Epoch 58/100\n",
      "10/10 [==============================] - 0s 5ms/step - loss: 410.2489\n",
      "Epoch 59/100\n",
      "10/10 [==============================] - 0s 6ms/step - loss: 407.7209\n",
      "Epoch 60/100\n",
      "10/10 [==============================] - 0s 7ms/step - loss: 406.6820\n",
      "Epoch 61/100\n",
      "10/10 [==============================] - 0s 5ms/step - loss: 403.0117\n",
      "Epoch 62/100\n",
      "10/10 [==============================] - 0s 6ms/step - loss: 405.3442\n",
      "Epoch 63/100\n",
      "10/10 [==============================] - 0s 5ms/step - loss: 401.9691\n",
      "Epoch 64/100\n",
      "10/10 [==============================] - 0s 7ms/step - loss: 403.8203\n",
      "Epoch 65/100\n",
      "10/10 [==============================] - 0s 5ms/step - loss: 401.6124\n",
      "Epoch 66/100\n",
      "10/10 [==============================] - 0s 6ms/step - loss: 396.0560\n",
      "Epoch 67/100\n",
      "10/10 [==============================] - 0s 7ms/step - loss: 397.4726\n",
      "Epoch 68/100\n",
      "10/10 [==============================] - 0s 4ms/step - loss: 394.1614\n",
      "Epoch 69/100\n",
      "10/10 [==============================] - 0s 6ms/step - loss: 394.6685\n",
      "Epoch 70/100\n",
      "10/10 [==============================] - 0s 5ms/step - loss: 392.9994\n",
      "Epoch 71/100\n",
      "10/10 [==============================] - 0s 5ms/step - loss: 395.5774\n",
      "Epoch 72/100\n",
      "10/10 [==============================] - 0s 5ms/step - loss: 393.4973\n",
      "Epoch 73/100\n",
      "10/10 [==============================] - 0s 6ms/step - loss: 388.5547\n",
      "Epoch 74/100\n",
      "10/10 [==============================] - 0s 4ms/step - loss: 390.7051\n",
      "Epoch 75/100\n",
      "10/10 [==============================] - 0s 7ms/step - loss: 387.0179\n",
      "Epoch 76/100\n",
      "10/10 [==============================] - 0s 4ms/step - loss: 388.2377\n",
      "Epoch 77/100\n",
      "10/10 [==============================] - 0s 5ms/step - loss: 389.0749\n",
      "Epoch 78/100\n",
      "10/10 [==============================] - 0s 6ms/step - loss: 385.3342\n",
      "Epoch 79/100\n",
      "10/10 [==============================] - 0s 5ms/step - loss: 383.4591\n",
      "Epoch 80/100\n",
      "10/10 [==============================] - 0s 5ms/step - loss: 387.0897\n",
      "Epoch 81/100\n",
      "10/10 [==============================] - 0s 5ms/step - loss: 395.6848\n",
      "Epoch 82/100\n",
      "10/10 [==============================] - 0s 6ms/step - loss: 385.2406\n",
      "Epoch 83/100\n",
      "10/10 [==============================] - 0s 9ms/step - loss: 383.3569\n",
      "Epoch 84/100\n",
      "10/10 [==============================] - 0s 7ms/step - loss: 382.5178\n",
      "Epoch 85/100\n",
      "10/10 [==============================] - 0s 4ms/step - loss: 382.5347\n",
      "Epoch 86/100\n",
      "10/10 [==============================] - 0s 5ms/step - loss: 379.7720\n",
      "Epoch 87/100\n",
      "10/10 [==============================] - 0s 7ms/step - loss: 386.5893\n",
      "Epoch 88/100\n",
      "10/10 [==============================] - 0s 5ms/step - loss: 387.4020\n",
      "Epoch 89/100\n",
      "10/10 [==============================] - 0s 7ms/step - loss: 379.2998\n",
      "Epoch 90/100\n",
      "10/10 [==============================] - 0s 4ms/step - loss: 389.5718\n",
      "Epoch 91/100\n",
      "10/10 [==============================] - 0s 6ms/step - loss: 383.2502\n",
      "Epoch 92/100\n",
      "10/10 [==============================] - 0s 6ms/step - loss: 382.5841\n",
      "Epoch 93/100\n",
      "10/10 [==============================] - 0s 5ms/step - loss: 382.0263\n",
      "Epoch 94/100\n",
      "10/10 [==============================] - 0s 6ms/step - loss: 379.7329\n",
      "Epoch 95/100\n",
      "10/10 [==============================] - 0s 7ms/step - loss: 378.2919\n",
      "Epoch 96/100\n",
      "10/10 [==============================] - 0s 4ms/step - loss: 377.0264\n",
      "Epoch 97/100\n",
      "10/10 [==============================] - 0s 7ms/step - loss: 379.7392\n",
      "Epoch 98/100\n",
      "10/10 [==============================] - 0s 5ms/step - loss: 380.7162\n",
      "Epoch 99/100\n",
      "10/10 [==============================] - 0s 6ms/step - loss: 380.1961\n",
      "Epoch 100/100\n",
      "10/10 [==============================] - 0s 5ms/step - loss: 378.7574\n",
      "1000\n",
      "378.7574157714844\n",
      "218.1510009765625 8\n",
      "Epoch 1/100\n",
      "10/10 [==============================] - 1s 3ms/step - loss: 310575.4688\n",
      "Epoch 2/100\n",
      "10/10 [==============================] - 0s 6ms/step - loss: 308536.5312\n",
      "Epoch 3/100\n",
      "10/10 [==============================] - 0s 4ms/step - loss: 306594.6562\n",
      "Epoch 4/100\n",
      "10/10 [==============================] - 0s 6ms/step - loss: 304984.4688\n",
      "Epoch 5/100\n",
      "10/10 [==============================] - 0s 5ms/step - loss: 303566.0625\n",
      "Epoch 6/100\n",
      "10/10 [==============================] - 0s 6ms/step - loss: 302439.8125\n",
      "Epoch 7/100\n",
      "10/10 [==============================] - 0s 9ms/step - loss: 301338.6562\n",
      "Epoch 8/100\n",
      "10/10 [==============================] - 0s 6ms/step - loss: 300456.1875\n",
      "Epoch 9/100\n",
      "10/10 [==============================] - 0s 6ms/step - loss: 299711.0000\n",
      "Epoch 10/100\n",
      "10/10 [==============================] - 0s 7ms/step - loss: 299105.4375\n",
      "Epoch 11/100\n",
      "10/10 [==============================] - 0s 4ms/step - loss: 298584.7500\n",
      "Epoch 12/100\n",
      "10/10 [==============================] - 0s 7ms/step - loss: 298091.8750\n",
      "Epoch 13/100\n",
      "10/10 [==============================] - 0s 6ms/step - loss: 297711.8125\n",
      "Epoch 14/100\n",
      "10/10 [==============================] - 0s 5ms/step - loss: 297375.7500\n",
      "Epoch 15/100\n",
      "10/10 [==============================] - 0s 6ms/step - loss: 297079.8438\n",
      "Epoch 16/100\n",
      "10/10 [==============================] - 0s 4ms/step - loss: 296811.6562\n",
      "Epoch 17/100\n",
      "10/10 [==============================] - 0s 6ms/step - loss: 296565.3438\n",
      "Epoch 18/100\n",
      "10/10 [==============================] - 0s 5ms/step - loss: 296328.5625\n",
      "Epoch 19/100\n",
      "10/10 [==============================] - 0s 6ms/step - loss: 296096.6250\n",
      "Epoch 20/100\n",
      "10/10 [==============================] - 0s 7ms/step - loss: 295817.0312\n",
      "Epoch 21/100\n",
      "10/10 [==============================] - 0s 5ms/step - loss: 295527.5938\n",
      "Epoch 22/100\n",
      "10/10 [==============================] - 0s 5ms/step - loss: 295154.5938\n",
      "Epoch 23/100\n",
      "10/10 [==============================] - 0s 8ms/step - loss: 294747.6250\n",
      "Epoch 24/100\n",
      "10/10 [==============================] - 0s 5ms/step - loss: 294177.4688\n",
      "Epoch 25/100\n",
      "10/10 [==============================] - 0s 5ms/step - loss: 293487.4688\n",
      "Epoch 26/100\n",
      "10/10 [==============================] - 0s 6ms/step - loss: 292692.4375\n",
      "Epoch 27/100\n",
      "10/10 [==============================] - 0s 6ms/step - loss: 291566.4375\n",
      "Epoch 28/100\n",
      "10/10 [==============================] - 0s 5ms/step - loss: 290194.5938\n",
      "Epoch 29/100\n",
      "10/10 [==============================] - 0s 5ms/step - loss: 288303.7500\n",
      "Epoch 30/100\n",
      "10/10 [==============================] - 0s 5ms/step - loss: 285958.0625\n",
      "Epoch 31/100\n",
      "10/10 [==============================] - 0s 7ms/step - loss: 282874.0625\n",
      "Epoch 32/100\n",
      "10/10 [==============================] - 0s 5ms/step - loss: 279073.3438\n",
      "Epoch 33/100\n",
      "10/10 [==============================] - 0s 5ms/step - loss: 274211.4688\n",
      "Epoch 34/100\n",
      "10/10 [==============================] - 0s 6ms/step - loss: 268338.5938\n",
      "Epoch 35/100\n",
      "10/10 [==============================] - 0s 5ms/step - loss: 260902.7500\n",
      "Epoch 36/100\n",
      "10/10 [==============================] - 0s 6ms/step - loss: 251626.0781\n",
      "Epoch 37/100\n",
      "10/10 [==============================] - 0s 5ms/step - loss: 241304.8281\n",
      "Epoch 38/100\n",
      "10/10 [==============================] - 0s 6ms/step - loss: 228274.0938\n",
      "Epoch 39/100\n",
      "10/10 [==============================] - 0s 5ms/step - loss: 214478.9531\n",
      "Epoch 40/100\n",
      "10/10 [==============================] - 0s 7ms/step - loss: 197278.5938\n",
      "Epoch 41/100\n",
      "10/10 [==============================] - 0s 5ms/step - loss: 177615.0625\n",
      "Epoch 42/100\n",
      "10/10 [==============================] - 0s 6ms/step - loss: 157604.6719\n",
      "Epoch 43/100\n",
      "10/10 [==============================] - 0s 5ms/step - loss: 133525.7344\n",
      "Epoch 44/100\n",
      "10/10 [==============================] - 0s 6ms/step - loss: 109506.1016\n",
      "Epoch 45/100\n",
      "10/10 [==============================] - 0s 5ms/step - loss: 83737.9141\n",
      "Epoch 46/100\n",
      "10/10 [==============================] - 0s 8ms/step - loss: 57320.0234\n",
      "Epoch 47/100\n",
      "10/10 [==============================] - 0s 6ms/step - loss: 34695.0156\n",
      "Epoch 48/100\n",
      "10/10 [==============================] - 0s 6ms/step - loss: 17711.4297\n",
      "Epoch 49/100\n",
      "10/10 [==============================] - 0s 5ms/step - loss: 5945.2881\n",
      "Epoch 50/100\n",
      "10/10 [==============================] - 0s 7ms/step - loss: 1137.5984\n",
      "Epoch 51/100\n",
      "10/10 [==============================] - 0s 8ms/step - loss: 273.7698\n",
      "Epoch 52/100\n",
      "10/10 [==============================] - 0s 5ms/step - loss: 281.9245\n",
      "Epoch 53/100\n",
      "10/10 [==============================] - 0s 4ms/step - loss: 231.1943\n",
      "Epoch 54/100\n",
      "10/10 [==============================] - 0s 6ms/step - loss: 119.4388\n",
      "Epoch 55/100\n",
      "10/10 [==============================] - 0s 6ms/step - loss: 129.8900\n",
      "Epoch 56/100\n",
      "10/10 [==============================] - 0s 5ms/step - loss: 135.1252\n",
      "Epoch 57/100\n",
      "10/10 [==============================] - 0s 6ms/step - loss: 129.0293\n",
      "Epoch 58/100\n",
      "10/10 [==============================] - 0s 5ms/step - loss: 154.3538\n",
      "Epoch 59/100\n",
      "10/10 [==============================] - 0s 6ms/step - loss: 137.2477\n",
      "Epoch 60/100\n",
      "10/10 [==============================] - 0s 5ms/step - loss: 122.5306\n",
      "Epoch 61/100\n",
      "10/10 [==============================] - 0s 7ms/step - loss: 117.2181\n",
      "Epoch 62/100\n",
      "10/10 [==============================] - 0s 5ms/step - loss: 105.4579\n",
      "Epoch 63/100\n",
      "10/10 [==============================] - 0s 6ms/step - loss: 127.6911\n",
      "Epoch 64/100\n",
      "10/10 [==============================] - 0s 10ms/step - loss: 131.6886\n",
      "Epoch 65/100\n",
      "10/10 [==============================] - 0s 6ms/step - loss: 129.4707\n",
      "Epoch 66/100\n",
      "10/10 [==============================] - 0s 5ms/step - loss: 110.5748\n",
      "Epoch 67/100\n",
      "10/10 [==============================] - 0s 7ms/step - loss: 107.8305\n",
      "Epoch 68/100\n",
      "10/10 [==============================] - 0s 6ms/step - loss: 104.8287\n",
      "Epoch 69/100\n",
      "10/10 [==============================] - 0s 5ms/step - loss: 110.7268\n",
      "Epoch 70/100\n",
      "10/10 [==============================] - 0s 6ms/step - loss: 106.7040\n",
      "Epoch 71/100\n",
      "10/10 [==============================] - 0s 5ms/step - loss: 118.7562\n",
      "Epoch 72/100\n",
      "10/10 [==============================] - 0s 6ms/step - loss: 111.9872\n",
      "Epoch 73/100\n",
      "10/10 [==============================] - 0s 5ms/step - loss: 96.4757\n",
      "Epoch 74/100\n",
      "10/10 [==============================] - 0s 7ms/step - loss: 102.7383\n",
      "Epoch 75/100\n",
      "10/10 [==============================] - 0s 5ms/step - loss: 105.5912\n",
      "Epoch 76/100\n",
      "10/10 [==============================] - 0s 5ms/step - loss: 101.4038\n",
      "Epoch 77/100\n",
      "10/10 [==============================] - 0s 7ms/step - loss: 114.5787\n",
      "Epoch 78/100\n",
      "10/10 [==============================] - 0s 6ms/step - loss: 107.6109\n",
      "Epoch 79/100\n",
      "10/10 [==============================] - 0s 5ms/step - loss: 107.8594\n",
      "Epoch 80/100\n",
      "10/10 [==============================] - 0s 7ms/step - loss: 110.1977\n",
      "Epoch 81/100\n",
      "10/10 [==============================] - 0s 8ms/step - loss: 131.9735\n",
      "Epoch 82/100\n",
      "10/10 [==============================] - 0s 6ms/step - loss: 121.6626\n",
      "Epoch 83/100\n",
      "10/10 [==============================] - 0s 6ms/step - loss: 108.6171\n",
      "Epoch 84/100\n",
      "10/10 [==============================] - 0s 5ms/step - loss: 102.5165\n",
      "Epoch 85/100\n",
      "10/10 [==============================] - 0s 5ms/step - loss: 98.1282\n",
      "Epoch 86/100\n",
      "10/10 [==============================] - 0s 5ms/step - loss: 99.3857\n",
      "Epoch 87/100\n",
      "10/10 [==============================] - 0s 5ms/step - loss: 117.5080\n",
      "Epoch 88/100\n",
      "10/10 [==============================] - 0s 8ms/step - loss: 97.1156\n",
      "Epoch 89/100\n",
      "10/10 [==============================] - 0s 6ms/step - loss: 109.6052\n",
      "Epoch 90/100\n",
      "10/10 [==============================] - 0s 7ms/step - loss: 95.9456\n",
      "Epoch 91/100\n",
      "10/10 [==============================] - 0s 5ms/step - loss: 96.2784\n",
      "Epoch 92/100\n",
      "10/10 [==============================] - 0s 8ms/step - loss: 100.5244\n",
      "Epoch 93/100\n",
      "10/10 [==============================] - 0s 6ms/step - loss: 140.3383\n",
      "Epoch 94/100\n",
      "10/10 [==============================] - 0s 8ms/step - loss: 104.0735\n",
      "Epoch 95/100\n",
      "10/10 [==============================] - 0s 5ms/step - loss: 100.1123\n",
      "Epoch 96/100\n",
      "10/10 [==============================] - 0s 7ms/step - loss: 105.0093\n",
      "Epoch 97/100\n",
      "10/10 [==============================] - 0s 5ms/step - loss: 118.2174\n",
      "Epoch 98/100\n",
      "10/10 [==============================] - 0s 8ms/step - loss: 106.0119\n",
      "Epoch 99/100\n",
      "10/10 [==============================] - 0s 6ms/step - loss: 97.5957\n",
      "Epoch 100/100\n",
      "10/10 [==============================] - 0s 7ms/step - loss: 95.9633\n",
      "1000\n",
      "95.96334838867188\n",
      "95.96334838867188 7\n",
      "Epoch 1/100\n",
      "10/10 [==============================] - 1s 4ms/step - loss: 296756.4375\n",
      "Epoch 2/100\n",
      "10/10 [==============================] - 0s 5ms/step - loss: 296745.5938\n",
      "Epoch 3/100\n",
      "10/10 [==============================] - 0s 4ms/step - loss: 296734.4688\n",
      "Epoch 4/100\n",
      "10/10 [==============================] - 0s 6ms/step - loss: 296723.5625\n",
      "Epoch 5/100\n",
      "10/10 [==============================] - 0s 6ms/step - loss: 296713.6875\n",
      "Epoch 6/100\n",
      "10/10 [==============================] - 0s 5ms/step - loss: 296702.8438\n",
      "Epoch 7/100\n",
      "10/10 [==============================] - 0s 4ms/step - loss: 296691.2188\n",
      "Epoch 8/100\n",
      "10/10 [==============================] - 0s 7ms/step - loss: 296680.3750\n",
      "Epoch 9/100\n",
      "10/10 [==============================] - 0s 5ms/step - loss: 296669.3438\n",
      "Epoch 10/100\n",
      "10/10 [==============================] - 0s 5ms/step - loss: 296658.7188\n",
      "Epoch 11/100\n",
      "10/10 [==============================] - 0s 7ms/step - loss: 296648.0312\n",
      "Epoch 12/100\n",
      "10/10 [==============================] - 0s 5ms/step - loss: 296637.7188\n",
      "Epoch 13/100\n",
      "10/10 [==============================] - 0s 7ms/step - loss: 296626.1562\n",
      "Epoch 14/100\n",
      "10/10 [==============================] - 0s 4ms/step - loss: 296615.2188\n",
      "Epoch 15/100\n",
      "10/10 [==============================] - 0s 6ms/step - loss: 296605.2500\n",
      "Epoch 16/100\n",
      "10/10 [==============================] - 0s 5ms/step - loss: 296594.4375\n",
      "Epoch 17/100\n",
      "10/10 [==============================] - 0s 8ms/step - loss: 296583.0625\n",
      "Epoch 18/100\n",
      "10/10 [==============================] - 0s 8ms/step - loss: 296571.9375\n",
      "Epoch 19/100\n",
      "10/10 [==============================] - 0s 7ms/step - loss: 296561.2812\n",
      "Epoch 20/100\n",
      "10/10 [==============================] - 0s 9ms/step - loss: 296550.5938\n",
      "Epoch 21/100\n",
      "10/10 [==============================] - 0s 9ms/step - loss: 296539.2500\n",
      "Epoch 22/100\n",
      "10/10 [==============================] - 0s 8ms/step - loss: 296528.7812\n",
      "Epoch 23/100\n",
      "10/10 [==============================] - 0s 9ms/step - loss: 296517.7188\n",
      "Epoch 24/100\n",
      "10/10 [==============================] - 0s 8ms/step - loss: 296507.1250\n",
      "Epoch 25/100\n",
      "10/10 [==============================] - 0s 7ms/step - loss: 296496.5312\n",
      "Epoch 26/100\n",
      "10/10 [==============================] - 0s 7ms/step - loss: 296485.5625\n",
      "Epoch 27/100\n",
      "10/10 [==============================] - 0s 9ms/step - loss: 296474.5625\n",
      "Epoch 28/100\n",
      "10/10 [==============================] - 0s 9ms/step - loss: 296463.6875\n",
      "Epoch 29/100\n",
      "10/10 [==============================] - 0s 8ms/step - loss: 296452.6875\n",
      "Epoch 30/100\n",
      "10/10 [==============================] - 0s 8ms/step - loss: 296441.8750\n",
      "Epoch 31/100\n",
      "10/10 [==============================] - 0s 8ms/step - loss: 296430.7812\n",
      "Epoch 32/100\n",
      "10/10 [==============================] - 0s 8ms/step - loss: 296419.9062\n",
      "Epoch 33/100\n",
      "10/10 [==============================] - 0s 8ms/step - loss: 296409.4062\n",
      "Epoch 34/100\n",
      "10/10 [==============================] - 0s 7ms/step - loss: 296398.9375\n",
      "Epoch 35/100\n",
      "10/10 [==============================] - 0s 4ms/step - loss: 296387.9688\n",
      "Epoch 36/100\n",
      "10/10 [==============================] - 0s 3ms/step - loss: 296377.4062\n",
      "Epoch 37/100\n",
      "10/10 [==============================] - 0s 3ms/step - loss: 296366.7188\n",
      "Epoch 38/100\n",
      "10/10 [==============================] - 0s 3ms/step - loss: 296355.5938\n",
      "Epoch 39/100\n",
      "10/10 [==============================] - 0s 3ms/step - loss: 296345.0312\n",
      "Epoch 40/100\n",
      "10/10 [==============================] - 0s 3ms/step - loss: 296333.3750\n",
      "Epoch 41/100\n",
      "10/10 [==============================] - 0s 2ms/step - loss: 296322.6562\n",
      "Epoch 42/100\n",
      "10/10 [==============================] - 0s 4ms/step - loss: 296312.3125\n",
      "Epoch 43/100\n",
      "10/10 [==============================] - 0s 3ms/step - loss: 296301.2188\n",
      "Epoch 44/100\n",
      "10/10 [==============================] - 0s 2ms/step - loss: 296290.0312\n",
      "Epoch 45/100\n",
      "10/10 [==============================] - 0s 2ms/step - loss: 296279.0625\n",
      "Epoch 46/100\n",
      "10/10 [==============================] - 0s 2ms/step - loss: 296268.2812\n",
      "Epoch 47/100\n",
      "10/10 [==============================] - 0s 2ms/step - loss: 296258.2188\n",
      "Epoch 48/100\n",
      "10/10 [==============================] - 0s 2ms/step - loss: 296246.9062\n",
      "Epoch 49/100\n",
      "10/10 [==============================] - 0s 3ms/step - loss: 296235.6875\n",
      "Epoch 50/100\n",
      "10/10 [==============================] - 0s 3ms/step - loss: 296224.8438\n",
      "Epoch 51/100\n",
      "10/10 [==============================] - 0s 2ms/step - loss: 296214.6562\n",
      "Epoch 52/100\n",
      "10/10 [==============================] - 0s 3ms/step - loss: 296203.7812\n",
      "Epoch 53/100\n",
      "10/10 [==============================] - 0s 2ms/step - loss: 296193.0312\n",
      "Epoch 54/100\n",
      "10/10 [==============================] - 0s 3ms/step - loss: 296181.5312\n",
      "Epoch 55/100\n",
      "10/10 [==============================] - 0s 3ms/step - loss: 296171.5000\n",
      "Epoch 56/100\n",
      "10/10 [==============================] - 0s 2ms/step - loss: 296160.4062\n",
      "Epoch 57/100\n",
      "10/10 [==============================] - 0s 3ms/step - loss: 296149.8438\n",
      "Epoch 58/100\n",
      "10/10 [==============================] - 0s 2ms/step - loss: 296138.6250\n",
      "Epoch 59/100\n",
      "10/10 [==============================] - 0s 2ms/step - loss: 296127.4375\n",
      "Epoch 60/100\n",
      "10/10 [==============================] - 0s 3ms/step - loss: 296116.9062\n",
      "Epoch 61/100\n",
      "10/10 [==============================] - 0s 2ms/step - loss: 296105.5312\n",
      "Epoch 62/100\n",
      "10/10 [==============================] - 0s 2ms/step - loss: 296095.0938\n",
      "Epoch 63/100\n",
      "10/10 [==============================] - 0s 5ms/step - loss: 296084.5312\n",
      "Epoch 64/100\n",
      "10/10 [==============================] - 0s 2ms/step - loss: 296074.0312\n",
      "Epoch 65/100\n",
      "10/10 [==============================] - 0s 2ms/step - loss: 296063.0625\n",
      "Epoch 66/100\n",
      "10/10 [==============================] - 0s 3ms/step - loss: 296052.1250\n",
      "Epoch 67/100\n",
      "10/10 [==============================] - 0s 2ms/step - loss: 296040.9688\n",
      "Epoch 68/100\n",
      "10/10 [==============================] - 0s 2ms/step - loss: 296030.7812\n",
      "Epoch 69/100\n",
      "10/10 [==============================] - 0s 3ms/step - loss: 296019.4375\n",
      "Epoch 70/100\n",
      "10/10 [==============================] - 0s 2ms/step - loss: 296008.7812\n",
      "Epoch 71/100\n",
      "10/10 [==============================] - 0s 2ms/step - loss: 295997.5625\n",
      "Epoch 72/100\n",
      "10/10 [==============================] - 0s 2ms/step - loss: 295987.2500\n",
      "Epoch 73/100\n",
      "10/10 [==============================] - 0s 3ms/step - loss: 295975.7812\n",
      "Epoch 74/100\n",
      "10/10 [==============================] - 0s 3ms/step - loss: 295965.0938\n",
      "Epoch 75/100\n",
      "10/10 [==============================] - 0s 2ms/step - loss: 295954.1562\n",
      "Epoch 76/100\n",
      "10/10 [==============================] - 0s 3ms/step - loss: 295943.7812\n",
      "Epoch 77/100\n",
      "10/10 [==============================] - 0s 3ms/step - loss: 295932.3125\n",
      "Epoch 78/100\n",
      "10/10 [==============================] - 0s 3ms/step - loss: 295922.2188\n",
      "Epoch 79/100\n",
      "10/10 [==============================] - 0s 2ms/step - loss: 295911.1562\n",
      "Epoch 80/100\n",
      "10/10 [==============================] - 0s 3ms/step - loss: 295900.7500\n",
      "Epoch 81/100\n",
      "10/10 [==============================] - 0s 3ms/step - loss: 295889.1562\n",
      "Epoch 82/100\n",
      "10/10 [==============================] - 0s 2ms/step - loss: 295878.2188\n",
      "Epoch 83/100\n",
      "10/10 [==============================] - 0s 2ms/step - loss: 295867.7500\n",
      "Epoch 84/100\n",
      "10/10 [==============================] - 0s 3ms/step - loss: 295856.7812\n",
      "Epoch 85/100\n",
      "10/10 [==============================] - 0s 3ms/step - loss: 295846.2812\n",
      "Epoch 86/100\n",
      "10/10 [==============================] - 0s 3ms/step - loss: 295834.9062\n",
      "Epoch 87/100\n",
      "10/10 [==============================] - 0s 3ms/step - loss: 295824.3750\n",
      "Epoch 88/100\n",
      "10/10 [==============================] - 0s 3ms/step - loss: 295813.5312\n",
      "Epoch 89/100\n",
      "10/10 [==============================] - 0s 3ms/step - loss: 295802.4062\n",
      "Epoch 90/100\n",
      "10/10 [==============================] - 0s 3ms/step - loss: 295792.0000\n",
      "Epoch 91/100\n",
      "10/10 [==============================] - 0s 2ms/step - loss: 295780.7188\n",
      "Epoch 92/100\n",
      "10/10 [==============================] - 0s 3ms/step - loss: 295770.8125\n",
      "Epoch 93/100\n",
      "10/10 [==============================] - 0s 2ms/step - loss: 295759.0625\n",
      "Epoch 94/100\n",
      "10/10 [==============================] - 0s 3ms/step - loss: 295748.5000\n",
      "Epoch 95/100\n",
      "10/10 [==============================] - 0s 3ms/step - loss: 295737.7812\n",
      "Epoch 96/100\n",
      "10/10 [==============================] - 0s 2ms/step - loss: 295727.2812\n",
      "Epoch 97/100\n",
      "10/10 [==============================] - 0s 2ms/step - loss: 295716.2500\n",
      "Epoch 98/100\n",
      "10/10 [==============================] - 0s 5ms/step - loss: 295705.4375\n",
      "Epoch 99/100\n",
      "10/10 [==============================] - 0s 2ms/step - loss: 295694.9375\n",
      "Epoch 100/100\n",
      "10/10 [==============================] - 0s 2ms/step - loss: 295683.9375\n",
      "1000\n",
      "295683.9375\n",
      "95.96334838867188 6\n",
      "Epoch 1/100\n",
      "10/10 [==============================] - 1s 3ms/step - loss: 261246.6250\n",
      "Epoch 2/100\n",
      "10/10 [==============================] - 0s 2ms/step - loss: 257230.6875\n",
      "Epoch 3/100\n",
      "10/10 [==============================] - 0s 3ms/step - loss: 253060.9688\n",
      "Epoch 4/100\n",
      "10/10 [==============================] - 0s 2ms/step - loss: 249073.8438\n",
      "Epoch 5/100\n",
      "10/10 [==============================] - 0s 2ms/step - loss: 244370.1875\n",
      "Epoch 6/100\n",
      "10/10 [==============================] - 0s 3ms/step - loss: 239815.3438\n",
      "Epoch 7/100\n",
      "10/10 [==============================] - 0s 3ms/step - loss: 235163.2812\n",
      "Epoch 8/100\n",
      "10/10 [==============================] - 0s 3ms/step - loss: 188155.6250\n",
      "Epoch 9/100\n",
      "10/10 [==============================] - 0s 2ms/step - loss: 137097.6875\n",
      "Epoch 10/100\n",
      "10/10 [==============================] - 0s 2ms/step - loss: 31007.4922\n",
      "Epoch 11/100\n",
      "10/10 [==============================] - 0s 3ms/step - loss: 5521.3857\n",
      "Epoch 12/100\n",
      "10/10 [==============================] - 0s 3ms/step - loss: 660.0046\n",
      "Epoch 13/100\n",
      "10/10 [==============================] - 0s 3ms/step - loss: 1235.2249\n",
      "Epoch 14/100\n",
      "10/10 [==============================] - 0s 3ms/step - loss: 244.0761\n",
      "Epoch 15/100\n",
      "10/10 [==============================] - 0s 2ms/step - loss: 179.4750\n",
      "Epoch 16/100\n",
      "10/10 [==============================] - 0s 2ms/step - loss: 191.9326\n",
      "Epoch 17/100\n",
      "10/10 [==============================] - 0s 2ms/step - loss: 160.8753\n",
      "Epoch 18/100\n",
      "10/10 [==============================] - 0s 3ms/step - loss: 162.5557\n",
      "Epoch 19/100\n",
      "10/10 [==============================] - 0s 4ms/step - loss: 153.2364\n",
      "Epoch 20/100\n",
      "10/10 [==============================] - 0s 3ms/step - loss: 150.3374\n",
      "Epoch 21/100\n",
      "10/10 [==============================] - 0s 3ms/step - loss: 146.3976\n",
      "Epoch 22/100\n",
      "10/10 [==============================] - 0s 2ms/step - loss: 144.0584\n",
      "Epoch 23/100\n",
      "10/10 [==============================] - 0s 2ms/step - loss: 150.6980\n",
      "Epoch 24/100\n",
      "10/10 [==============================] - 0s 3ms/step - loss: 147.9635\n",
      "Epoch 25/100\n",
      "10/10 [==============================] - 0s 3ms/step - loss: 147.2539\n",
      "Epoch 26/100\n",
      "10/10 [==============================] - 0s 3ms/step - loss: 153.3183\n",
      "Epoch 27/100\n",
      "10/10 [==============================] - 0s 3ms/step - loss: 148.6383\n",
      "Epoch 28/100\n",
      "10/10 [==============================] - 0s 2ms/step - loss: 148.2028\n",
      "Epoch 29/100\n",
      "10/10 [==============================] - 0s 3ms/step - loss: 147.9019\n",
      "Epoch 30/100\n",
      "10/10 [==============================] - 0s 3ms/step - loss: 150.3929\n",
      "Epoch 31/100\n",
      "10/10 [==============================] - 0s 2ms/step - loss: 147.5032\n",
      "Epoch 32/100\n",
      "10/10 [==============================] - 0s 2ms/step - loss: 151.1423\n",
      "Epoch 33/100\n",
      "10/10 [==============================] - 0s 3ms/step - loss: 148.3985\n",
      "Epoch 34/100\n",
      "10/10 [==============================] - 0s 3ms/step - loss: 155.1431\n",
      "Epoch 35/100\n",
      "10/10 [==============================] - 0s 3ms/step - loss: 149.4694\n",
      "Epoch 36/100\n",
      "10/10 [==============================] - 0s 3ms/step - loss: 149.9881\n",
      "Epoch 37/100\n",
      "10/10 [==============================] - 0s 3ms/step - loss: 150.7145\n",
      "Epoch 38/100\n",
      "10/10 [==============================] - 0s 2ms/step - loss: 152.7465\n",
      "Epoch 39/100\n",
      "10/10 [==============================] - 0s 3ms/step - loss: 153.0926\n",
      "Epoch 40/100\n",
      "10/10 [==============================] - 0s 2ms/step - loss: 154.4732\n",
      "Epoch 41/100\n",
      "10/10 [==============================] - 0s 2ms/step - loss: 151.7181\n",
      "Epoch 42/100\n",
      "10/10 [==============================] - 0s 3ms/step - loss: 152.8665\n",
      "Epoch 43/100\n",
      "10/10 [==============================] - 0s 3ms/step - loss: 149.4510\n",
      "Epoch 44/100\n",
      "10/10 [==============================] - 0s 2ms/step - loss: 146.7305\n",
      "Epoch 45/100\n",
      "10/10 [==============================] - 0s 2ms/step - loss: 155.4541\n",
      "Epoch 46/100\n",
      "10/10 [==============================] - 0s 3ms/step - loss: 167.2556\n",
      "Epoch 47/100\n",
      "10/10 [==============================] - 0s 2ms/step - loss: 145.2756\n",
      "Epoch 48/100\n",
      "10/10 [==============================] - 0s 3ms/step - loss: 149.3154\n",
      "Epoch 49/100\n",
      "10/10 [==============================] - 0s 3ms/step - loss: 149.7782\n",
      "Epoch 50/100\n",
      "10/10 [==============================] - 0s 3ms/step - loss: 144.6235\n",
      "Epoch 51/100\n",
      "10/10 [==============================] - 0s 3ms/step - loss: 154.0533\n",
      "Epoch 52/100\n",
      "10/10 [==============================] - 0s 2ms/step - loss: 153.1254\n",
      "Epoch 53/100\n",
      "10/10 [==============================] - 0s 3ms/step - loss: 151.2266\n",
      "Epoch 54/100\n",
      "10/10 [==============================] - 0s 3ms/step - loss: 149.4777\n",
      "Epoch 55/100\n",
      "10/10 [==============================] - 0s 3ms/step - loss: 158.7153\n",
      "Epoch 56/100\n",
      "10/10 [==============================] - 0s 3ms/step - loss: 149.2054\n",
      "Epoch 57/100\n",
      "10/10 [==============================] - 0s 3ms/step - loss: 152.7718\n",
      "Epoch 58/100\n",
      "10/10 [==============================] - 0s 3ms/step - loss: 144.7956\n",
      "Epoch 59/100\n",
      "10/10 [==============================] - 0s 2ms/step - loss: 160.1271\n",
      "Epoch 60/100\n",
      "10/10 [==============================] - 0s 3ms/step - loss: 158.6470\n",
      "Epoch 61/100\n",
      "10/10 [==============================] - 0s 2ms/step - loss: 154.1167\n",
      "Epoch 62/100\n",
      "10/10 [==============================] - 0s 3ms/step - loss: 157.2491\n",
      "Epoch 63/100\n",
      "10/10 [==============================] - 0s 3ms/step - loss: 149.0628\n",
      "Epoch 64/100\n",
      "10/10 [==============================] - 0s 3ms/step - loss: 152.2256\n",
      "Epoch 65/100\n",
      "10/10 [==============================] - 0s 2ms/step - loss: 149.5068\n",
      "Epoch 66/100\n",
      "10/10 [==============================] - 0s 2ms/step - loss: 150.2443\n",
      "Epoch 67/100\n",
      "10/10 [==============================] - 0s 3ms/step - loss: 162.8313\n",
      "Epoch 68/100\n",
      "10/10 [==============================] - 0s 3ms/step - loss: 142.6063\n",
      "Epoch 69/100\n",
      "10/10 [==============================] - 0s 3ms/step - loss: 161.5321\n",
      "Epoch 70/100\n",
      "10/10 [==============================] - 0s 3ms/step - loss: 154.6358\n",
      "Epoch 71/100\n",
      "10/10 [==============================] - 0s 3ms/step - loss: 148.3130\n",
      "Epoch 72/100\n",
      "10/10 [==============================] - 0s 2ms/step - loss: 165.7142\n",
      "Epoch 73/100\n",
      "10/10 [==============================] - 0s 3ms/step - loss: 146.8245\n",
      "Epoch 74/100\n",
      "10/10 [==============================] - 0s 2ms/step - loss: 155.9152\n",
      "Epoch 75/100\n",
      "10/10 [==============================] - 0s 2ms/step - loss: 144.7620\n",
      "Epoch 76/100\n",
      "10/10 [==============================] - 0s 3ms/step - loss: 153.2242\n",
      "Epoch 77/100\n",
      "10/10 [==============================] - 0s 2ms/step - loss: 150.6223\n",
      "Epoch 78/100\n",
      "10/10 [==============================] - 0s 2ms/step - loss: 148.0659\n",
      "Epoch 79/100\n",
      "10/10 [==============================] - 0s 3ms/step - loss: 147.6527\n",
      "Epoch 80/100\n",
      "10/10 [==============================] - 0s 5ms/step - loss: 154.2571\n",
      "Epoch 81/100\n",
      "10/10 [==============================] - 0s 2ms/step - loss: 143.1006\n",
      "Epoch 82/100\n",
      "10/10 [==============================] - 0s 2ms/step - loss: 149.9118\n",
      "Epoch 83/100\n",
      "10/10 [==============================] - 0s 2ms/step - loss: 154.1126\n",
      "Epoch 84/100\n",
      "10/10 [==============================] - 0s 3ms/step - loss: 168.5069\n",
      "Epoch 85/100\n",
      "10/10 [==============================] - 0s 3ms/step - loss: 140.6188\n",
      "Epoch 86/100\n",
      "10/10 [==============================] - 0s 3ms/step - loss: 155.0779\n",
      "Epoch 87/100\n",
      "10/10 [==============================] - 0s 3ms/step - loss: 156.9424\n",
      "Epoch 88/100\n",
      "10/10 [==============================] - 0s 2ms/step - loss: 146.5735\n",
      "Epoch 89/100\n",
      "10/10 [==============================] - 0s 3ms/step - loss: 154.5631\n",
      "Epoch 90/100\n",
      "10/10 [==============================] - 0s 3ms/step - loss: 161.3315\n",
      "Epoch 91/100\n",
      "10/10 [==============================] - 0s 2ms/step - loss: 149.3690\n",
      "Epoch 92/100\n",
      "10/10 [==============================] - 0s 2ms/step - loss: 147.6582\n",
      "Epoch 93/100\n",
      "10/10 [==============================] - 0s 2ms/step - loss: 146.5428\n",
      "Epoch 94/100\n",
      "10/10 [==============================] - 0s 3ms/step - loss: 153.9239\n",
      "Epoch 95/100\n",
      "10/10 [==============================] - 0s 3ms/step - loss: 163.6951\n",
      "Epoch 96/100\n",
      "10/10 [==============================] - 0s 2ms/step - loss: 156.6650\n",
      "Epoch 97/100\n",
      "10/10 [==============================] - 0s 2ms/step - loss: 155.1887\n",
      "Epoch 98/100\n",
      "10/10 [==============================] - 0s 3ms/step - loss: 153.1959\n",
      "Epoch 99/100\n",
      "10/10 [==============================] - 0s 3ms/step - loss: 154.7019\n",
      "Epoch 100/100\n",
      "10/10 [==============================] - 0s 3ms/step - loss: 147.8149\n",
      "1000\n",
      "147.8148651123047\n",
      "95.96334838867188 5\n",
      "Epoch 1/100\n",
      "10/10 [==============================] - 2s 3ms/step - loss: 286047.5312\n",
      "Epoch 2/100\n",
      "10/10 [==============================] - 0s 5ms/step - loss: 282271.6562\n",
      "Epoch 3/100\n",
      "10/10 [==============================] - 0s 5ms/step - loss: 278265.9375\n",
      "Epoch 4/100\n",
      "10/10 [==============================] - 0s 6ms/step - loss: 273926.4375\n",
      "Epoch 5/100\n",
      "10/10 [==============================] - 0s 6ms/step - loss: 269332.1875\n",
      "Epoch 6/100\n",
      "10/10 [==============================] - 0s 5ms/step - loss: 264145.5000\n",
      "Epoch 7/100\n",
      "10/10 [==============================] - 0s 7ms/step - loss: 258528.8594\n",
      "Epoch 8/100\n",
      "10/10 [==============================] - 0s 7ms/step - loss: 252834.3438\n",
      "Epoch 9/100\n",
      "10/10 [==============================] - 0s 6ms/step - loss: 246284.1094\n",
      "Epoch 10/100\n",
      "10/10 [==============================] - 0s 5ms/step - loss: 239814.5625\n",
      "Epoch 11/100\n",
      "10/10 [==============================] - 0s 5ms/step - loss: 231806.3125\n",
      "Epoch 12/100\n",
      "10/10 [==============================] - 0s 7ms/step - loss: 224143.2188\n",
      "Epoch 13/100\n",
      "10/10 [==============================] - 0s 5ms/step - loss: 215286.5156\n",
      "Epoch 14/100\n",
      "10/10 [==============================] - 0s 5ms/step - loss: 206171.0312\n",
      "Epoch 15/100\n",
      "10/10 [==============================] - 0s 3ms/step - loss: 196227.0781\n",
      "Epoch 16/100\n",
      "10/10 [==============================] - 0s 4ms/step - loss: 185841.8594\n",
      "Epoch 17/100\n",
      "10/10 [==============================] - 0s 5ms/step - loss: 174360.1094\n",
      "Epoch 18/100\n",
      "10/10 [==============================] - 0s 6ms/step - loss: 163001.9844\n",
      "Epoch 19/100\n",
      "10/10 [==============================] - 0s 5ms/step - loss: 151309.5781\n",
      "Epoch 20/100\n",
      "10/10 [==============================] - 0s 6ms/step - loss: 137611.3906\n",
      "Epoch 21/100\n",
      "10/10 [==============================] - 0s 4ms/step - loss: 123935.9141\n",
      "Epoch 22/100\n",
      "10/10 [==============================] - 0s 7ms/step - loss: 110802.4922\n",
      "Epoch 23/100\n",
      "10/10 [==============================] - 0s 5ms/step - loss: 96979.1797\n",
      "Epoch 24/100\n",
      "10/10 [==============================] - 0s 4ms/step - loss: 82635.4297\n",
      "Epoch 25/100\n",
      "10/10 [==============================] - 0s 8ms/step - loss: 68654.1562\n",
      "Epoch 26/100\n",
      "10/10 [==============================] - 0s 5ms/step - loss: 54808.6953\n",
      "Epoch 27/100\n",
      "10/10 [==============================] - 0s 6ms/step - loss: 42207.6953\n",
      "Epoch 28/100\n",
      "10/10 [==============================] - 0s 7ms/step - loss: 30912.4570\n",
      "Epoch 29/100\n",
      "10/10 [==============================] - 0s 5ms/step - loss: 21657.2559\n",
      "Epoch 30/100\n",
      "10/10 [==============================] - 0s 7ms/step - loss: 14043.5166\n",
      "Epoch 31/100\n",
      "10/10 [==============================] - 0s 5ms/step - loss: 8091.8032\n",
      "Epoch 32/100\n",
      "10/10 [==============================] - 0s 5ms/step - loss: 4194.0952\n",
      "Epoch 33/100\n",
      "10/10 [==============================] - 0s 7ms/step - loss: 1809.7820\n",
      "Epoch 34/100\n",
      "10/10 [==============================] - 0s 5ms/step - loss: 798.0378\n",
      "Epoch 35/100\n",
      "10/10 [==============================] - 0s 6ms/step - loss: 298.4845\n",
      "Epoch 36/100\n",
      "10/10 [==============================] - 0s 5ms/step - loss: 178.6432\n",
      "Epoch 37/100\n",
      "10/10 [==============================] - 0s 6ms/step - loss: 137.6808\n",
      "Epoch 38/100\n",
      "10/10 [==============================] - 0s 6ms/step - loss: 140.5265\n",
      "Epoch 39/100\n",
      "10/10 [==============================] - 0s 7ms/step - loss: 145.5949\n",
      "Epoch 40/100\n",
      "10/10 [==============================] - 0s 4ms/step - loss: 143.2320\n",
      "Epoch 41/100\n",
      "10/10 [==============================] - 0s 6ms/step - loss: 142.9915\n",
      "Epoch 42/100\n",
      "10/10 [==============================] - 0s 5ms/step - loss: 141.7290\n",
      "Epoch 43/100\n",
      "10/10 [==============================] - 0s 6ms/step - loss: 142.4418\n",
      "Epoch 44/100\n",
      "10/10 [==============================] - 0s 6ms/step - loss: 141.8841\n",
      "Epoch 45/100\n",
      "10/10 [==============================] - 0s 6ms/step - loss: 141.7513\n",
      "Epoch 46/100\n",
      "10/10 [==============================] - 0s 5ms/step - loss: 142.2826\n",
      "Epoch 47/100\n",
      "10/10 [==============================] - 0s 6ms/step - loss: 141.4847\n",
      "Epoch 48/100\n",
      "10/10 [==============================] - 0s 4ms/step - loss: 141.8826\n",
      "Epoch 49/100\n",
      "10/10 [==============================] - 0s 5ms/step - loss: 142.3206\n",
      "Epoch 50/100\n",
      "10/10 [==============================] - 0s 5ms/step - loss: 143.3473\n",
      "Epoch 51/100\n",
      "10/10 [==============================] - 0s 5ms/step - loss: 142.0688\n",
      "Epoch 52/100\n",
      "10/10 [==============================] - 0s 6ms/step - loss: 141.6183\n",
      "Epoch 53/100\n",
      "10/10 [==============================] - 0s 5ms/step - loss: 142.5467\n",
      "Epoch 54/100\n",
      "10/10 [==============================] - 0s 7ms/step - loss: 141.8640\n",
      "Epoch 55/100\n",
      "10/10 [==============================] - 0s 5ms/step - loss: 142.4817\n",
      "Epoch 56/100\n",
      "10/10 [==============================] - 0s 4ms/step - loss: 143.3683\n",
      "Epoch 57/100\n",
      "10/10 [==============================] - 0s 6ms/step - loss: 142.0653\n",
      "Epoch 58/100\n",
      "10/10 [==============================] - 0s 5ms/step - loss: 143.0916\n",
      "Epoch 59/100\n",
      "10/10 [==============================] - 0s 5ms/step - loss: 142.4187\n",
      "Epoch 60/100\n",
      "10/10 [==============================] - 0s 6ms/step - loss: 141.7372\n",
      "Epoch 61/100\n",
      "10/10 [==============================] - 0s 6ms/step - loss: 141.9308\n",
      "Epoch 62/100\n",
      "10/10 [==============================] - 0s 4ms/step - loss: 141.7867\n",
      "Epoch 63/100\n",
      "10/10 [==============================] - 0s 6ms/step - loss: 142.1139\n",
      "Epoch 64/100\n",
      "10/10 [==============================] - 0s 6ms/step - loss: 142.0272\n",
      "Epoch 65/100\n",
      "10/10 [==============================] - 0s 6ms/step - loss: 143.3821\n",
      "Epoch 66/100\n",
      "10/10 [==============================] - 0s 6ms/step - loss: 142.3141\n",
      "Epoch 67/100\n",
      "10/10 [==============================] - 0s 6ms/step - loss: 142.1987\n",
      "Epoch 68/100\n",
      "10/10 [==============================] - 0s 5ms/step - loss: 143.2588\n",
      "Epoch 69/100\n",
      "10/10 [==============================] - 0s 6ms/step - loss: 142.4109\n",
      "Epoch 70/100\n",
      "10/10 [==============================] - 0s 4ms/step - loss: 143.1236\n",
      "Epoch 71/100\n",
      "10/10 [==============================] - 0s 7ms/step - loss: 142.1129\n",
      "Epoch 72/100\n",
      "10/10 [==============================] - 0s 6ms/step - loss: 141.7689\n",
      "Epoch 73/100\n",
      "10/10 [==============================] - 0s 7ms/step - loss: 141.9675\n",
      "Epoch 74/100\n",
      "10/10 [==============================] - 0s 6ms/step - loss: 142.0439\n",
      "Epoch 75/100\n",
      "10/10 [==============================] - 0s 6ms/step - loss: 142.0344\n",
      "Epoch 76/100\n",
      "10/10 [==============================] - 0s 5ms/step - loss: 143.1743\n",
      "Epoch 77/100\n",
      "10/10 [==============================] - 0s 6ms/step - loss: 143.1994\n",
      "Epoch 78/100\n",
      "10/10 [==============================] - 0s 5ms/step - loss: 142.0957\n",
      "Epoch 79/100\n",
      "10/10 [==============================] - 0s 6ms/step - loss: 142.9027\n",
      "Epoch 80/100\n",
      "10/10 [==============================] - 0s 7ms/step - loss: 141.6108\n",
      "Epoch 81/100\n",
      "10/10 [==============================] - 0s 5ms/step - loss: 141.6857\n",
      "Epoch 82/100\n",
      "10/10 [==============================] - 0s 6ms/step - loss: 141.7792\n",
      "Epoch 83/100\n",
      "10/10 [==============================] - 0s 4ms/step - loss: 142.1035\n",
      "Epoch 84/100\n",
      "10/10 [==============================] - 0s 5ms/step - loss: 142.5736\n",
      "Epoch 85/100\n",
      "10/10 [==============================] - 0s 5ms/step - loss: 142.7160\n",
      "Epoch 86/100\n",
      "10/10 [==============================] - 0s 10ms/step - loss: 143.0794\n",
      "Epoch 87/100\n",
      "10/10 [==============================] - 0s 5ms/step - loss: 142.9481\n",
      "Epoch 88/100\n",
      "10/10 [==============================] - 0s 4ms/step - loss: 141.8685\n",
      "Epoch 89/100\n",
      "10/10 [==============================] - 0s 5ms/step - loss: 141.5814\n",
      "Epoch 90/100\n",
      "10/10 [==============================] - 0s 5ms/step - loss: 142.3878\n",
      "Epoch 91/100\n",
      "10/10 [==============================] - 0s 5ms/step - loss: 141.9321\n",
      "Epoch 92/100\n",
      "10/10 [==============================] - 0s 7ms/step - loss: 142.4379\n",
      "Epoch 93/100\n",
      "10/10 [==============================] - 0s 6ms/step - loss: 142.9719\n",
      "Epoch 94/100\n",
      "10/10 [==============================] - 0s 8ms/step - loss: 142.0563\n",
      "Epoch 95/100\n",
      "10/10 [==============================] - 0s 6ms/step - loss: 142.6800\n",
      "Epoch 96/100\n",
      "10/10 [==============================] - 0s 9ms/step - loss: 142.8676\n",
      "Epoch 97/100\n",
      "10/10 [==============================] - 0s 5ms/step - loss: 141.8933\n",
      "Epoch 98/100\n",
      "10/10 [==============================] - 0s 4ms/step - loss: 142.8312\n",
      "Epoch 99/100\n",
      "10/10 [==============================] - 0s 6ms/step - loss: 144.2783\n",
      "Epoch 100/100\n",
      "10/10 [==============================] - 0s 3ms/step - loss: 144.3427\n",
      "1000\n",
      "144.3426971435547\n",
      "95.96334838867188 4\n",
      "Epoch 1/100\n",
      "10/10 [==============================] - 1s 3ms/step - loss: 504059.5312\n",
      "Epoch 2/100\n",
      "10/10 [==============================] - 0s 4ms/step - loss: 464893.3438\n",
      "Epoch 3/100\n",
      "10/10 [==============================] - 0s 4ms/step - loss: 417940.3750\n",
      "Epoch 4/100\n",
      "10/10 [==============================] - 0s 5ms/step - loss: 298723.5312\n",
      "Epoch 5/100\n",
      "10/10 [==============================] - 0s 4ms/step - loss: 211000.6094\n",
      "Epoch 6/100\n",
      "10/10 [==============================] - 0s 7ms/step - loss: 176383.4688\n",
      "Epoch 7/100\n",
      "10/10 [==============================] - 0s 4ms/step - loss: 171742.2344\n",
      "Epoch 8/100\n",
      "10/10 [==============================] - 0s 5ms/step - loss: 144617.0781\n",
      "Epoch 9/100\n",
      "10/10 [==============================] - 0s 5ms/step - loss: 131541.0000\n",
      "Epoch 10/100\n",
      "10/10 [==============================] - 0s 6ms/step - loss: 119407.4609\n",
      "Epoch 11/100\n",
      "10/10 [==============================] - 0s 6ms/step - loss: 103402.3359\n",
      "Epoch 12/100\n",
      "10/10 [==============================] - 0s 7ms/step - loss: 89356.7109\n",
      "Epoch 13/100\n",
      "10/10 [==============================] - 0s 6ms/step - loss: 75952.7109\n",
      "Epoch 14/100\n",
      "10/10 [==============================] - 0s 5ms/step - loss: 64165.9219\n",
      "Epoch 15/100\n",
      "10/10 [==============================] - 0s 6ms/step - loss: 52849.1328\n",
      "Epoch 16/100\n",
      "10/10 [==============================] - 0s 7ms/step - loss: 41951.8750\n",
      "Epoch 17/100\n",
      "10/10 [==============================] - 0s 6ms/step - loss: 33539.0117\n",
      "Epoch 18/100\n",
      "10/10 [==============================] - 0s 7ms/step - loss: 26351.9258\n",
      "Epoch 19/100\n",
      "10/10 [==============================] - 0s 6ms/step - loss: 20466.4375\n",
      "Epoch 20/100\n",
      "10/10 [==============================] - 0s 5ms/step - loss: 14643.9961\n",
      "Epoch 21/100\n",
      "10/10 [==============================] - 0s 6ms/step - loss: 11038.1182\n",
      "Epoch 22/100\n",
      "10/10 [==============================] - 0s 5ms/step - loss: 7748.8472\n",
      "Epoch 23/100\n",
      "10/10 [==============================] - 0s 10ms/step - loss: 5282.6177\n",
      "Epoch 24/100\n",
      "10/10 [==============================] - 0s 5ms/step - loss: 3800.0447\n",
      "Epoch 25/100\n",
      "10/10 [==============================] - 0s 6ms/step - loss: 2752.2939\n",
      "Epoch 26/100\n",
      "10/10 [==============================] - 0s 5ms/step - loss: 2112.4617\n",
      "Epoch 27/100\n",
      "10/10 [==============================] - 0s 6ms/step - loss: 4371.6108\n",
      "Epoch 28/100\n",
      "10/10 [==============================] - 0s 5ms/step - loss: 2065.7866\n",
      "Epoch 29/100\n",
      "10/10 [==============================] - 0s 6ms/step - loss: 5863.9385\n",
      "Epoch 30/100\n",
      "10/10 [==============================] - 0s 5ms/step - loss: 3114.9426\n",
      "Epoch 31/100\n",
      "10/10 [==============================] - 0s 7ms/step - loss: 3061.4849\n",
      "Epoch 32/100\n",
      "10/10 [==============================] - 0s 5ms/step - loss: 1801.6414\n",
      "Epoch 33/100\n",
      "10/10 [==============================] - 0s 6ms/step - loss: 1530.2830\n",
      "Epoch 34/100\n",
      "10/10 [==============================] - 0s 5ms/step - loss: 1302.2053\n",
      "Epoch 35/100\n",
      "10/10 [==============================] - 0s 7ms/step - loss: 1721.4858\n",
      "Epoch 36/100\n",
      "10/10 [==============================] - 0s 5ms/step - loss: 3411.8286\n",
      "Epoch 37/100\n",
      "10/10 [==============================] - 0s 6ms/step - loss: 1498.2415\n",
      "Epoch 38/100\n",
      "10/10 [==============================] - 0s 7ms/step - loss: 1906.3160\n",
      "Epoch 39/100\n",
      "10/10 [==============================] - 0s 4ms/step - loss: 1922.7855\n",
      "Epoch 40/100\n",
      "10/10 [==============================] - 0s 6ms/step - loss: 1562.7667\n",
      "Epoch 41/100\n",
      "10/10 [==============================] - 0s 4ms/step - loss: 1377.3169\n",
      "Epoch 42/100\n",
      "10/10 [==============================] - 0s 5ms/step - loss: 1251.7185\n",
      "Epoch 43/100\n",
      "10/10 [==============================] - 0s 4ms/step - loss: 1333.3828\n",
      "Epoch 44/100\n",
      "10/10 [==============================] - 0s 4ms/step - loss: 1288.5935\n",
      "Epoch 45/100\n",
      "10/10 [==============================] - 0s 5ms/step - loss: 1169.3134\n",
      "Epoch 46/100\n",
      "10/10 [==============================] - 0s 4ms/step - loss: 1092.3169\n",
      "Epoch 47/100\n",
      "10/10 [==============================] - 0s 6ms/step - loss: 1171.4038\n",
      "Epoch 48/100\n",
      "10/10 [==============================] - 0s 5ms/step - loss: 1190.8131\n",
      "Epoch 49/100\n",
      "10/10 [==============================] - 0s 6ms/step - loss: 1193.4625\n",
      "Epoch 50/100\n",
      "10/10 [==============================] - 0s 6ms/step - loss: 1169.6030\n",
      "Epoch 51/100\n",
      "10/10 [==============================] - 0s 7ms/step - loss: 1131.4769\n",
      "Epoch 52/100\n",
      "10/10 [==============================] - 0s 4ms/step - loss: 1090.0388\n",
      "Epoch 53/100\n",
      "10/10 [==============================] - 0s 7ms/step - loss: 1128.3712\n",
      "Epoch 54/100\n",
      "10/10 [==============================] - 0s 5ms/step - loss: 1134.9019\n",
      "Epoch 55/100\n",
      "10/10 [==============================] - 0s 6ms/step - loss: 1116.0457\n",
      "Epoch 56/100\n",
      "10/10 [==============================] - 0s 5ms/step - loss: 1079.8876\n",
      "Epoch 57/100\n",
      "10/10 [==============================] - 0s 6ms/step - loss: 1102.8440\n",
      "Epoch 58/100\n",
      "10/10 [==============================] - 0s 6ms/step - loss: 1102.5605\n",
      "Epoch 59/100\n",
      "10/10 [==============================] - 0s 5ms/step - loss: 1090.6570\n",
      "Epoch 60/100\n",
      "10/10 [==============================] - 0s 7ms/step - loss: 1089.4740\n",
      "Epoch 61/100\n",
      "10/10 [==============================] - 0s 4ms/step - loss: 1097.1010\n",
      "Epoch 62/100\n",
      "10/10 [==============================] - 0s 7ms/step - loss: 1144.2343\n",
      "Epoch 63/100\n",
      "10/10 [==============================] - 0s 7ms/step - loss: 1116.6885\n",
      "Epoch 64/100\n",
      "10/10 [==============================] - 0s 4ms/step - loss: 1130.4453\n",
      "Epoch 65/100\n",
      "10/10 [==============================] - 0s 5ms/step - loss: 1090.3191\n",
      "Epoch 66/100\n",
      "10/10 [==============================] - 0s 4ms/step - loss: 1090.6516\n",
      "Epoch 67/100\n",
      "10/10 [==============================] - 0s 5ms/step - loss: 1082.9882\n",
      "Epoch 68/100\n",
      "10/10 [==============================] - 0s 4ms/step - loss: 1072.4712\n",
      "Epoch 69/100\n",
      "10/10 [==============================] - 0s 4ms/step - loss: 1237.9744\n",
      "Epoch 70/100\n",
      "10/10 [==============================] - 0s 5ms/step - loss: 1074.9531\n",
      "Epoch 71/100\n",
      "10/10 [==============================] - 0s 4ms/step - loss: 1073.5342\n",
      "Epoch 72/100\n",
      "10/10 [==============================] - 0s 5ms/step - loss: 1072.6058\n",
      "Epoch 73/100\n",
      "10/10 [==============================] - 0s 7ms/step - loss: 1057.9264\n",
      "Epoch 74/100\n",
      "10/10 [==============================] - 0s 4ms/step - loss: 1100.2919\n",
      "Epoch 75/100\n",
      "10/10 [==============================] - 0s 5ms/step - loss: 1054.4636\n",
      "Epoch 76/100\n",
      "10/10 [==============================] - 0s 8ms/step - loss: 1124.2679\n",
      "Epoch 77/100\n",
      "10/10 [==============================] - 0s 5ms/step - loss: 1077.9268\n",
      "Epoch 78/100\n",
      "10/10 [==============================] - 0s 6ms/step - loss: 1092.1212\n",
      "Epoch 79/100\n",
      "10/10 [==============================] - 0s 5ms/step - loss: 1083.7644\n",
      "Epoch 80/100\n",
      "10/10 [==============================] - 0s 6ms/step - loss: 1074.4028\n",
      "Epoch 81/100\n",
      "10/10 [==============================] - 0s 4ms/step - loss: 1064.6095\n",
      "Epoch 82/100\n",
      "10/10 [==============================] - 0s 6ms/step - loss: 1097.5181\n",
      "Epoch 83/100\n",
      "10/10 [==============================] - 0s 5ms/step - loss: 1109.6804\n",
      "Epoch 84/100\n",
      "10/10 [==============================] - 0s 6ms/step - loss: 1098.8470\n",
      "Epoch 85/100\n",
      "10/10 [==============================] - 0s 6ms/step - loss: 1360.8734\n",
      "Epoch 86/100\n",
      "10/10 [==============================] - 0s 5ms/step - loss: 1155.3602\n",
      "Epoch 87/100\n",
      "10/10 [==============================] - 0s 6ms/step - loss: 1056.7954\n",
      "Epoch 88/100\n",
      "10/10 [==============================] - 0s 8ms/step - loss: 1079.4957\n",
      "Epoch 89/100\n",
      "10/10 [==============================] - 0s 5ms/step - loss: 1080.8173\n",
      "Epoch 90/100\n",
      "10/10 [==============================] - 0s 5ms/step - loss: 1099.0094\n",
      "Epoch 91/100\n",
      "10/10 [==============================] - 0s 5ms/step - loss: 1148.8381\n",
      "Epoch 92/100\n",
      "10/10 [==============================] - 0s 5ms/step - loss: 1084.8667\n",
      "Epoch 93/100\n",
      "10/10 [==============================] - 0s 5ms/step - loss: 1074.0408\n",
      "Epoch 94/100\n",
      "10/10 [==============================] - 0s 6ms/step - loss: 1116.9669\n",
      "Epoch 95/100\n",
      "10/10 [==============================] - 0s 4ms/step - loss: 1135.9612\n",
      "Epoch 96/100\n",
      "10/10 [==============================] - 0s 5ms/step - loss: 1100.7167\n",
      "Epoch 97/100\n",
      "10/10 [==============================] - 0s 5ms/step - loss: 1087.4491\n",
      "Epoch 98/100\n",
      "10/10 [==============================] - 0s 5ms/step - loss: 1127.0896\n",
      "Epoch 99/100\n",
      "10/10 [==============================] - 0s 7ms/step - loss: 1115.5159\n",
      "Epoch 100/100\n",
      "10/10 [==============================] - 0s 5ms/step - loss: 1075.4954\n",
      "1000\n",
      "1075.495361328125\n",
      "95.96334838867188 3\n",
      "Epoch 1/100\n",
      "10/10 [==============================] - 1s 3ms/step - loss: 429967.9688\n",
      "Epoch 2/100\n",
      "10/10 [==============================] - 0s 4ms/step - loss: 386664.5625\n",
      "Epoch 3/100\n",
      "10/10 [==============================] - 0s 4ms/step - loss: 367254.1250\n",
      "Epoch 4/100\n",
      "10/10 [==============================] - 0s 5ms/step - loss: 349624.4688\n",
      "Epoch 5/100\n",
      "10/10 [==============================] - 0s 4ms/step - loss: 331639.2188\n",
      "Epoch 6/100\n",
      "10/10 [==============================] - 0s 4ms/step - loss: 314993.5625\n",
      "Epoch 7/100\n",
      "10/10 [==============================] - 0s 5ms/step - loss: 300160.5312\n",
      "Epoch 8/100\n",
      "10/10 [==============================] - 0s 5ms/step - loss: 284512.5625\n",
      "Epoch 9/100\n",
      "10/10 [==============================] - 0s 5ms/step - loss: 269209.1562\n",
      "Epoch 10/100\n",
      "10/10 [==============================] - 0s 6ms/step - loss: 254935.8438\n",
      "Epoch 11/100\n",
      "10/10 [==============================] - 0s 5ms/step - loss: 239675.6875\n",
      "Epoch 12/100\n",
      "10/10 [==============================] - 0s 7ms/step - loss: 298758.8750\n",
      "Epoch 13/100\n",
      "10/10 [==============================] - 0s 5ms/step - loss: 218816.3125\n",
      "Epoch 14/100\n",
      "10/10 [==============================] - 0s 6ms/step - loss: 214293.0312\n",
      "Epoch 15/100\n",
      "10/10 [==============================] - 0s 4ms/step - loss: 208718.8438\n",
      "Epoch 16/100\n",
      "10/10 [==============================] - 0s 4ms/step - loss: 203476.7031\n",
      "Epoch 17/100\n",
      "10/10 [==============================] - 0s 5ms/step - loss: 198930.6875\n",
      "Epoch 18/100\n",
      "10/10 [==============================] - 0s 5ms/step - loss: 194060.3125\n",
      "Epoch 19/100\n",
      "10/10 [==============================] - 0s 6ms/step - loss: 188911.5781\n",
      "Epoch 20/100\n",
      "10/10 [==============================] - 0s 5ms/step - loss: 184201.0938\n",
      "Epoch 21/100\n",
      "10/10 [==============================] - 0s 5ms/step - loss: 179754.3594\n",
      "Epoch 22/100\n",
      "10/10 [==============================] - 0s 6ms/step - loss: 174661.4688\n",
      "Epoch 23/100\n",
      "10/10 [==============================] - 0s 5ms/step - loss: 170207.8750\n",
      "Epoch 24/100\n",
      "10/10 [==============================] - 0s 7ms/step - loss: 165620.5469\n",
      "Epoch 25/100\n",
      "10/10 [==============================] - 0s 4ms/step - loss: 160798.8594\n",
      "Epoch 26/100\n",
      "10/10 [==============================] - 0s 7ms/step - loss: 156265.2031\n",
      "Epoch 27/100\n",
      "10/10 [==============================] - 0s 5ms/step - loss: 151840.5312\n",
      "Epoch 28/100\n",
      "10/10 [==============================] - 0s 7ms/step - loss: 147477.0469\n",
      "Epoch 29/100\n",
      "10/10 [==============================] - 0s 6ms/step - loss: 142571.7656\n",
      "Epoch 30/100\n",
      "10/10 [==============================] - 0s 5ms/step - loss: 138459.3906\n",
      "Epoch 31/100\n",
      "10/10 [==============================] - 0s 6ms/step - loss: 133793.2500\n",
      "Epoch 32/100\n",
      "10/10 [==============================] - 0s 4ms/step - loss: 129769.6484\n",
      "Epoch 33/100\n",
      "10/10 [==============================] - 0s 6ms/step - loss: 125144.0234\n",
      "Epoch 34/100\n",
      "10/10 [==============================] - 0s 5ms/step - loss: 121057.1016\n",
      "Epoch 35/100\n",
      "10/10 [==============================] - 0s 5ms/step - loss: 116950.4141\n",
      "Epoch 36/100\n",
      "10/10 [==============================] - 0s 5ms/step - loss: 112537.5938\n",
      "Epoch 37/100\n",
      "10/10 [==============================] - 0s 5ms/step - loss: 108618.6328\n",
      "Epoch 38/100\n",
      "10/10 [==============================] - 0s 4ms/step - loss: 104425.0781\n",
      "Epoch 39/100\n",
      "10/10 [==============================] - 0s 4ms/step - loss: 100408.8203\n",
      "Epoch 40/100\n",
      "10/10 [==============================] - 0s 4ms/step - loss: 96279.9531\n",
      "Epoch 41/100\n",
      "10/10 [==============================] - 0s 5ms/step - loss: 92351.4766\n",
      "Epoch 42/100\n",
      "10/10 [==============================] - 0s 4ms/step - loss: 516400.4062\n",
      "Epoch 43/100\n",
      "10/10 [==============================] - 0s 5ms/step - loss: 123305.9375\n",
      "Epoch 44/100\n",
      "10/10 [==============================] - 0s 5ms/step - loss: 110333.5938\n",
      "Epoch 45/100\n",
      "10/10 [==============================] - 0s 5ms/step - loss: 87164.2109\n",
      "Epoch 46/100\n",
      "10/10 [==============================] - 0s 5ms/step - loss: 86516.0156\n",
      "Epoch 47/100\n",
      "10/10 [==============================] - 0s 7ms/step - loss: 84675.8672\n",
      "Epoch 48/100\n",
      "10/10 [==============================] - 0s 9ms/step - loss: 82575.4453\n",
      "Epoch 49/100\n",
      "10/10 [==============================] - 0s 4ms/step - loss: 80189.2891\n",
      "Epoch 50/100\n",
      "10/10 [==============================] - 0s 8ms/step - loss: 77899.7031\n",
      "Epoch 51/100\n",
      "10/10 [==============================] - 0s 4ms/step - loss: 75510.8281\n",
      "Epoch 52/100\n",
      "10/10 [==============================] - 0s 7ms/step - loss: 73274.1016\n",
      "Epoch 53/100\n",
      "10/10 [==============================] - 0s 6ms/step - loss: 70897.2422\n",
      "Epoch 54/100\n",
      "10/10 [==============================] - 0s 5ms/step - loss: 68906.8516\n",
      "Epoch 55/100\n",
      "10/10 [==============================] - 0s 6ms/step - loss: 66791.7109\n",
      "Epoch 56/100\n",
      "10/10 [==============================] - 0s 5ms/step - loss: 64692.8125\n",
      "Epoch 57/100\n",
      "10/10 [==============================] - 0s 7ms/step - loss: 62609.4648\n",
      "Epoch 58/100\n",
      "10/10 [==============================] - 0s 5ms/step - loss: 60588.3984\n",
      "Epoch 59/100\n",
      "10/10 [==============================] - 0s 5ms/step - loss: 58579.5898\n",
      "Epoch 60/100\n",
      "10/10 [==============================] - 0s 8ms/step - loss: 56728.5586\n",
      "Epoch 61/100\n",
      "10/10 [==============================] - 0s 6ms/step - loss: 54917.4531\n",
      "Epoch 62/100\n",
      "10/10 [==============================] - 0s 4ms/step - loss: 53082.3125\n",
      "Epoch 63/100\n",
      "10/10 [==============================] - 0s 5ms/step - loss: 51337.3242\n",
      "Epoch 64/100\n",
      "10/10 [==============================] - 0s 3ms/step - loss: 49617.1367\n",
      "Epoch 65/100\n",
      "10/10 [==============================] - 0s 5ms/step - loss: 48027.5508\n",
      "Epoch 66/100\n",
      "10/10 [==============================] - 0s 4ms/step - loss: 46366.4102\n",
      "Epoch 67/100\n",
      "10/10 [==============================] - 0s 5ms/step - loss: 44797.8945\n",
      "Epoch 68/100\n",
      "10/10 [==============================] - 0s 5ms/step - loss: 43326.5195\n",
      "Epoch 69/100\n",
      "10/10 [==============================] - 0s 6ms/step - loss: 41822.7773\n",
      "Epoch 70/100\n",
      "10/10 [==============================] - 0s 5ms/step - loss: 40314.4141\n",
      "Epoch 71/100\n",
      "10/10 [==============================] - 0s 7ms/step - loss: 38947.2734\n",
      "Epoch 72/100\n",
      "10/10 [==============================] - 0s 6ms/step - loss: 37539.0000\n",
      "Epoch 73/100\n",
      "10/10 [==============================] - 0s 7ms/step - loss: 36274.8672\n",
      "Epoch 74/100\n",
      "10/10 [==============================] - 0s 6ms/step - loss: 35036.4570\n",
      "Epoch 75/100\n",
      "10/10 [==============================] - 0s 5ms/step - loss: 33780.0859\n",
      "Epoch 76/100\n",
      "10/10 [==============================] - 0s 5ms/step - loss: 32478.6934\n",
      "Epoch 77/100\n",
      "10/10 [==============================] - 0s 4ms/step - loss: 31321.0059\n",
      "Epoch 78/100\n",
      "10/10 [==============================] - 0s 5ms/step - loss: 30184.7305\n",
      "Epoch 79/100\n",
      "10/10 [==============================] - 0s 9ms/step - loss: 29052.4648\n",
      "Epoch 80/100\n",
      "10/10 [==============================] - 0s 5ms/step - loss: 27979.1035\n",
      "Epoch 81/100\n",
      "10/10 [==============================] - 0s 3ms/step - loss: 26966.8281\n",
      "Epoch 82/100\n",
      "10/10 [==============================] - 0s 4ms/step - loss: 25948.0879\n",
      "Epoch 83/100\n",
      "10/10 [==============================] - 0s 5ms/step - loss: 24963.3203\n",
      "Epoch 84/100\n",
      "10/10 [==============================] - 0s 5ms/step - loss: 23994.1660\n",
      "Epoch 85/100\n",
      "10/10 [==============================] - 0s 4ms/step - loss: 23088.8789\n",
      "Epoch 86/100\n",
      "10/10 [==============================] - 0s 7ms/step - loss: 22122.2773\n",
      "Epoch 87/100\n",
      "10/10 [==============================] - 0s 4ms/step - loss: 21304.3945\n",
      "Epoch 88/100\n",
      "10/10 [==============================] - 0s 7ms/step - loss: 20432.8438\n",
      "Epoch 89/100\n",
      "10/10 [==============================] - 0s 5ms/step - loss: 19674.9844\n",
      "Epoch 90/100\n",
      "10/10 [==============================] - 0s 4ms/step - loss: 18826.7070\n",
      "Epoch 91/100\n",
      "10/10 [==============================] - 0s 6ms/step - loss: 18093.1777\n",
      "Epoch 92/100\n",
      "10/10 [==============================] - 0s 5ms/step - loss: 17354.4941\n",
      "Epoch 93/100\n",
      "10/10 [==============================] - 0s 8ms/step - loss: 16685.6836\n",
      "Epoch 94/100\n",
      "10/10 [==============================] - 0s 5ms/step - loss: 15958.7227\n",
      "Epoch 95/100\n",
      "10/10 [==============================] - 0s 6ms/step - loss: 15294.3672\n",
      "Epoch 96/100\n",
      "10/10 [==============================] - 0s 6ms/step - loss: 14713.1914\n",
      "Epoch 97/100\n",
      "10/10 [==============================] - 0s 5ms/step - loss: 14105.7334\n",
      "Epoch 98/100\n",
      "10/10 [==============================] - 0s 6ms/step - loss: 13481.1621\n",
      "Epoch 99/100\n",
      "10/10 [==============================] - 0s 5ms/step - loss: 12922.6445\n",
      "Epoch 100/100\n",
      "10/10 [==============================] - 0s 6ms/step - loss: 12366.6309\n",
      "1000\n",
      "12366.630859375\n",
      "95.96334838867188 2\n",
      "Epoch 1/100\n",
      "10/10 [==============================] - 1s 3ms/step - loss: 296756.9375\n",
      "Epoch 2/100\n",
      "10/10 [==============================] - 0s 4ms/step - loss: 296745.6250\n",
      "Epoch 3/100\n",
      "10/10 [==============================] - 0s 7ms/step - loss: 296735.0938\n",
      "Epoch 4/100\n",
      "10/10 [==============================] - 0s 5ms/step - loss: 296724.4062\n",
      "Epoch 5/100\n",
      "10/10 [==============================] - 0s 5ms/step - loss: 296713.0625\n",
      "Epoch 6/100\n",
      "10/10 [==============================] - 0s 6ms/step - loss: 296701.7812\n",
      "Epoch 7/100\n",
      "10/10 [==============================] - 0s 6ms/step - loss: 296691.2500\n",
      "Epoch 8/100\n",
      "10/10 [==============================] - 0s 5ms/step - loss: 296680.4062\n",
      "Epoch 9/100\n",
      "10/10 [==============================] - 0s 7ms/step - loss: 296669.8438\n",
      "Epoch 10/100\n",
      "10/10 [==============================] - 0s 6ms/step - loss: 296658.7812\n",
      "Epoch 11/100\n",
      "10/10 [==============================] - 0s 5ms/step - loss: 296648.0938\n",
      "Epoch 12/100\n",
      "10/10 [==============================] - 0s 6ms/step - loss: 296637.2812\n",
      "Epoch 13/100\n",
      "10/10 [==============================] - 0s 5ms/step - loss: 296626.7500\n",
      "Epoch 14/100\n",
      "10/10 [==============================] - 0s 7ms/step - loss: 296615.2812\n",
      "Epoch 15/100\n",
      "10/10 [==============================] - 0s 5ms/step - loss: 296604.0938\n",
      "Epoch 16/100\n",
      "10/10 [==============================] - 0s 6ms/step - loss: 296593.1875\n",
      "Epoch 17/100\n",
      "10/10 [==============================] - 0s 3ms/step - loss: 296582.5938\n",
      "Epoch 18/100\n",
      "10/10 [==============================] - 0s 3ms/step - loss: 296571.6250\n",
      "Epoch 19/100\n",
      "10/10 [==============================] - 0s 4ms/step - loss: 296560.9688\n",
      "Epoch 20/100\n",
      "10/10 [==============================] - 0s 5ms/step - loss: 296550.5625\n",
      "Epoch 21/100\n",
      "10/10 [==============================] - 0s 4ms/step - loss: 296539.5312\n",
      "Epoch 22/100\n",
      "10/10 [==============================] - 0s 7ms/step - loss: 296528.2500\n",
      "Epoch 23/100\n",
      "10/10 [==============================] - 0s 5ms/step - loss: 296517.7812\n",
      "Epoch 24/100\n",
      "10/10 [==============================] - 0s 3ms/step - loss: 296506.5312\n",
      "Epoch 25/100\n",
      "10/10 [==============================] - 0s 3ms/step - loss: 296496.2500\n",
      "Epoch 26/100\n",
      "10/10 [==============================] - 0s 5ms/step - loss: 296484.8438\n",
      "Epoch 27/100\n",
      "10/10 [==============================] - 0s 6ms/step - loss: 296474.5938\n",
      "Epoch 28/100\n",
      "10/10 [==============================] - 0s 5ms/step - loss: 296463.1562\n",
      "Epoch 29/100\n",
      "10/10 [==============================] - 0s 3ms/step - loss: 296452.4688\n",
      "Epoch 30/100\n",
      "10/10 [==============================] - 0s 5ms/step - loss: 296442.4062\n",
      "Epoch 31/100\n",
      "10/10 [==============================] - 0s 7ms/step - loss: 296431.1562\n",
      "Epoch 32/100\n",
      "10/10 [==============================] - 0s 7ms/step - loss: 296420.6875\n",
      "Epoch 33/100\n",
      "10/10 [==============================] - 0s 4ms/step - loss: 296409.2812\n",
      "Epoch 34/100\n",
      "10/10 [==============================] - 0s 7ms/step - loss: 296398.3438\n",
      "Epoch 35/100\n",
      "10/10 [==============================] - 0s 5ms/step - loss: 296387.3438\n",
      "Epoch 36/100\n",
      "10/10 [==============================] - 0s 6ms/step - loss: 296376.8438\n",
      "Epoch 37/100\n",
      "10/10 [==============================] - 0s 5ms/step - loss: 296365.5312\n",
      "Epoch 38/100\n",
      "10/10 [==============================] - 0s 6ms/step - loss: 296355.0938\n",
      "Epoch 39/100\n",
      "10/10 [==============================] - 0s 5ms/step - loss: 296344.0312\n",
      "Epoch 40/100\n",
      "10/10 [==============================] - 0s 6ms/step - loss: 296333.8438\n",
      "Epoch 41/100\n",
      "10/10 [==============================] - 0s 6ms/step - loss: 296322.3750\n",
      "Epoch 42/100\n",
      "10/10 [==============================] - 0s 5ms/step - loss: 296311.4062\n",
      "Epoch 43/100\n",
      "10/10 [==============================] - 0s 6ms/step - loss: 296300.8438\n",
      "Epoch 44/100\n",
      "10/10 [==============================] - 0s 7ms/step - loss: 296289.8438\n",
      "Epoch 45/100\n",
      "10/10 [==============================] - 0s 6ms/step - loss: 296279.6875\n",
      "Epoch 46/100\n",
      "10/10 [==============================] - 0s 6ms/step - loss: 296268.7500\n",
      "Epoch 47/100\n",
      "10/10 [==============================] - 0s 5ms/step - loss: 296257.7188\n",
      "Epoch 48/100\n",
      "10/10 [==============================] - 0s 7ms/step - loss: 296247.1562\n",
      "Epoch 49/100\n",
      "10/10 [==============================] - 0s 5ms/step - loss: 296235.7812\n",
      "Epoch 50/100\n",
      "10/10 [==============================] - 0s 5ms/step - loss: 296224.8438\n",
      "Epoch 51/100\n",
      "10/10 [==============================] - 0s 6ms/step - loss: 296214.2812\n",
      "Epoch 52/100\n",
      "10/10 [==============================] - 0s 6ms/step - loss: 296203.3125\n",
      "Epoch 53/100\n",
      "10/10 [==============================] - 0s 6ms/step - loss: 296192.7500\n",
      "Epoch 54/100\n",
      "10/10 [==============================] - 0s 8ms/step - loss: 296181.5000\n",
      "Epoch 55/100\n",
      "10/10 [==============================] - 0s 6ms/step - loss: 296170.3750\n",
      "Epoch 56/100\n",
      "10/10 [==============================] - 0s 5ms/step - loss: 296159.7812\n",
      "Epoch 57/100\n",
      "10/10 [==============================] - 0s 5ms/step - loss: 296149.5000\n",
      "Epoch 58/100\n",
      "10/10 [==============================] - 0s 4ms/step - loss: 296138.9375\n",
      "Epoch 59/100\n",
      "10/10 [==============================] - 0s 5ms/step - loss: 296127.8125\n",
      "Epoch 60/100\n",
      "10/10 [==============================] - 0s 7ms/step - loss: 296117.0938\n",
      "Epoch 61/100\n",
      "10/10 [==============================] - 0s 4ms/step - loss: 296105.5938\n",
      "Epoch 62/100\n",
      "10/10 [==============================] - 0s 5ms/step - loss: 296095.3125\n",
      "Epoch 63/100\n",
      "10/10 [==============================] - 0s 5ms/step - loss: 296084.4688\n",
      "Epoch 64/100\n",
      "10/10 [==============================] - 0s 6ms/step - loss: 296073.1875\n",
      "Epoch 65/100\n",
      "10/10 [==============================] - 0s 5ms/step - loss: 296062.8125\n",
      "Epoch 66/100\n",
      "10/10 [==============================] - 0s 6ms/step - loss: 296051.7188\n",
      "Epoch 67/100\n",
      "10/10 [==============================] - 0s 6ms/step - loss: 296041.3438\n",
      "Epoch 68/100\n",
      "10/10 [==============================] - 0s 5ms/step - loss: 296030.5938\n",
      "Epoch 69/100\n",
      "10/10 [==============================] - 0s 6ms/step - loss: 296019.5312\n",
      "Epoch 70/100\n",
      "10/10 [==============================] - 0s 6ms/step - loss: 296008.9375\n",
      "Epoch 71/100\n",
      "10/10 [==============================] - 0s 5ms/step - loss: 295997.4688\n",
      "Epoch 72/100\n",
      "10/10 [==============================] - 0s 5ms/step - loss: 295986.3750\n",
      "Epoch 73/100\n",
      "10/10 [==============================] - 0s 6ms/step - loss: 295976.4062\n",
      "Epoch 74/100\n",
      "10/10 [==============================] - 0s 5ms/step - loss: 295965.1250\n",
      "Epoch 75/100\n",
      "10/10 [==============================] - 0s 6ms/step - loss: 295954.3125\n",
      "Epoch 76/100\n",
      "10/10 [==============================] - 0s 5ms/step - loss: 295943.9688\n",
      "Epoch 77/100\n",
      "10/10 [==============================] - 0s 6ms/step - loss: 295932.3125\n",
      "Epoch 78/100\n",
      "10/10 [==============================] - 0s 5ms/step - loss: 295921.9375\n",
      "Epoch 79/100\n",
      "10/10 [==============================] - 0s 5ms/step - loss: 295910.5000\n",
      "Epoch 80/100\n",
      "10/10 [==============================] - 0s 9ms/step - loss: 295900.4375\n",
      "Epoch 81/100\n",
      "10/10 [==============================] - 0s 5ms/step - loss: 295888.9688\n",
      "Epoch 82/100\n",
      "10/10 [==============================] - 0s 6ms/step - loss: 295878.1250\n",
      "Epoch 83/100\n",
      "10/10 [==============================] - 0s 6ms/step - loss: 295867.5312\n",
      "Epoch 84/100\n",
      "10/10 [==============================] - 0s 5ms/step - loss: 295856.5312\n",
      "Epoch 85/100\n",
      "10/10 [==============================] - 0s 6ms/step - loss: 295845.5000\n",
      "Epoch 86/100\n",
      "10/10 [==============================] - 0s 5ms/step - loss: 295835.6562\n",
      "Epoch 87/100\n",
      "10/10 [==============================] - 0s 5ms/step - loss: 295824.6562\n",
      "Epoch 88/100\n",
      "10/10 [==============================] - 0s 5ms/step - loss: 295813.5625\n",
      "Epoch 89/100\n",
      "10/10 [==============================] - 0s 7ms/step - loss: 295803.2188\n",
      "Epoch 90/100\n",
      "10/10 [==============================] - 0s 5ms/step - loss: 295791.8125\n",
      "Epoch 91/100\n",
      "10/10 [==============================] - 0s 7ms/step - loss: 295780.9062\n",
      "Epoch 92/100\n",
      "10/10 [==============================] - 0s 4ms/step - loss: 295770.1250\n",
      "Epoch 93/100\n",
      "10/10 [==============================] - 0s 6ms/step - loss: 295759.0938\n",
      "Epoch 94/100\n",
      "10/10 [==============================] - 0s 5ms/step - loss: 295748.4688\n",
      "Epoch 95/100\n",
      "10/10 [==============================] - 0s 6ms/step - loss: 295738.0938\n",
      "Epoch 96/100\n",
      "10/10 [==============================] - 0s 5ms/step - loss: 295727.5312\n",
      "Epoch 97/100\n",
      "10/10 [==============================] - 0s 4ms/step - loss: 295716.3438\n",
      "Epoch 98/100\n",
      "10/10 [==============================] - 0s 4ms/step - loss: 295705.6562\n",
      "Epoch 99/100\n",
      "10/10 [==============================] - 0s 4ms/step - loss: 295694.3125\n",
      "Epoch 100/100\n",
      "10/10 [==============================] - 0s 4ms/step - loss: 295684.0312\n",
      "1000\n",
      "295684.03125\n",
      "95.96334838867188 1\n",
      "Epoch 1/100\n",
      "10/10 [==============================] - 1s 3ms/step - loss: 82739.1172\n",
      "Epoch 2/100\n",
      "10/10 [==============================] - 0s 5ms/step - loss: 4572.4766\n",
      "Epoch 3/100\n",
      "10/10 [==============================] - 0s 7ms/step - loss: 5975.8716\n",
      "Epoch 4/100\n",
      "10/10 [==============================] - 0s 5ms/step - loss: 1715.5031\n",
      "Epoch 5/100\n",
      "10/10 [==============================] - 0s 5ms/step - loss: 1469.1910\n",
      "Epoch 6/100\n",
      "10/10 [==============================] - 0s 4ms/step - loss: 1153.5089\n",
      "Epoch 7/100\n",
      "10/10 [==============================] - 0s 5ms/step - loss: 641.8374\n",
      "Epoch 8/100\n",
      "10/10 [==============================] - 0s 5ms/step - loss: 610.2952\n",
      "Epoch 9/100\n",
      "10/10 [==============================] - 0s 5ms/step - loss: 499.3550\n",
      "Epoch 10/100\n",
      "10/10 [==============================] - 0s 5ms/step - loss: 462.2785\n",
      "Epoch 11/100\n",
      "10/10 [==============================] - 0s 6ms/step - loss: 409.8946\n",
      "Epoch 12/100\n",
      "10/10 [==============================] - 0s 5ms/step - loss: 352.4157\n",
      "Epoch 13/100\n",
      "10/10 [==============================] - 0s 6ms/step - loss: 325.5097\n",
      "Epoch 14/100\n",
      "10/10 [==============================] - 0s 5ms/step - loss: 335.4970\n",
      "Epoch 15/100\n",
      "10/10 [==============================] - 0s 6ms/step - loss: 282.4313\n",
      "Epoch 16/100\n",
      "10/10 [==============================] - 0s 7ms/step - loss: 264.2616\n",
      "Epoch 17/100\n",
      "10/10 [==============================] - 0s 6ms/step - loss: 248.4697\n",
      "Epoch 18/100\n",
      "10/10 [==============================] - 0s 5ms/step - loss: 260.1249\n",
      "Epoch 19/100\n",
      "10/10 [==============================] - 0s 6ms/step - loss: 244.5388\n",
      "Epoch 20/100\n",
      "10/10 [==============================] - 0s 6ms/step - loss: 239.0274\n",
      "Epoch 21/100\n",
      "10/10 [==============================] - 0s 6ms/step - loss: 236.1682\n",
      "Epoch 22/100\n",
      "10/10 [==============================] - 0s 6ms/step - loss: 217.6948\n",
      "Epoch 23/100\n",
      "10/10 [==============================] - 0s 6ms/step - loss: 213.3525\n",
      "Epoch 24/100\n",
      "10/10 [==============================] - 0s 7ms/step - loss: 209.5622\n",
      "Epoch 25/100\n",
      "10/10 [==============================] - 0s 7ms/step - loss: 205.5167\n",
      "Epoch 26/100\n",
      "10/10 [==============================] - 0s 7ms/step - loss: 216.7168\n",
      "Epoch 27/100\n",
      "10/10 [==============================] - 0s 5ms/step - loss: 205.0184\n",
      "Epoch 28/100\n",
      "10/10 [==============================] - 0s 6ms/step - loss: 227.7313\n",
      "Epoch 29/100\n",
      "10/10 [==============================] - 0s 10ms/step - loss: 203.0962\n",
      "Epoch 30/100\n",
      "10/10 [==============================] - 0s 7ms/step - loss: 202.2661\n",
      "Epoch 31/100\n",
      "10/10 [==============================] - 0s 5ms/step - loss: 209.2541\n",
      "Epoch 32/100\n",
      "10/10 [==============================] - 0s 3ms/step - loss: 201.9459\n",
      "Epoch 33/100\n",
      "10/10 [==============================] - 0s 5ms/step - loss: 200.1681\n",
      "Epoch 34/100\n",
      "10/10 [==============================] - 0s 5ms/step - loss: 203.8610\n",
      "Epoch 35/100\n",
      "10/10 [==============================] - 0s 3ms/step - loss: 203.7607\n",
      "Epoch 36/100\n",
      "10/10 [==============================] - 0s 5ms/step - loss: 202.5844\n",
      "Epoch 37/100\n",
      "10/10 [==============================] - 0s 3ms/step - loss: 198.8402\n",
      "Epoch 38/100\n",
      "10/10 [==============================] - 0s 3ms/step - loss: 197.6492\n",
      "Epoch 39/100\n",
      "10/10 [==============================] - 0s 6ms/step - loss: 208.2044\n",
      "Epoch 40/100\n",
      "10/10 [==============================] - 0s 6ms/step - loss: 191.6434\n",
      "Epoch 41/100\n",
      "10/10 [==============================] - 0s 5ms/step - loss: 188.5459\n",
      "Epoch 42/100\n",
      "10/10 [==============================] - 0s 5ms/step - loss: 206.2650\n",
      "Epoch 43/100\n",
      "10/10 [==============================] - 0s 4ms/step - loss: 211.3714\n",
      "Epoch 44/100\n",
      "10/10 [==============================] - 0s 7ms/step - loss: 195.7357\n",
      "Epoch 45/100\n",
      "10/10 [==============================] - 0s 5ms/step - loss: 189.3615\n",
      "Epoch 46/100\n",
      "10/10 [==============================] - 0s 6ms/step - loss: 187.7921\n",
      "Epoch 47/100\n",
      "10/10 [==============================] - 0s 5ms/step - loss: 187.4371\n",
      "Epoch 48/100\n",
      "10/10 [==============================] - 0s 6ms/step - loss: 189.4744\n",
      "Epoch 49/100\n",
      "10/10 [==============================] - 0s 5ms/step - loss: 189.5887\n",
      "Epoch 50/100\n",
      "10/10 [==============================] - 0s 4ms/step - loss: 184.2284\n",
      "Epoch 51/100\n",
      "10/10 [==============================] - 0s 8ms/step - loss: 195.1234\n",
      "Epoch 52/100\n",
      "10/10 [==============================] - 0s 5ms/step - loss: 198.5925\n",
      "Epoch 53/100\n",
      "10/10 [==============================] - 0s 8ms/step - loss: 194.1044\n",
      "Epoch 54/100\n",
      "10/10 [==============================] - 0s 6ms/step - loss: 186.3128\n",
      "Epoch 55/100\n",
      "10/10 [==============================] - 0s 5ms/step - loss: 189.1804\n",
      "Epoch 56/100\n",
      "10/10 [==============================] - 0s 5ms/step - loss: 184.3033\n",
      "Epoch 57/100\n",
      "10/10 [==============================] - 0s 7ms/step - loss: 198.1444\n",
      "Epoch 58/100\n",
      "10/10 [==============================] - 0s 5ms/step - loss: 184.0297\n",
      "Epoch 59/100\n",
      "10/10 [==============================] - 0s 5ms/step - loss: 179.0256\n",
      "Epoch 60/100\n",
      "10/10 [==============================] - 0s 7ms/step - loss: 183.0733\n",
      "Epoch 61/100\n",
      "10/10 [==============================] - 0s 7ms/step - loss: 179.6225\n",
      "Epoch 62/100\n",
      "10/10 [==============================] - 0s 6ms/step - loss: 181.5903\n",
      "Epoch 63/100\n",
      "10/10 [==============================] - 0s 6ms/step - loss: 178.9239\n",
      "Epoch 64/100\n",
      "10/10 [==============================] - 0s 6ms/step - loss: 177.4542\n",
      "Epoch 65/100\n",
      "10/10 [==============================] - 0s 5ms/step - loss: 181.9734\n",
      "Epoch 66/100\n",
      "10/10 [==============================] - 0s 6ms/step - loss: 191.6806\n",
      "Epoch 67/100\n",
      "10/10 [==============================] - 0s 8ms/step - loss: 182.9821\n",
      "Epoch 68/100\n",
      "10/10 [==============================] - 0s 5ms/step - loss: 179.3413\n",
      "Epoch 69/100\n",
      "10/10 [==============================] - 0s 7ms/step - loss: 181.2756\n",
      "Epoch 70/100\n",
      "10/10 [==============================] - 0s 6ms/step - loss: 193.6972\n",
      "Epoch 71/100\n",
      "10/10 [==============================] - 0s 5ms/step - loss: 199.1126\n",
      "Epoch 72/100\n",
      "10/10 [==============================] - 0s 6ms/step - loss: 189.9685\n",
      "Epoch 73/100\n",
      "10/10 [==============================] - 0s 5ms/step - loss: 190.7666\n",
      "Epoch 74/100\n",
      "10/10 [==============================] - 0s 6ms/step - loss: 192.9800\n",
      "Epoch 75/100\n",
      "10/10 [==============================] - 0s 4ms/step - loss: 174.5195\n",
      "Epoch 76/100\n",
      "10/10 [==============================] - 0s 5ms/step - loss: 179.1160\n",
      "Epoch 77/100\n",
      "10/10 [==============================] - 0s 7ms/step - loss: 170.8837\n",
      "Epoch 78/100\n",
      "10/10 [==============================] - 0s 6ms/step - loss: 172.4010\n",
      "Epoch 79/100\n",
      "10/10 [==============================] - 0s 7ms/step - loss: 177.8457\n",
      "Epoch 80/100\n",
      "10/10 [==============================] - 0s 6ms/step - loss: 175.7007\n",
      "Epoch 81/100\n",
      "10/10 [==============================] - 0s 6ms/step - loss: 171.3078\n",
      "Epoch 82/100\n",
      "10/10 [==============================] - 0s 6ms/step - loss: 174.1631\n",
      "Epoch 83/100\n",
      "10/10 [==============================] - 0s 5ms/step - loss: 177.4406\n",
      "Epoch 84/100\n",
      "10/10 [==============================] - 0s 6ms/step - loss: 173.2131\n",
      "Epoch 85/100\n",
      "10/10 [==============================] - 0s 7ms/step - loss: 168.6970\n",
      "Epoch 86/100\n",
      "10/10 [==============================] - 0s 6ms/step - loss: 166.2909\n",
      "Epoch 87/100\n",
      "10/10 [==============================] - 0s 5ms/step - loss: 180.2384\n",
      "Epoch 88/100\n",
      "10/10 [==============================] - 0s 4ms/step - loss: 176.7777\n",
      "Epoch 89/100\n",
      "10/10 [==============================] - 0s 6ms/step - loss: 168.7266\n",
      "Epoch 90/100\n",
      "10/10 [==============================] - 0s 4ms/step - loss: 172.6906\n",
      "Epoch 91/100\n",
      "10/10 [==============================] - 0s 4ms/step - loss: 175.7177\n",
      "Epoch 92/100\n",
      "10/10 [==============================] - 0s 5ms/step - loss: 169.0696\n",
      "Epoch 93/100\n",
      "10/10 [==============================] - 0s 5ms/step - loss: 165.5781\n",
      "Epoch 94/100\n",
      "10/10 [==============================] - 0s 7ms/step - loss: 165.9705\n",
      "Epoch 95/100\n",
      "10/10 [==============================] - 0s 6ms/step - loss: 167.8106\n",
      "Epoch 96/100\n",
      "10/10 [==============================] - 0s 5ms/step - loss: 172.3275\n",
      "Epoch 97/100\n",
      "10/10 [==============================] - 0s 6ms/step - loss: 176.2136\n",
      "Epoch 98/100\n",
      "10/10 [==============================] - 0s 6ms/step - loss: 175.0446\n",
      "Epoch 99/100\n",
      "10/10 [==============================] - 0s 6ms/step - loss: 162.7737\n",
      "Epoch 100/100\n",
      "10/10 [==============================] - 0s 5ms/step - loss: 172.0359\n",
      "1000\n",
      "172.03590393066406\n",
      "95.96334838867188 0\n"
     ]
    }
   ],
   "source": [
    "from keras.models import Sequential\n",
    "from keras.layers import LSTM, Dense\n",
    "\n",
    "class LossHistory(keras.callbacks.Callback):\n",
    "    def on_train_begin(self, logs={}):\n",
    "        self.losses = []\n",
    "\n",
    "    def on_batch_end(self, batch, logs={}):\n",
    "        self.losses.append(logs.get('loss'))\n",
    "\n",
    "history = LossHistory()\n",
    "lossini = 10000000000000\n",
    "turn=10\n",
    "mm=[]\n",
    "ans=50\n",
    "\n",
    "while(turn>0):\n",
    "    turn=turn-1\n",
    "    mm.append(Sequential())\n",
    "    mm[9-turn].add(\n",
    "    LSTM(10,\n",
    "         activation='relu',\n",
    "         input_shape=(look_back, 1))\n",
    "    )\n",
    "    mm[9-turn].add(Dense(1))\n",
    "    mm[9-turn].compile(optimizer='adam', loss='mse')\n",
    "    num_epochs = 100\n",
    "    mm[9-turn].fit(train_generator, epochs=num_epochs, verbose=1, callbacks=[history])\n",
    "    print(len(history.losses))\n",
    "    mino=float(history.losses[len(history.losses)-1])\n",
    "    print(mino)\n",
    "    if(mino<lossini):\n",
    "        ans=9-turn\n",
    "    lossini=min(mino,lossini)\n",
    "    print(lossini,turn)\n",
    "model=mm[ans]"
   ]
  },
  {
   "cell_type": "code",
   "execution_count": 7,
   "id": "9f8e89c4-0179-4d35-beb9-8b02e66b38ab",
   "metadata": {},
   "outputs": [
    {
     "name": "stdout",
     "output_type": "stream",
     "text": [
      "50\n"
     ]
    },
    {
     "data": {
      "application/vnd.plotly.v1+json": {
       "config": {
        "plotlyServerURL": "https://plot.ly"
       },
       "data": [
        {
         "mode": "lines",
         "name": "Data",
         "type": "scatter",
         "x": [
          "2020-11-02T00:00:00",
          "2020-11-03T00:00:00",
          "2020-11-04T00:00:00",
          "2020-11-05T00:00:00",
          "2020-11-06T00:00:00",
          "2020-11-09T00:00:00",
          "2020-11-10T00:00:00",
          "2020-11-11T00:00:00",
          "2020-11-12T00:00:00",
          "2020-11-13T00:00:00",
          "2020-11-14T00:00:00",
          "2020-11-17T00:00:00",
          "2020-11-18T00:00:00",
          "2020-11-19T00:00:00",
          "2020-11-20T00:00:00",
          "2020-11-23T00:00:00",
          "2020-11-24T00:00:00",
          "2020-11-25T00:00:00",
          "2020-11-26T00:00:00",
          "2020-11-27T00:00:00",
          "2020-12-01T00:00:00",
          "2020-12-02T00:00:00",
          "2020-12-03T00:00:00",
          "2020-12-04T00:00:00",
          "2020-12-07T00:00:00",
          "2020-12-08T00:00:00",
          "2020-12-09T00:00:00",
          "2020-12-10T00:00:00",
          "2020-12-11T00:00:00",
          "2020-12-14T00:00:00",
          "2020-12-15T00:00:00",
          "2020-12-16T00:00:00",
          "2020-12-17T00:00:00",
          "2020-12-18T00:00:00",
          "2020-12-21T00:00:00",
          "2020-12-22T00:00:00",
          "2020-12-23T00:00:00",
          "2020-12-24T00:00:00",
          "2020-12-28T00:00:00",
          "2020-12-29T00:00:00",
          "2020-12-30T00:00:00",
          "2020-12-31T00:00:00",
          "2021-01-01T00:00:00",
          "2021-01-04T00:00:00",
          "2021-01-05T00:00:00",
          "2021-01-06T00:00:00",
          "2021-01-07T00:00:00",
          "2021-01-08T00:00:00",
          "2021-01-11T00:00:00",
          "2021-01-12T00:00:00",
          "2021-01-13T00:00:00",
          "2021-01-14T00:00:00",
          "2021-01-15T00:00:00",
          "2021-01-18T00:00:00",
          "2021-01-19T00:00:00",
          "2021-01-20T00:00:00",
          "2021-01-21T00:00:00",
          "2021-01-22T00:00:00",
          "2021-01-25T00:00:00",
          "2021-01-27T00:00:00",
          "2021-01-28T00:00:00",
          "2021-01-29T00:00:00",
          "2021-02-01T00:00:00",
          "2021-02-02T00:00:00",
          "2021-02-03T00:00:00",
          "2021-02-04T00:00:00",
          "2021-02-05T00:00:00",
          "2021-02-08T00:00:00",
          "2021-02-09T00:00:00",
          "2021-02-10T00:00:00",
          "2021-02-11T00:00:00",
          "2021-02-12T00:00:00",
          "2021-02-15T00:00:00",
          "2021-02-16T00:00:00",
          "2021-02-17T00:00:00",
          "2021-02-18T00:00:00",
          "2021-02-19T00:00:00",
          "2021-02-22T00:00:00",
          "2021-02-23T00:00:00",
          "2021-02-24T00:00:00",
          "2021-02-25T00:00:00",
          "2021-02-26T00:00:00",
          "2021-03-01T00:00:00",
          "2021-03-02T00:00:00",
          "2021-03-03T00:00:00",
          "2021-03-04T00:00:00",
          "2021-03-05T00:00:00",
          "2021-03-08T00:00:00",
          "2021-03-09T00:00:00",
          "2021-03-10T00:00:00",
          "2021-03-12T00:00:00",
          "2021-03-15T00:00:00",
          "2021-03-16T00:00:00",
          "2021-03-17T00:00:00",
          "2021-03-18T00:00:00",
          "2021-03-19T00:00:00",
          "2021-03-22T00:00:00",
          "2021-03-23T00:00:00",
          "2021-03-24T00:00:00",
          "2021-03-25T00:00:00",
          "2021-03-26T00:00:00",
          "2021-03-30T00:00:00",
          "2021-03-31T00:00:00",
          "2021-04-01T00:00:00",
          "2021-04-05T00:00:00",
          "2021-04-06T00:00:00",
          "2021-04-07T00:00:00",
          "2021-04-08T00:00:00",
          "2021-04-09T00:00:00",
          "2021-04-12T00:00:00",
          "2021-04-13T00:00:00",
          "2021-04-15T00:00:00",
          "2021-04-16T00:00:00",
          "2021-04-19T00:00:00",
          "2021-04-20T00:00:00",
          "2021-04-22T00:00:00",
          "2021-04-23T00:00:00",
          "2021-04-26T00:00:00",
          "2021-04-27T00:00:00",
          "2021-04-28T00:00:00",
          "2021-04-29T00:00:00",
          "2021-04-30T00:00:00",
          "2021-05-03T00:00:00",
          "2021-05-04T00:00:00",
          "2021-05-05T00:00:00",
          "2021-05-06T00:00:00",
          "2021-05-07T00:00:00",
          "2021-05-10T00:00:00",
          "2021-05-11T00:00:00",
          "2021-05-12T00:00:00",
          "2021-05-14T00:00:00",
          "2021-05-17T00:00:00",
          "2021-05-18T00:00:00",
          "2021-05-19T00:00:00",
          "2021-05-20T00:00:00",
          "2021-05-21T00:00:00",
          "2021-05-24T00:00:00",
          "2021-05-25T00:00:00",
          "2021-05-26T00:00:00",
          "2021-05-27T00:00:00",
          "2021-05-28T00:00:00",
          "2021-05-31T00:00:00",
          "2021-06-01T00:00:00",
          "2021-06-02T00:00:00",
          "2021-06-03T00:00:00",
          "2021-06-04T00:00:00",
          "2021-06-07T00:00:00",
          "2021-06-08T00:00:00",
          "2021-06-09T00:00:00",
          "2021-06-10T00:00:00",
          "2021-06-11T00:00:00",
          "2021-06-14T00:00:00",
          "2021-06-15T00:00:00",
          "2021-06-16T00:00:00",
          "2021-06-17T00:00:00",
          "2021-06-18T00:00:00",
          "2021-06-21T00:00:00",
          "2021-06-22T00:00:00",
          "2021-06-23T00:00:00",
          "2021-06-24T00:00:00",
          "2021-06-25T00:00:00",
          "2021-06-28T00:00:00",
          "2021-06-29T00:00:00",
          "2021-06-30T00:00:00",
          "2021-07-01T00:00:00",
          "2021-07-02T00:00:00",
          "2021-07-05T00:00:00",
          "2021-07-06T00:00:00",
          "2021-07-07T00:00:00",
          "2021-07-08T00:00:00",
          "2021-07-09T00:00:00",
          "2021-07-12T00:00:00",
          "2021-07-13T00:00:00",
          "2021-07-14T00:00:00",
          "2021-07-15T00:00:00",
          "2021-07-16T00:00:00",
          "2021-07-19T00:00:00",
          "2021-07-20T00:00:00",
          "2021-07-22T00:00:00",
          "2021-07-23T00:00:00",
          "2021-07-26T00:00:00",
          "2021-07-27T00:00:00",
          "2021-07-28T00:00:00",
          "2021-07-29T00:00:00",
          "2021-07-30T00:00:00",
          "2021-08-02T00:00:00",
          "2021-08-03T00:00:00",
          "2021-08-04T00:00:00",
          "2021-08-05T00:00:00",
          "2021-08-06T00:00:00",
          "2021-08-09T00:00:00",
          "2021-08-10T00:00:00",
          "2021-08-11T00:00:00",
          "2021-08-12T00:00:00",
          "2021-08-13T00:00:00",
          "2021-08-16T00:00:00",
          "2021-08-17T00:00:00",
          "2021-08-18T00:00:00"
         ],
         "y": [
          457.4,
          454.6,
          453.05,
          457.3,
          449.9,
          471.8,
          466.4,
          478.6,
          479.85,
          475.75,
          481.5,
          484.55,
          478.4,
          468.55,
          483.7,
          477.25,
          474.25,
          464.1,
          468.4,
          463.25,
          479.45,
          484.9,
          479.9,
          493.75,
          508.95,
          503.6,
          503.05,
          505.15,
          504.4,
          503.05,
          504.2,
          516.2,
          515.1,
          510.65,
          490.9,
          500.3,
          507.2,
          517.3,
          521.6,
          520.25,
          516.15,
          509.7,
          515.15,
          517.1,
          514,
          525.3,
          545.25,
          540.25,
          547.15,
          565.75,
          578.25,
          580.55,
          602.65,
          586.95,
          592.3,
          596.15,
          581.35,
          576.85,
          580.75,
          570.8,
          570.9,
          553.6,
          579.15,
          599.35,
          608.85,
          600.6,
          581.1,
          597.3,
          598.95,
          590.2,
          598.1,
          586.25,
          593.7,
          593.95,
          593.85,
          589.05,
          581.35,
          570.3,
          565.55,
          572.95,
          579.15,
          556.3,
          532.2,
          541.2,
          546.3,
          539.6,
          532.8,
          525.7,
          521.75,
          525.85,
          524.2,
          522.85,
          529.3,
          522.9,
          527.2,
          529.95,
          528,
          529.25,
          523.65,
          507.75,
          522.5,
          521.5,
          517.3,
          520.8,
          528.25,
          532.2,
          541.6,
          543,
          545.25,
          522.45,
          536.15,
          539.35,
          540.75,
          526.45,
          530.2,
          530.85,
          522.6,
          527.55,
          534.3,
          544.3,
          540.85,
          536.75,
          558.85,
          552.45,
          559.95,
          558.75,
          568.5,
          572.55,
          568.4,
          561.75,
          560.4,
          549.65,
          536.35,
          528.2,
          520.65,
          530.95,
          526.8,
          526.1,
          525.75,
          519.8,
          523.6,
          534.9,
          532.9,
          529.5,
          532.05,
          532.7,
          536.45,
          546.8,
          540,
          545.15,
          540.85,
          539.35,
          542.5,
          536.75,
          528.65,
          538.75,
          539.6,
          536.4,
          534.05,
          528.75,
          535.1,
          531.2,
          524.95,
          525.65,
          522.65,
          525,
          523.95,
          526.1,
          529.6,
          525.3,
          536.25,
          529.65,
          530.05,
          530.05,
          525.45,
          541.15,
          538.45,
          525.75,
          546.7,
          548.3,
          544.05,
          540.55,
          567.9,
          567.15,
          561.65,
          565.15,
          580.2,
          574.4,
          598.7,
          607.9,
          599.25,
          622.2,
          620.85,
          623.15,
          637.05,
          634.05,
          626.35,
          622.95
         ]
        },
        {
         "mode": "lines",
         "name": "Prediction",
         "type": "scatter",
         "x": [
          "2021-08-20T00:00:00",
          "2021-08-23T00:00:00",
          "2021-08-24T00:00:00",
          "2021-08-25T00:00:00",
          "2021-08-26T00:00:00",
          "2021-08-27T00:00:00",
          "2021-08-30T00:00:00",
          "2021-08-31T00:00:00",
          "2021-09-01T00:00:00",
          "2021-09-02T00:00:00",
          "2021-09-03T00:00:00",
          "2021-09-06T00:00:00",
          "2021-09-07T00:00:00",
          "2021-09-08T00:00:00",
          "2021-09-09T00:00:00",
          "2021-09-13T00:00:00",
          "2021-09-14T00:00:00",
          "2021-09-15T00:00:00",
          "2021-09-16T00:00:00",
          "2021-09-17T00:00:00",
          "2021-09-20T00:00:00",
          "2021-09-21T00:00:00",
          "2021-09-22T00:00:00",
          "2021-09-23T00:00:00",
          "2021-09-24T00:00:00",
          "2021-09-27T00:00:00",
          "2021-09-28T00:00:00",
          "2021-09-29T00:00:00",
          "2021-09-30T00:00:00",
          "2021-10-01T00:00:00",
          "2021-10-04T00:00:00",
          "2021-10-05T00:00:00",
          "2021-10-06T00:00:00",
          "2021-10-07T00:00:00",
          "2021-10-08T00:00:00",
          "2021-10-11T00:00:00",
          "2021-10-12T00:00:00",
          "2021-10-13T00:00:00",
          "2021-10-14T00:00:00",
          "2021-10-18T00:00:00",
          "2021-10-19T00:00:00",
          "2021-10-20T00:00:00",
          "2021-10-21T00:00:00",
          "2021-10-22T00:00:00",
          "2021-10-25T00:00:00",
          "2021-10-26T00:00:00",
          "2021-10-27T00:00:00",
          "2021-10-28T00:00:00",
          "2021-10-29T00:00:00",
          "2021-11-01T00:00:00"
         ],
         "y": [
          685.6707153320312,
          689.2169799804688,
          689.625244140625,
          713.787353515625,
          713.6362915039062,
          726.0499267578125,
          717.7116088867188,
          725.2658081054688,
          721.6494750976562,
          722.9324951171875,
          742.4067993164062,
          722.587890625,
          708.6331176757812,
          698.9261474609375,
          691.2435913085938,
          682.7987670898438,
          679.9745483398438,
          706.6007080078125,
          688.8831787109375,
          690.0545043945312,
          692.4187622070312,
          686.7545776367188,
          683.1884765625,
          688.7730102539062,
          682.0462036132812,
          677.85595703125,
          678.6924438476562,
          709.9408569335938,
          690.8220825195312,
          691.827392578125,
          686.8756713867188,
          696.9258422851562,
          699.4406127929688,
          687.55908203125,
          682.7734985351562
         ]
        },
        {
         "mode": "lines",
         "name": "Ground Truth",
         "type": "scatter",
         "x": [
          "2021-08-20T00:00:00",
          "2021-08-23T00:00:00",
          "2021-08-24T00:00:00",
          "2021-08-25T00:00:00",
          "2021-08-26T00:00:00",
          "2021-08-27T00:00:00",
          "2021-08-30T00:00:00",
          "2021-08-31T00:00:00",
          "2021-09-01T00:00:00",
          "2021-09-02T00:00:00",
          "2021-09-03T00:00:00",
          "2021-09-06T00:00:00",
          "2021-09-07T00:00:00",
          "2021-09-08T00:00:00",
          "2021-09-09T00:00:00",
          "2021-09-13T00:00:00",
          "2021-09-14T00:00:00",
          "2021-09-15T00:00:00",
          "2021-09-16T00:00:00",
          "2021-09-17T00:00:00",
          "2021-09-20T00:00:00",
          "2021-09-21T00:00:00",
          "2021-09-22T00:00:00",
          "2021-09-23T00:00:00",
          "2021-09-24T00:00:00",
          "2021-09-27T00:00:00",
          "2021-09-28T00:00:00",
          "2021-09-29T00:00:00",
          "2021-09-30T00:00:00",
          "2021-10-01T00:00:00",
          "2021-10-04T00:00:00",
          "2021-10-05T00:00:00",
          "2021-10-06T00:00:00",
          "2021-10-07T00:00:00",
          "2021-10-08T00:00:00",
          "2021-10-11T00:00:00",
          "2021-10-12T00:00:00",
          "2021-10-13T00:00:00",
          "2021-10-14T00:00:00",
          "2021-10-18T00:00:00",
          "2021-10-19T00:00:00",
          "2021-10-20T00:00:00",
          "2021-10-21T00:00:00",
          "2021-10-22T00:00:00",
          "2021-10-25T00:00:00",
          "2021-10-26T00:00:00",
          "2021-10-27T00:00:00",
          "2021-10-28T00:00:00",
          "2021-10-29T00:00:00",
          "2021-11-01T00:00:00"
         ],
         "y": [
          613.7,
          622.65,
          620.1,
          612.45,
          586.9,
          595.15,
          620.45,
          664.05,
          666.4,
          666.5,
          658.45,
          654.6,
          670.55,
          667.85,
          686.15,
          693.3,
          694.2,
          725.5,
          718.6,
          728.15,
          724.95,
          726.65,
          726.75,
          726.8,
          739.4,
          722.55,
          696.15,
          694.1,
          688.3,
          675.9,
          681.4,
          699.25,
          691.4,
          692.5,
          695.5,
          690.85,
          686.35,
          689.9,
          685.8,
          680.6,
          681.1,
          708.45,
          696.05,
          694.5,
          691.1,
          696.2,
          702.35,
          689.75,
          685.35,
          712.5
         ]
        }
       ],
       "layout": {
        "template": {
         "data": {
          "bar": [
           {
            "error_x": {
             "color": "#2a3f5f"
            },
            "error_y": {
             "color": "#2a3f5f"
            },
            "marker": {
             "line": {
              "color": "#E5ECF6",
              "width": 0.5
             },
             "pattern": {
              "fillmode": "overlay",
              "size": 10,
              "solidity": 0.2
             }
            },
            "type": "bar"
           }
          ],
          "barpolar": [
           {
            "marker": {
             "line": {
              "color": "#E5ECF6",
              "width": 0.5
             },
             "pattern": {
              "fillmode": "overlay",
              "size": 10,
              "solidity": 0.2
             }
            },
            "type": "barpolar"
           }
          ],
          "carpet": [
           {
            "aaxis": {
             "endlinecolor": "#2a3f5f",
             "gridcolor": "white",
             "linecolor": "white",
             "minorgridcolor": "white",
             "startlinecolor": "#2a3f5f"
            },
            "baxis": {
             "endlinecolor": "#2a3f5f",
             "gridcolor": "white",
             "linecolor": "white",
             "minorgridcolor": "white",
             "startlinecolor": "#2a3f5f"
            },
            "type": "carpet"
           }
          ],
          "choropleth": [
           {
            "colorbar": {
             "outlinewidth": 0,
             "ticks": ""
            },
            "type": "choropleth"
           }
          ],
          "contour": [
           {
            "colorbar": {
             "outlinewidth": 0,
             "ticks": ""
            },
            "colorscale": [
             [
              0,
              "#0d0887"
             ],
             [
              0.1111111111111111,
              "#46039f"
             ],
             [
              0.2222222222222222,
              "#7201a8"
             ],
             [
              0.3333333333333333,
              "#9c179e"
             ],
             [
              0.4444444444444444,
              "#bd3786"
             ],
             [
              0.5555555555555556,
              "#d8576b"
             ],
             [
              0.6666666666666666,
              "#ed7953"
             ],
             [
              0.7777777777777778,
              "#fb9f3a"
             ],
             [
              0.8888888888888888,
              "#fdca26"
             ],
             [
              1,
              "#f0f921"
             ]
            ],
            "type": "contour"
           }
          ],
          "contourcarpet": [
           {
            "colorbar": {
             "outlinewidth": 0,
             "ticks": ""
            },
            "type": "contourcarpet"
           }
          ],
          "heatmap": [
           {
            "colorbar": {
             "outlinewidth": 0,
             "ticks": ""
            },
            "colorscale": [
             [
              0,
              "#0d0887"
             ],
             [
              0.1111111111111111,
              "#46039f"
             ],
             [
              0.2222222222222222,
              "#7201a8"
             ],
             [
              0.3333333333333333,
              "#9c179e"
             ],
             [
              0.4444444444444444,
              "#bd3786"
             ],
             [
              0.5555555555555556,
              "#d8576b"
             ],
             [
              0.6666666666666666,
              "#ed7953"
             ],
             [
              0.7777777777777778,
              "#fb9f3a"
             ],
             [
              0.8888888888888888,
              "#fdca26"
             ],
             [
              1,
              "#f0f921"
             ]
            ],
            "type": "heatmap"
           }
          ],
          "heatmapgl": [
           {
            "colorbar": {
             "outlinewidth": 0,
             "ticks": ""
            },
            "colorscale": [
             [
              0,
              "#0d0887"
             ],
             [
              0.1111111111111111,
              "#46039f"
             ],
             [
              0.2222222222222222,
              "#7201a8"
             ],
             [
              0.3333333333333333,
              "#9c179e"
             ],
             [
              0.4444444444444444,
              "#bd3786"
             ],
             [
              0.5555555555555556,
              "#d8576b"
             ],
             [
              0.6666666666666666,
              "#ed7953"
             ],
             [
              0.7777777777777778,
              "#fb9f3a"
             ],
             [
              0.8888888888888888,
              "#fdca26"
             ],
             [
              1,
              "#f0f921"
             ]
            ],
            "type": "heatmapgl"
           }
          ],
          "histogram": [
           {
            "marker": {
             "pattern": {
              "fillmode": "overlay",
              "size": 10,
              "solidity": 0.2
             }
            },
            "type": "histogram"
           }
          ],
          "histogram2d": [
           {
            "colorbar": {
             "outlinewidth": 0,
             "ticks": ""
            },
            "colorscale": [
             [
              0,
              "#0d0887"
             ],
             [
              0.1111111111111111,
              "#46039f"
             ],
             [
              0.2222222222222222,
              "#7201a8"
             ],
             [
              0.3333333333333333,
              "#9c179e"
             ],
             [
              0.4444444444444444,
              "#bd3786"
             ],
             [
              0.5555555555555556,
              "#d8576b"
             ],
             [
              0.6666666666666666,
              "#ed7953"
             ],
             [
              0.7777777777777778,
              "#fb9f3a"
             ],
             [
              0.8888888888888888,
              "#fdca26"
             ],
             [
              1,
              "#f0f921"
             ]
            ],
            "type": "histogram2d"
           }
          ],
          "histogram2dcontour": [
           {
            "colorbar": {
             "outlinewidth": 0,
             "ticks": ""
            },
            "colorscale": [
             [
              0,
              "#0d0887"
             ],
             [
              0.1111111111111111,
              "#46039f"
             ],
             [
              0.2222222222222222,
              "#7201a8"
             ],
             [
              0.3333333333333333,
              "#9c179e"
             ],
             [
              0.4444444444444444,
              "#bd3786"
             ],
             [
              0.5555555555555556,
              "#d8576b"
             ],
             [
              0.6666666666666666,
              "#ed7953"
             ],
             [
              0.7777777777777778,
              "#fb9f3a"
             ],
             [
              0.8888888888888888,
              "#fdca26"
             ],
             [
              1,
              "#f0f921"
             ]
            ],
            "type": "histogram2dcontour"
           }
          ],
          "mesh3d": [
           {
            "colorbar": {
             "outlinewidth": 0,
             "ticks": ""
            },
            "type": "mesh3d"
           }
          ],
          "parcoords": [
           {
            "line": {
             "colorbar": {
              "outlinewidth": 0,
              "ticks": ""
             }
            },
            "type": "parcoords"
           }
          ],
          "pie": [
           {
            "automargin": true,
            "type": "pie"
           }
          ],
          "scatter": [
           {
            "marker": {
             "colorbar": {
              "outlinewidth": 0,
              "ticks": ""
             }
            },
            "type": "scatter"
           }
          ],
          "scatter3d": [
           {
            "line": {
             "colorbar": {
              "outlinewidth": 0,
              "ticks": ""
             }
            },
            "marker": {
             "colorbar": {
              "outlinewidth": 0,
              "ticks": ""
             }
            },
            "type": "scatter3d"
           }
          ],
          "scattercarpet": [
           {
            "marker": {
             "colorbar": {
              "outlinewidth": 0,
              "ticks": ""
             }
            },
            "type": "scattercarpet"
           }
          ],
          "scattergeo": [
           {
            "marker": {
             "colorbar": {
              "outlinewidth": 0,
              "ticks": ""
             }
            },
            "type": "scattergeo"
           }
          ],
          "scattergl": [
           {
            "marker": {
             "colorbar": {
              "outlinewidth": 0,
              "ticks": ""
             }
            },
            "type": "scattergl"
           }
          ],
          "scattermapbox": [
           {
            "marker": {
             "colorbar": {
              "outlinewidth": 0,
              "ticks": ""
             }
            },
            "type": "scattermapbox"
           }
          ],
          "scatterpolar": [
           {
            "marker": {
             "colorbar": {
              "outlinewidth": 0,
              "ticks": ""
             }
            },
            "type": "scatterpolar"
           }
          ],
          "scatterpolargl": [
           {
            "marker": {
             "colorbar": {
              "outlinewidth": 0,
              "ticks": ""
             }
            },
            "type": "scatterpolargl"
           }
          ],
          "scatterternary": [
           {
            "marker": {
             "colorbar": {
              "outlinewidth": 0,
              "ticks": ""
             }
            },
            "type": "scatterternary"
           }
          ],
          "surface": [
           {
            "colorbar": {
             "outlinewidth": 0,
             "ticks": ""
            },
            "colorscale": [
             [
              0,
              "#0d0887"
             ],
             [
              0.1111111111111111,
              "#46039f"
             ],
             [
              0.2222222222222222,
              "#7201a8"
             ],
             [
              0.3333333333333333,
              "#9c179e"
             ],
             [
              0.4444444444444444,
              "#bd3786"
             ],
             [
              0.5555555555555556,
              "#d8576b"
             ],
             [
              0.6666666666666666,
              "#ed7953"
             ],
             [
              0.7777777777777778,
              "#fb9f3a"
             ],
             [
              0.8888888888888888,
              "#fdca26"
             ],
             [
              1,
              "#f0f921"
             ]
            ],
            "type": "surface"
           }
          ],
          "table": [
           {
            "cells": {
             "fill": {
              "color": "#EBF0F8"
             },
             "line": {
              "color": "white"
             }
            },
            "header": {
             "fill": {
              "color": "#C8D4E3"
             },
             "line": {
              "color": "white"
             }
            },
            "type": "table"
           }
          ]
         },
         "layout": {
          "annotationdefaults": {
           "arrowcolor": "#2a3f5f",
           "arrowhead": 0,
           "arrowwidth": 1
          },
          "autotypenumbers": "strict",
          "coloraxis": {
           "colorbar": {
            "outlinewidth": 0,
            "ticks": ""
           }
          },
          "colorscale": {
           "diverging": [
            [
             0,
             "#8e0152"
            ],
            [
             0.1,
             "#c51b7d"
            ],
            [
             0.2,
             "#de77ae"
            ],
            [
             0.3,
             "#f1b6da"
            ],
            [
             0.4,
             "#fde0ef"
            ],
            [
             0.5,
             "#f7f7f7"
            ],
            [
             0.6,
             "#e6f5d0"
            ],
            [
             0.7,
             "#b8e186"
            ],
            [
             0.8,
             "#7fbc41"
            ],
            [
             0.9,
             "#4d9221"
            ],
            [
             1,
             "#276419"
            ]
           ],
           "sequential": [
            [
             0,
             "#0d0887"
            ],
            [
             0.1111111111111111,
             "#46039f"
            ],
            [
             0.2222222222222222,
             "#7201a8"
            ],
            [
             0.3333333333333333,
             "#9c179e"
            ],
            [
             0.4444444444444444,
             "#bd3786"
            ],
            [
             0.5555555555555556,
             "#d8576b"
            ],
            [
             0.6666666666666666,
             "#ed7953"
            ],
            [
             0.7777777777777778,
             "#fb9f3a"
            ],
            [
             0.8888888888888888,
             "#fdca26"
            ],
            [
             1,
             "#f0f921"
            ]
           ],
           "sequentialminus": [
            [
             0,
             "#0d0887"
            ],
            [
             0.1111111111111111,
             "#46039f"
            ],
            [
             0.2222222222222222,
             "#7201a8"
            ],
            [
             0.3333333333333333,
             "#9c179e"
            ],
            [
             0.4444444444444444,
             "#bd3786"
            ],
            [
             0.5555555555555556,
             "#d8576b"
            ],
            [
             0.6666666666666666,
             "#ed7953"
            ],
            [
             0.7777777777777778,
             "#fb9f3a"
            ],
            [
             0.8888888888888888,
             "#fdca26"
            ],
            [
             1,
             "#f0f921"
            ]
           ]
          },
          "colorway": [
           "#636efa",
           "#EF553B",
           "#00cc96",
           "#ab63fa",
           "#FFA15A",
           "#19d3f3",
           "#FF6692",
           "#B6E880",
           "#FF97FF",
           "#FECB52"
          ],
          "font": {
           "color": "#2a3f5f"
          },
          "geo": {
           "bgcolor": "white",
           "lakecolor": "white",
           "landcolor": "#E5ECF6",
           "showlakes": true,
           "showland": true,
           "subunitcolor": "white"
          },
          "hoverlabel": {
           "align": "left"
          },
          "hovermode": "closest",
          "mapbox": {
           "style": "light"
          },
          "paper_bgcolor": "white",
          "plot_bgcolor": "#E5ECF6",
          "polar": {
           "angularaxis": {
            "gridcolor": "white",
            "linecolor": "white",
            "ticks": ""
           },
           "bgcolor": "#E5ECF6",
           "radialaxis": {
            "gridcolor": "white",
            "linecolor": "white",
            "ticks": ""
           }
          },
          "scene": {
           "xaxis": {
            "backgroundcolor": "#E5ECF6",
            "gridcolor": "white",
            "gridwidth": 2,
            "linecolor": "white",
            "showbackground": true,
            "ticks": "",
            "zerolinecolor": "white"
           },
           "yaxis": {
            "backgroundcolor": "#E5ECF6",
            "gridcolor": "white",
            "gridwidth": 2,
            "linecolor": "white",
            "showbackground": true,
            "ticks": "",
            "zerolinecolor": "white"
           },
           "zaxis": {
            "backgroundcolor": "#E5ECF6",
            "gridcolor": "white",
            "gridwidth": 2,
            "linecolor": "white",
            "showbackground": true,
            "ticks": "",
            "zerolinecolor": "white"
           }
          },
          "shapedefaults": {
           "line": {
            "color": "#2a3f5f"
           }
          },
          "ternary": {
           "aaxis": {
            "gridcolor": "white",
            "linecolor": "white",
            "ticks": ""
           },
           "baxis": {
            "gridcolor": "white",
            "linecolor": "white",
            "ticks": ""
           },
           "bgcolor": "#E5ECF6",
           "caxis": {
            "gridcolor": "white",
            "linecolor": "white",
            "ticks": ""
           }
          },
          "title": {
           "x": 0.05
          },
          "xaxis": {
           "automargin": true,
           "gridcolor": "white",
           "linecolor": "white",
           "ticks": "",
           "title": {
            "standoff": 15
           },
           "zerolinecolor": "white",
           "zerolinewidth": 2
          },
          "yaxis": {
           "automargin": true,
           "gridcolor": "white",
           "linecolor": "white",
           "ticks": "",
           "title": {
            "standoff": 15
           },
           "zerolinecolor": "white",
           "zerolinewidth": 2
          }
         }
        },
        "title": {
         "text": "BHARTIARTL Stock"
        },
        "xaxis": {
         "title": {
          "text": "Date"
         }
        },
        "yaxis": {
         "title": {
          "text": "Close"
         }
        }
       }
      }
     },
     "metadata": {},
     "output_type": "display_data"
    },
    {
     "name": "stdout",
     "output_type": "stream",
     "text": [
      "35 50\n"
     ]
    }
   ],
   "source": [
    "prediction = model.predict(test_generator)\n",
    "import plotly.graph_objects as go\n",
    "close_train = close_train.reshape((-1))\n",
    "close_test = close_test.reshape((-1))\n",
    "prediction = prediction.reshape((-1))\n",
    "print(len(close_test))\n",
    "trace1 = go.Scatter(\n",
    "    x = date_train,\n",
    "    y = close_train,\n",
    "    mode = 'lines',\n",
    "    name = 'Data'\n",
    ")\n",
    "trace2 = go.Scatter(\n",
    "    x = date_test,\n",
    "    y = prediction,\n",
    "    mode = 'lines',\n",
    "    name = 'Prediction'\n",
    ")\n",
    "trace3 = go.Scatter(\n",
    "    x = date_test,\n",
    "    y = close_test,\n",
    "    mode='lines',\n",
    "    name = 'Ground Truth'\n",
    ")\n",
    "layout = go.Layout(\n",
    "    title = stock+\" Stock\",\n",
    "    xaxis = {'title' : \"Date\"},\n",
    "    yaxis = {'title' : \"Close\"}\n",
    ")\n",
    "fig = go.Figure(data=[trace1, trace2, trace3], layout=layout)\n",
    "fig.show()\n",
    "print(len(prediction),len(date_test))"
   ]
  },
  {
   "cell_type": "code",
   "execution_count": 8,
   "id": "25a01805-51ce-43b1-b568-93f323425b3b",
   "metadata": {},
   "outputs": [
    {
     "data": {
      "text/plain": [
       "array([712.5       , 716.25323486, 709.43615723, 703.32434082,\n",
       "       699.16809082, 695.62280273, 692.50231934, 689.61157227,\n",
       "       686.80963135, 684.08526611, 681.42156982, 678.80566406,\n",
       "       676.22589111, 673.67437744, 671.1552124 , 668.66705322,\n",
       "       666.1940918 , 663.73712158, 661.30267334, 658.89385986,\n",
       "       656.5111084 , 654.1541748 , 651.82263184, 649.51611328,\n",
       "       647.23419189, 644.97650146, 642.74273682, 640.53259277,\n",
       "       638.34576416, 636.1819458 , 634.04083252])"
      ]
     },
     "execution_count": 8,
     "metadata": {},
     "output_type": "execute_result"
    }
   ],
   "source": [
    "close_data = close_data.reshape((-1))\n",
    "\n",
    "def predict(num_prediction, model):\n",
    "    prediction_list = close_data[-look_back:]\n",
    "    \n",
    "    for _ in range(num_prediction):\n",
    "        x = prediction_list[-look_back:]\n",
    "        x = x.reshape((1, look_back, 1))\n",
    "        out = model.predict(x)[0][0]\n",
    "        prediction_list = np.append(prediction_list, out)\n",
    "    prediction_list = prediction_list[look_back-1:]\n",
    "        \n",
    "    return prediction_list\n",
    "    \n",
    "def predict_dates(num_prediction):\n",
    "    last_date = df['Date'].values[-1]\n",
    "    prediction_dates = pd.date_range(last_date, periods=num_prediction+1).tolist()\n",
    "    return prediction_dates\n",
    "\n",
    "num_prediction = 30\n",
    "forecast = predict(num_prediction, model)\n",
    "forecast_dates = predict_dates(num_prediction)\n",
    "forecast"
   ]
  },
  {
   "cell_type": "code",
   "execution_count": 9,
   "id": "d4037e16-88cc-496f-9dcf-01a5a7f0f844",
   "metadata": {},
   "outputs": [
    {
     "data": {
      "application/vnd.plotly.v1+json": {
       "config": {
        "plotlyServerURL": "https://plot.ly"
       },
       "data": [
        {
         "mode": "lines",
         "name": "Data",
         "type": "scatter",
         "x": [
          "2020-11-02T00:00:00",
          "2020-11-03T00:00:00",
          "2020-11-04T00:00:00",
          "2020-11-05T00:00:00",
          "2020-11-06T00:00:00",
          "2020-11-09T00:00:00",
          "2020-11-10T00:00:00",
          "2020-11-11T00:00:00",
          "2020-11-12T00:00:00",
          "2020-11-13T00:00:00",
          "2020-11-14T00:00:00",
          "2020-11-17T00:00:00",
          "2020-11-18T00:00:00",
          "2020-11-19T00:00:00",
          "2020-11-20T00:00:00",
          "2020-11-23T00:00:00",
          "2020-11-24T00:00:00",
          "2020-11-25T00:00:00",
          "2020-11-26T00:00:00",
          "2020-11-27T00:00:00",
          "2020-12-01T00:00:00",
          "2020-12-02T00:00:00",
          "2020-12-03T00:00:00",
          "2020-12-04T00:00:00",
          "2020-12-07T00:00:00",
          "2020-12-08T00:00:00",
          "2020-12-09T00:00:00",
          "2020-12-10T00:00:00",
          "2020-12-11T00:00:00",
          "2020-12-14T00:00:00",
          "2020-12-15T00:00:00",
          "2020-12-16T00:00:00",
          "2020-12-17T00:00:00",
          "2020-12-18T00:00:00",
          "2020-12-21T00:00:00",
          "2020-12-22T00:00:00",
          "2020-12-23T00:00:00",
          "2020-12-24T00:00:00",
          "2020-12-28T00:00:00",
          "2020-12-29T00:00:00",
          "2020-12-30T00:00:00",
          "2020-12-31T00:00:00",
          "2021-01-01T00:00:00",
          "2021-01-04T00:00:00",
          "2021-01-05T00:00:00",
          "2021-01-06T00:00:00",
          "2021-01-07T00:00:00",
          "2021-01-08T00:00:00",
          "2021-01-11T00:00:00",
          "2021-01-12T00:00:00",
          "2021-01-13T00:00:00",
          "2021-01-14T00:00:00",
          "2021-01-15T00:00:00",
          "2021-01-18T00:00:00",
          "2021-01-19T00:00:00",
          "2021-01-20T00:00:00",
          "2021-01-21T00:00:00",
          "2021-01-22T00:00:00",
          "2021-01-25T00:00:00",
          "2021-01-27T00:00:00",
          "2021-01-28T00:00:00",
          "2021-01-29T00:00:00",
          "2021-02-01T00:00:00",
          "2021-02-02T00:00:00",
          "2021-02-03T00:00:00",
          "2021-02-04T00:00:00",
          "2021-02-05T00:00:00",
          "2021-02-08T00:00:00",
          "2021-02-09T00:00:00",
          "2021-02-10T00:00:00",
          "2021-02-11T00:00:00",
          "2021-02-12T00:00:00",
          "2021-02-15T00:00:00",
          "2021-02-16T00:00:00",
          "2021-02-17T00:00:00",
          "2021-02-18T00:00:00",
          "2021-02-19T00:00:00",
          "2021-02-22T00:00:00",
          "2021-02-23T00:00:00",
          "2021-02-24T00:00:00",
          "2021-02-25T00:00:00",
          "2021-02-26T00:00:00",
          "2021-03-01T00:00:00",
          "2021-03-02T00:00:00",
          "2021-03-03T00:00:00",
          "2021-03-04T00:00:00",
          "2021-03-05T00:00:00",
          "2021-03-08T00:00:00",
          "2021-03-09T00:00:00",
          "2021-03-10T00:00:00",
          "2021-03-12T00:00:00",
          "2021-03-15T00:00:00",
          "2021-03-16T00:00:00",
          "2021-03-17T00:00:00",
          "2021-03-18T00:00:00",
          "2021-03-19T00:00:00",
          "2021-03-22T00:00:00",
          "2021-03-23T00:00:00",
          "2021-03-24T00:00:00",
          "2021-03-25T00:00:00",
          "2021-03-26T00:00:00",
          "2021-03-30T00:00:00",
          "2021-03-31T00:00:00",
          "2021-04-01T00:00:00",
          "2021-04-05T00:00:00",
          "2021-04-06T00:00:00",
          "2021-04-07T00:00:00",
          "2021-04-08T00:00:00",
          "2021-04-09T00:00:00",
          "2021-04-12T00:00:00",
          "2021-04-13T00:00:00",
          "2021-04-15T00:00:00",
          "2021-04-16T00:00:00",
          "2021-04-19T00:00:00",
          "2021-04-20T00:00:00",
          "2021-04-22T00:00:00",
          "2021-04-23T00:00:00",
          "2021-04-26T00:00:00",
          "2021-04-27T00:00:00",
          "2021-04-28T00:00:00",
          "2021-04-29T00:00:00",
          "2021-04-30T00:00:00",
          "2021-05-03T00:00:00",
          "2021-05-04T00:00:00",
          "2021-05-05T00:00:00",
          "2021-05-06T00:00:00",
          "2021-05-07T00:00:00",
          "2021-05-10T00:00:00",
          "2021-05-11T00:00:00",
          "2021-05-12T00:00:00",
          "2021-05-14T00:00:00",
          "2021-05-17T00:00:00",
          "2021-05-18T00:00:00",
          "2021-05-19T00:00:00",
          "2021-05-20T00:00:00",
          "2021-05-21T00:00:00",
          "2021-05-24T00:00:00",
          "2021-05-25T00:00:00",
          "2021-05-26T00:00:00",
          "2021-05-27T00:00:00",
          "2021-05-28T00:00:00",
          "2021-05-31T00:00:00",
          "2021-06-01T00:00:00",
          "2021-06-02T00:00:00",
          "2021-06-03T00:00:00",
          "2021-06-04T00:00:00",
          "2021-06-07T00:00:00",
          "2021-06-08T00:00:00",
          "2021-06-09T00:00:00",
          "2021-06-10T00:00:00",
          "2021-06-11T00:00:00",
          "2021-06-14T00:00:00",
          "2021-06-15T00:00:00",
          "2021-06-16T00:00:00",
          "2021-06-17T00:00:00",
          "2021-06-18T00:00:00",
          "2021-06-21T00:00:00",
          "2021-06-22T00:00:00",
          "2021-06-23T00:00:00",
          "2021-06-24T00:00:00",
          "2021-06-25T00:00:00",
          "2021-06-28T00:00:00",
          "2021-06-29T00:00:00",
          "2021-06-30T00:00:00",
          "2021-07-01T00:00:00",
          "2021-07-02T00:00:00",
          "2021-07-05T00:00:00",
          "2021-07-06T00:00:00",
          "2021-07-07T00:00:00",
          "2021-07-08T00:00:00",
          "2021-07-09T00:00:00",
          "2021-07-12T00:00:00",
          "2021-07-13T00:00:00",
          "2021-07-14T00:00:00",
          "2021-07-15T00:00:00",
          "2021-07-16T00:00:00",
          "2021-07-19T00:00:00",
          "2021-07-20T00:00:00",
          "2021-07-22T00:00:00",
          "2021-07-23T00:00:00",
          "2021-07-26T00:00:00",
          "2021-07-27T00:00:00",
          "2021-07-28T00:00:00",
          "2021-07-29T00:00:00",
          "2021-07-30T00:00:00",
          "2021-08-02T00:00:00",
          "2021-08-03T00:00:00",
          "2021-08-04T00:00:00",
          "2021-08-05T00:00:00",
          "2021-08-06T00:00:00",
          "2021-08-09T00:00:00",
          "2021-08-10T00:00:00",
          "2021-08-11T00:00:00",
          "2021-08-12T00:00:00",
          "2021-08-13T00:00:00",
          "2021-08-16T00:00:00",
          "2021-08-17T00:00:00",
          "2021-08-18T00:00:00"
         ],
         "y": [
          457.4,
          454.6,
          453.05,
          457.3,
          449.9,
          471.8,
          466.4,
          478.6,
          479.85,
          475.75,
          481.5,
          484.55,
          478.4,
          468.55,
          483.7,
          477.25,
          474.25,
          464.1,
          468.4,
          463.25,
          479.45,
          484.9,
          479.9,
          493.75,
          508.95,
          503.6,
          503.05,
          505.15,
          504.4,
          503.05,
          504.2,
          516.2,
          515.1,
          510.65,
          490.9,
          500.3,
          507.2,
          517.3,
          521.6,
          520.25,
          516.15,
          509.7,
          515.15,
          517.1,
          514,
          525.3,
          545.25,
          540.25,
          547.15,
          565.75,
          578.25,
          580.55,
          602.65,
          586.95,
          592.3,
          596.15,
          581.35,
          576.85,
          580.75,
          570.8,
          570.9,
          553.6,
          579.15,
          599.35,
          608.85,
          600.6,
          581.1,
          597.3,
          598.95,
          590.2,
          598.1,
          586.25,
          593.7,
          593.95,
          593.85,
          589.05,
          581.35,
          570.3,
          565.55,
          572.95,
          579.15,
          556.3,
          532.2,
          541.2,
          546.3,
          539.6,
          532.8,
          525.7,
          521.75,
          525.85,
          524.2,
          522.85,
          529.3,
          522.9,
          527.2,
          529.95,
          528,
          529.25,
          523.65,
          507.75,
          522.5,
          521.5,
          517.3,
          520.8,
          528.25,
          532.2,
          541.6,
          543,
          545.25,
          522.45,
          536.15,
          539.35,
          540.75,
          526.45,
          530.2,
          530.85,
          522.6,
          527.55,
          534.3,
          544.3,
          540.85,
          536.75,
          558.85,
          552.45,
          559.95,
          558.75,
          568.5,
          572.55,
          568.4,
          561.75,
          560.4,
          549.65,
          536.35,
          528.2,
          520.65,
          530.95,
          526.8,
          526.1,
          525.75,
          519.8,
          523.6,
          534.9,
          532.9,
          529.5,
          532.05,
          532.7,
          536.45,
          546.8,
          540,
          545.15,
          540.85,
          539.35,
          542.5,
          536.75,
          528.65,
          538.75,
          539.6,
          536.4,
          534.05,
          528.75,
          535.1,
          531.2,
          524.95,
          525.65,
          522.65,
          525,
          523.95,
          526.1,
          529.6,
          525.3,
          536.25,
          529.65,
          530.05,
          530.05,
          525.45,
          541.15,
          538.45,
          525.75,
          546.7,
          548.3,
          544.05,
          540.55,
          567.9,
          567.15,
          561.65,
          565.15,
          580.2,
          574.4,
          598.7,
          607.9,
          599.25,
          622.2,
          620.85,
          623.15,
          637.05,
          634.05,
          626.35,
          622.95
         ]
        },
        {
         "mode": "lines",
         "name": "Prediction",
         "type": "scatter",
         "x": [
          "2021-08-20T00:00:00",
          "2021-08-23T00:00:00",
          "2021-08-24T00:00:00",
          "2021-08-25T00:00:00",
          "2021-08-26T00:00:00",
          "2021-08-27T00:00:00",
          "2021-08-30T00:00:00",
          "2021-08-31T00:00:00",
          "2021-09-01T00:00:00",
          "2021-09-02T00:00:00",
          "2021-09-03T00:00:00",
          "2021-09-06T00:00:00",
          "2021-09-07T00:00:00",
          "2021-09-08T00:00:00",
          "2021-09-09T00:00:00",
          "2021-09-13T00:00:00",
          "2021-09-14T00:00:00",
          "2021-09-15T00:00:00",
          "2021-09-16T00:00:00",
          "2021-09-17T00:00:00",
          "2021-09-20T00:00:00",
          "2021-09-21T00:00:00",
          "2021-09-22T00:00:00",
          "2021-09-23T00:00:00",
          "2021-09-24T00:00:00",
          "2021-09-27T00:00:00",
          "2021-09-28T00:00:00",
          "2021-09-29T00:00:00",
          "2021-09-30T00:00:00",
          "2021-10-01T00:00:00",
          "2021-10-04T00:00:00",
          "2021-10-05T00:00:00",
          "2021-10-06T00:00:00",
          "2021-10-07T00:00:00",
          "2021-10-08T00:00:00",
          "2021-10-11T00:00:00",
          "2021-10-12T00:00:00",
          "2021-10-13T00:00:00",
          "2021-10-14T00:00:00",
          "2021-10-18T00:00:00",
          "2021-10-19T00:00:00",
          "2021-10-20T00:00:00",
          "2021-10-21T00:00:00",
          "2021-10-22T00:00:00",
          "2021-10-25T00:00:00",
          "2021-10-26T00:00:00",
          "2021-10-27T00:00:00",
          "2021-10-28T00:00:00",
          "2021-10-29T00:00:00",
          "2021-11-01T00:00:00"
         ],
         "y": [
          685.6707153320312,
          689.2169799804688,
          689.625244140625,
          713.787353515625,
          713.6362915039062,
          726.0499267578125,
          717.7116088867188,
          725.2658081054688,
          721.6494750976562,
          722.9324951171875,
          742.4067993164062,
          722.587890625,
          708.6331176757812,
          698.9261474609375,
          691.2435913085938,
          682.7987670898438,
          679.9745483398438,
          706.6007080078125,
          688.8831787109375,
          690.0545043945312,
          692.4187622070312,
          686.7545776367188,
          683.1884765625,
          688.7730102539062,
          682.0462036132812,
          677.85595703125,
          678.6924438476562,
          709.9408569335938,
          690.8220825195312,
          691.827392578125,
          686.8756713867188,
          696.9258422851562,
          699.4406127929688,
          687.55908203125,
          682.7734985351562
         ]
        },
        {
         "mode": "lines",
         "name": "Ground Truth",
         "type": "scatter",
         "x": [
          "2021-08-20T00:00:00",
          "2021-08-23T00:00:00",
          "2021-08-24T00:00:00",
          "2021-08-25T00:00:00",
          "2021-08-26T00:00:00",
          "2021-08-27T00:00:00",
          "2021-08-30T00:00:00",
          "2021-08-31T00:00:00",
          "2021-09-01T00:00:00",
          "2021-09-02T00:00:00",
          "2021-09-03T00:00:00",
          "2021-09-06T00:00:00",
          "2021-09-07T00:00:00",
          "2021-09-08T00:00:00",
          "2021-09-09T00:00:00",
          "2021-09-13T00:00:00",
          "2021-09-14T00:00:00",
          "2021-09-15T00:00:00",
          "2021-09-16T00:00:00",
          "2021-09-17T00:00:00",
          "2021-09-20T00:00:00",
          "2021-09-21T00:00:00",
          "2021-09-22T00:00:00",
          "2021-09-23T00:00:00",
          "2021-09-24T00:00:00",
          "2021-09-27T00:00:00",
          "2021-09-28T00:00:00",
          "2021-09-29T00:00:00",
          "2021-09-30T00:00:00",
          "2021-10-01T00:00:00",
          "2021-10-04T00:00:00",
          "2021-10-05T00:00:00",
          "2021-10-06T00:00:00",
          "2021-10-07T00:00:00",
          "2021-10-08T00:00:00",
          "2021-10-11T00:00:00",
          "2021-10-12T00:00:00",
          "2021-10-13T00:00:00",
          "2021-10-14T00:00:00",
          "2021-10-18T00:00:00",
          "2021-10-19T00:00:00",
          "2021-10-20T00:00:00",
          "2021-10-21T00:00:00",
          "2021-10-22T00:00:00",
          "2021-10-25T00:00:00",
          "2021-10-26T00:00:00",
          "2021-10-27T00:00:00",
          "2021-10-28T00:00:00",
          "2021-10-29T00:00:00",
          "2021-11-01T00:00:00"
         ],
         "y": [
          613.7,
          622.65,
          620.1,
          612.45,
          586.9,
          595.15,
          620.45,
          664.05,
          666.4,
          666.5,
          658.45,
          654.6,
          670.55,
          667.85,
          686.15,
          693.3,
          694.2,
          725.5,
          718.6,
          728.15,
          724.95,
          726.65,
          726.75,
          726.8,
          739.4,
          722.55,
          696.15,
          694.1,
          688.3,
          675.9,
          681.4,
          699.25,
          691.4,
          692.5,
          695.5,
          690.85,
          686.35,
          689.9,
          685.8,
          680.6,
          681.1,
          708.45,
          696.05,
          694.5,
          691.1,
          696.2,
          702.35,
          689.75,
          685.35,
          712.5
         ]
        },
        {
         "mode": "lines",
         "name": "Forecasted",
         "type": "scatter",
         "x": [
          "2021-11-01T00:00:00",
          "2021-11-02T00:00:00",
          "2021-11-03T00:00:00",
          "2021-11-04T00:00:00",
          "2021-11-05T00:00:00",
          "2021-11-06T00:00:00",
          "2021-11-07T00:00:00",
          "2021-11-08T00:00:00",
          "2021-11-09T00:00:00",
          "2021-11-10T00:00:00",
          "2021-11-11T00:00:00",
          "2021-11-12T00:00:00",
          "2021-11-13T00:00:00",
          "2021-11-14T00:00:00",
          "2021-11-15T00:00:00",
          "2021-11-16T00:00:00",
          "2021-11-17T00:00:00",
          "2021-11-18T00:00:00",
          "2021-11-19T00:00:00",
          "2021-11-20T00:00:00",
          "2021-11-21T00:00:00",
          "2021-11-22T00:00:00",
          "2021-11-23T00:00:00",
          "2021-11-24T00:00:00",
          "2021-11-25T00:00:00",
          "2021-11-26T00:00:00",
          "2021-11-27T00:00:00",
          "2021-11-28T00:00:00",
          "2021-11-29T00:00:00",
          "2021-11-30T00:00:00",
          "2021-12-01T00:00:00"
         ],
         "y": [
          712.5,
          716.2532348632812,
          709.4361572265625,
          703.3243408203125,
          699.1680908203125,
          695.622802734375,
          692.5023193359375,
          689.611572265625,
          686.8096313476562,
          684.0852661132812,
          681.4215698242188,
          678.8056640625,
          676.2258911132812,
          673.6743774414062,
          671.1552124023438,
          668.6670532226562,
          666.194091796875,
          663.7371215820312,
          661.3026733398438,
          658.8938598632812,
          656.5111083984375,
          654.1541748046875,
          651.8226318359375,
          649.51611328125,
          647.2341918945312,
          644.9765014648438,
          642.7427368164062,
          640.5325927734375,
          638.3457641601562,
          636.1819458007812,
          634.0408325195312
         ]
        }
       ],
       "layout": {
        "template": {
         "data": {
          "bar": [
           {
            "error_x": {
             "color": "#2a3f5f"
            },
            "error_y": {
             "color": "#2a3f5f"
            },
            "marker": {
             "line": {
              "color": "#E5ECF6",
              "width": 0.5
             },
             "pattern": {
              "fillmode": "overlay",
              "size": 10,
              "solidity": 0.2
             }
            },
            "type": "bar"
           }
          ],
          "barpolar": [
           {
            "marker": {
             "line": {
              "color": "#E5ECF6",
              "width": 0.5
             },
             "pattern": {
              "fillmode": "overlay",
              "size": 10,
              "solidity": 0.2
             }
            },
            "type": "barpolar"
           }
          ],
          "carpet": [
           {
            "aaxis": {
             "endlinecolor": "#2a3f5f",
             "gridcolor": "white",
             "linecolor": "white",
             "minorgridcolor": "white",
             "startlinecolor": "#2a3f5f"
            },
            "baxis": {
             "endlinecolor": "#2a3f5f",
             "gridcolor": "white",
             "linecolor": "white",
             "minorgridcolor": "white",
             "startlinecolor": "#2a3f5f"
            },
            "type": "carpet"
           }
          ],
          "choropleth": [
           {
            "colorbar": {
             "outlinewidth": 0,
             "ticks": ""
            },
            "type": "choropleth"
           }
          ],
          "contour": [
           {
            "colorbar": {
             "outlinewidth": 0,
             "ticks": ""
            },
            "colorscale": [
             [
              0,
              "#0d0887"
             ],
             [
              0.1111111111111111,
              "#46039f"
             ],
             [
              0.2222222222222222,
              "#7201a8"
             ],
             [
              0.3333333333333333,
              "#9c179e"
             ],
             [
              0.4444444444444444,
              "#bd3786"
             ],
             [
              0.5555555555555556,
              "#d8576b"
             ],
             [
              0.6666666666666666,
              "#ed7953"
             ],
             [
              0.7777777777777778,
              "#fb9f3a"
             ],
             [
              0.8888888888888888,
              "#fdca26"
             ],
             [
              1,
              "#f0f921"
             ]
            ],
            "type": "contour"
           }
          ],
          "contourcarpet": [
           {
            "colorbar": {
             "outlinewidth": 0,
             "ticks": ""
            },
            "type": "contourcarpet"
           }
          ],
          "heatmap": [
           {
            "colorbar": {
             "outlinewidth": 0,
             "ticks": ""
            },
            "colorscale": [
             [
              0,
              "#0d0887"
             ],
             [
              0.1111111111111111,
              "#46039f"
             ],
             [
              0.2222222222222222,
              "#7201a8"
             ],
             [
              0.3333333333333333,
              "#9c179e"
             ],
             [
              0.4444444444444444,
              "#bd3786"
             ],
             [
              0.5555555555555556,
              "#d8576b"
             ],
             [
              0.6666666666666666,
              "#ed7953"
             ],
             [
              0.7777777777777778,
              "#fb9f3a"
             ],
             [
              0.8888888888888888,
              "#fdca26"
             ],
             [
              1,
              "#f0f921"
             ]
            ],
            "type": "heatmap"
           }
          ],
          "heatmapgl": [
           {
            "colorbar": {
             "outlinewidth": 0,
             "ticks": ""
            },
            "colorscale": [
             [
              0,
              "#0d0887"
             ],
             [
              0.1111111111111111,
              "#46039f"
             ],
             [
              0.2222222222222222,
              "#7201a8"
             ],
             [
              0.3333333333333333,
              "#9c179e"
             ],
             [
              0.4444444444444444,
              "#bd3786"
             ],
             [
              0.5555555555555556,
              "#d8576b"
             ],
             [
              0.6666666666666666,
              "#ed7953"
             ],
             [
              0.7777777777777778,
              "#fb9f3a"
             ],
             [
              0.8888888888888888,
              "#fdca26"
             ],
             [
              1,
              "#f0f921"
             ]
            ],
            "type": "heatmapgl"
           }
          ],
          "histogram": [
           {
            "marker": {
             "pattern": {
              "fillmode": "overlay",
              "size": 10,
              "solidity": 0.2
             }
            },
            "type": "histogram"
           }
          ],
          "histogram2d": [
           {
            "colorbar": {
             "outlinewidth": 0,
             "ticks": ""
            },
            "colorscale": [
             [
              0,
              "#0d0887"
             ],
             [
              0.1111111111111111,
              "#46039f"
             ],
             [
              0.2222222222222222,
              "#7201a8"
             ],
             [
              0.3333333333333333,
              "#9c179e"
             ],
             [
              0.4444444444444444,
              "#bd3786"
             ],
             [
              0.5555555555555556,
              "#d8576b"
             ],
             [
              0.6666666666666666,
              "#ed7953"
             ],
             [
              0.7777777777777778,
              "#fb9f3a"
             ],
             [
              0.8888888888888888,
              "#fdca26"
             ],
             [
              1,
              "#f0f921"
             ]
            ],
            "type": "histogram2d"
           }
          ],
          "histogram2dcontour": [
           {
            "colorbar": {
             "outlinewidth": 0,
             "ticks": ""
            },
            "colorscale": [
             [
              0,
              "#0d0887"
             ],
             [
              0.1111111111111111,
              "#46039f"
             ],
             [
              0.2222222222222222,
              "#7201a8"
             ],
             [
              0.3333333333333333,
              "#9c179e"
             ],
             [
              0.4444444444444444,
              "#bd3786"
             ],
             [
              0.5555555555555556,
              "#d8576b"
             ],
             [
              0.6666666666666666,
              "#ed7953"
             ],
             [
              0.7777777777777778,
              "#fb9f3a"
             ],
             [
              0.8888888888888888,
              "#fdca26"
             ],
             [
              1,
              "#f0f921"
             ]
            ],
            "type": "histogram2dcontour"
           }
          ],
          "mesh3d": [
           {
            "colorbar": {
             "outlinewidth": 0,
             "ticks": ""
            },
            "type": "mesh3d"
           }
          ],
          "parcoords": [
           {
            "line": {
             "colorbar": {
              "outlinewidth": 0,
              "ticks": ""
             }
            },
            "type": "parcoords"
           }
          ],
          "pie": [
           {
            "automargin": true,
            "type": "pie"
           }
          ],
          "scatter": [
           {
            "marker": {
             "colorbar": {
              "outlinewidth": 0,
              "ticks": ""
             }
            },
            "type": "scatter"
           }
          ],
          "scatter3d": [
           {
            "line": {
             "colorbar": {
              "outlinewidth": 0,
              "ticks": ""
             }
            },
            "marker": {
             "colorbar": {
              "outlinewidth": 0,
              "ticks": ""
             }
            },
            "type": "scatter3d"
           }
          ],
          "scattercarpet": [
           {
            "marker": {
             "colorbar": {
              "outlinewidth": 0,
              "ticks": ""
             }
            },
            "type": "scattercarpet"
           }
          ],
          "scattergeo": [
           {
            "marker": {
             "colorbar": {
              "outlinewidth": 0,
              "ticks": ""
             }
            },
            "type": "scattergeo"
           }
          ],
          "scattergl": [
           {
            "marker": {
             "colorbar": {
              "outlinewidth": 0,
              "ticks": ""
             }
            },
            "type": "scattergl"
           }
          ],
          "scattermapbox": [
           {
            "marker": {
             "colorbar": {
              "outlinewidth": 0,
              "ticks": ""
             }
            },
            "type": "scattermapbox"
           }
          ],
          "scatterpolar": [
           {
            "marker": {
             "colorbar": {
              "outlinewidth": 0,
              "ticks": ""
             }
            },
            "type": "scatterpolar"
           }
          ],
          "scatterpolargl": [
           {
            "marker": {
             "colorbar": {
              "outlinewidth": 0,
              "ticks": ""
             }
            },
            "type": "scatterpolargl"
           }
          ],
          "scatterternary": [
           {
            "marker": {
             "colorbar": {
              "outlinewidth": 0,
              "ticks": ""
             }
            },
            "type": "scatterternary"
           }
          ],
          "surface": [
           {
            "colorbar": {
             "outlinewidth": 0,
             "ticks": ""
            },
            "colorscale": [
             [
              0,
              "#0d0887"
             ],
             [
              0.1111111111111111,
              "#46039f"
             ],
             [
              0.2222222222222222,
              "#7201a8"
             ],
             [
              0.3333333333333333,
              "#9c179e"
             ],
             [
              0.4444444444444444,
              "#bd3786"
             ],
             [
              0.5555555555555556,
              "#d8576b"
             ],
             [
              0.6666666666666666,
              "#ed7953"
             ],
             [
              0.7777777777777778,
              "#fb9f3a"
             ],
             [
              0.8888888888888888,
              "#fdca26"
             ],
             [
              1,
              "#f0f921"
             ]
            ],
            "type": "surface"
           }
          ],
          "table": [
           {
            "cells": {
             "fill": {
              "color": "#EBF0F8"
             },
             "line": {
              "color": "white"
             }
            },
            "header": {
             "fill": {
              "color": "#C8D4E3"
             },
             "line": {
              "color": "white"
             }
            },
            "type": "table"
           }
          ]
         },
         "layout": {
          "annotationdefaults": {
           "arrowcolor": "#2a3f5f",
           "arrowhead": 0,
           "arrowwidth": 1
          },
          "autotypenumbers": "strict",
          "coloraxis": {
           "colorbar": {
            "outlinewidth": 0,
            "ticks": ""
           }
          },
          "colorscale": {
           "diverging": [
            [
             0,
             "#8e0152"
            ],
            [
             0.1,
             "#c51b7d"
            ],
            [
             0.2,
             "#de77ae"
            ],
            [
             0.3,
             "#f1b6da"
            ],
            [
             0.4,
             "#fde0ef"
            ],
            [
             0.5,
             "#f7f7f7"
            ],
            [
             0.6,
             "#e6f5d0"
            ],
            [
             0.7,
             "#b8e186"
            ],
            [
             0.8,
             "#7fbc41"
            ],
            [
             0.9,
             "#4d9221"
            ],
            [
             1,
             "#276419"
            ]
           ],
           "sequential": [
            [
             0,
             "#0d0887"
            ],
            [
             0.1111111111111111,
             "#46039f"
            ],
            [
             0.2222222222222222,
             "#7201a8"
            ],
            [
             0.3333333333333333,
             "#9c179e"
            ],
            [
             0.4444444444444444,
             "#bd3786"
            ],
            [
             0.5555555555555556,
             "#d8576b"
            ],
            [
             0.6666666666666666,
             "#ed7953"
            ],
            [
             0.7777777777777778,
             "#fb9f3a"
            ],
            [
             0.8888888888888888,
             "#fdca26"
            ],
            [
             1,
             "#f0f921"
            ]
           ],
           "sequentialminus": [
            [
             0,
             "#0d0887"
            ],
            [
             0.1111111111111111,
             "#46039f"
            ],
            [
             0.2222222222222222,
             "#7201a8"
            ],
            [
             0.3333333333333333,
             "#9c179e"
            ],
            [
             0.4444444444444444,
             "#bd3786"
            ],
            [
             0.5555555555555556,
             "#d8576b"
            ],
            [
             0.6666666666666666,
             "#ed7953"
            ],
            [
             0.7777777777777778,
             "#fb9f3a"
            ],
            [
             0.8888888888888888,
             "#fdca26"
            ],
            [
             1,
             "#f0f921"
            ]
           ]
          },
          "colorway": [
           "#636efa",
           "#EF553B",
           "#00cc96",
           "#ab63fa",
           "#FFA15A",
           "#19d3f3",
           "#FF6692",
           "#B6E880",
           "#FF97FF",
           "#FECB52"
          ],
          "font": {
           "color": "#2a3f5f"
          },
          "geo": {
           "bgcolor": "white",
           "lakecolor": "white",
           "landcolor": "#E5ECF6",
           "showlakes": true,
           "showland": true,
           "subunitcolor": "white"
          },
          "hoverlabel": {
           "align": "left"
          },
          "hovermode": "closest",
          "mapbox": {
           "style": "light"
          },
          "paper_bgcolor": "white",
          "plot_bgcolor": "#E5ECF6",
          "polar": {
           "angularaxis": {
            "gridcolor": "white",
            "linecolor": "white",
            "ticks": ""
           },
           "bgcolor": "#E5ECF6",
           "radialaxis": {
            "gridcolor": "white",
            "linecolor": "white",
            "ticks": ""
           }
          },
          "scene": {
           "xaxis": {
            "backgroundcolor": "#E5ECF6",
            "gridcolor": "white",
            "gridwidth": 2,
            "linecolor": "white",
            "showbackground": true,
            "ticks": "",
            "zerolinecolor": "white"
           },
           "yaxis": {
            "backgroundcolor": "#E5ECF6",
            "gridcolor": "white",
            "gridwidth": 2,
            "linecolor": "white",
            "showbackground": true,
            "ticks": "",
            "zerolinecolor": "white"
           },
           "zaxis": {
            "backgroundcolor": "#E5ECF6",
            "gridcolor": "white",
            "gridwidth": 2,
            "linecolor": "white",
            "showbackground": true,
            "ticks": "",
            "zerolinecolor": "white"
           }
          },
          "shapedefaults": {
           "line": {
            "color": "#2a3f5f"
           }
          },
          "ternary": {
           "aaxis": {
            "gridcolor": "white",
            "linecolor": "white",
            "ticks": ""
           },
           "baxis": {
            "gridcolor": "white",
            "linecolor": "white",
            "ticks": ""
           },
           "bgcolor": "#E5ECF6",
           "caxis": {
            "gridcolor": "white",
            "linecolor": "white",
            "ticks": ""
           }
          },
          "title": {
           "x": 0.05
          },
          "xaxis": {
           "automargin": true,
           "gridcolor": "white",
           "linecolor": "white",
           "ticks": "",
           "title": {
            "standoff": 15
           },
           "zerolinecolor": "white",
           "zerolinewidth": 2
          },
          "yaxis": {
           "automargin": true,
           "gridcolor": "white",
           "linecolor": "white",
           "ticks": "",
           "title": {
            "standoff": 15
           },
           "zerolinecolor": "white",
           "zerolinewidth": 2
          }
         }
        },
        "title": {
         "text": "BHARTIARTL Stock"
        },
        "xaxis": {
         "title": {
          "text": "Date"
         }
        },
        "yaxis": {
         "title": {
          "text": "Close"
         }
        }
       }
      }
     },
     "metadata": {},
     "output_type": "display_data"
    }
   ],
   "source": [
    "trace1 = go.Scatter(\n",
    "    x = date_train,\n",
    "    y = close_train,\n",
    "    mode = 'lines',\n",
    "    name = 'Data'\n",
    ")\n",
    "trace2 = go.Scatter(\n",
    "    x = date_test,\n",
    "    y = prediction,\n",
    "    mode = 'lines',\n",
    "    name = 'Prediction'\n",
    ")\n",
    "trace3 = go.Scatter(\n",
    "    x = date_test,\n",
    "    y = close_test,\n",
    "    mode='lines',\n",
    "    name = 'Ground Truth'\n",
    ")\n",
    "trace4 = go.Scatter(\n",
    "    x = forecast_dates,\n",
    "    y = forecast,\n",
    "    mode='lines',\n",
    "    name = 'Forecasted'\n",
    ")\n",
    "fig = go.Figure(data=[trace1, trace2, trace3,trace4], layout=layout)\n",
    "fig.show()"
   ]
  }
 ],
 "metadata": {
  "kernelspec": {
   "display_name": "Python 3 (ipykernel)",
   "language": "python",
   "name": "python3"
  },
  "language_info": {
   "codemirror_mode": {
    "name": "ipython",
    "version": 3
   },
   "file_extension": ".py",
   "mimetype": "text/x-python",
   "name": "python",
   "nbconvert_exporter": "python",
   "pygments_lexer": "ipython3",
   "version": "3.7.0"
  }
 },
 "nbformat": 4,
 "nbformat_minor": 5
}
