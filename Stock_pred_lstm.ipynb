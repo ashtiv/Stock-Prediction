{
 "cells": [
  {
   "cell_type": "code",
   "execution_count": 1,
   "id": "4159f4f1-6bde-4765-9191-cdd98283566c",
   "metadata": {},
   "outputs": [
    {
     "data": {
      "text/html": [
       "<div>\n",
       "<style scoped>\n",
       "    .dataframe tbody tr th:only-of-type {\n",
       "        vertical-align: middle;\n",
       "    }\n",
       "\n",
       "    .dataframe tbody tr th {\n",
       "        vertical-align: top;\n",
       "    }\n",
       "\n",
       "    .dataframe thead th {\n",
       "        text-align: right;\n",
       "    }\n",
       "</style>\n",
       "<table border=\"1\" class=\"dataframe\">\n",
       "  <thead>\n",
       "    <tr style=\"text-align: right;\">\n",
       "      <th></th>\n",
       "      <th>Symbol</th>\n",
       "      <th>Series</th>\n",
       "      <th>Prev Close</th>\n",
       "      <th>Open</th>\n",
       "      <th>High</th>\n",
       "      <th>Low</th>\n",
       "      <th>Last</th>\n",
       "      <th>Close</th>\n",
       "      <th>VWAP</th>\n",
       "      <th>Volume</th>\n",
       "      <th>Turnover</th>\n",
       "      <th>Trades</th>\n",
       "      <th>Deliverable Volume</th>\n",
       "      <th>%Deliverble</th>\n",
       "    </tr>\n",
       "    <tr>\n",
       "      <th>Date</th>\n",
       "      <th></th>\n",
       "      <th></th>\n",
       "      <th></th>\n",
       "      <th></th>\n",
       "      <th></th>\n",
       "      <th></th>\n",
       "      <th></th>\n",
       "      <th></th>\n",
       "      <th></th>\n",
       "      <th></th>\n",
       "      <th></th>\n",
       "      <th></th>\n",
       "      <th></th>\n",
       "      <th></th>\n",
       "    </tr>\n",
       "  </thead>\n",
       "  <tbody>\n",
       "    <tr>\n",
       "      <th>2020-11-02</th>\n",
       "      <td>BHARTIARTL</td>\n",
       "      <td>EQ</td>\n",
       "      <td>433.75</td>\n",
       "      <td>435.0</td>\n",
       "      <td>460.00</td>\n",
       "      <td>435.00</td>\n",
       "      <td>455.55</td>\n",
       "      <td>457.40</td>\n",
       "      <td>451.11</td>\n",
       "      <td>28174600</td>\n",
       "      <td>1.270977e+15</td>\n",
       "      <td>262756</td>\n",
       "      <td>9622899</td>\n",
       "      <td>0.3415</td>\n",
       "    </tr>\n",
       "    <tr>\n",
       "      <th>2020-11-03</th>\n",
       "      <td>BHARTIARTL</td>\n",
       "      <td>EQ</td>\n",
       "      <td>457.40</td>\n",
       "      <td>458.0</td>\n",
       "      <td>460.70</td>\n",
       "      <td>447.45</td>\n",
       "      <td>454.90</td>\n",
       "      <td>454.60</td>\n",
       "      <td>454.62</td>\n",
       "      <td>16036760</td>\n",
       "      <td>7.290606e+14</td>\n",
       "      <td>162571</td>\n",
       "      <td>5662537</td>\n",
       "      <td>0.3531</td>\n",
       "    </tr>\n",
       "    <tr>\n",
       "      <th>2020-11-04</th>\n",
       "      <td>BHARTIARTL</td>\n",
       "      <td>EQ</td>\n",
       "      <td>454.60</td>\n",
       "      <td>453.0</td>\n",
       "      <td>455.55</td>\n",
       "      <td>447.15</td>\n",
       "      <td>451.50</td>\n",
       "      <td>453.05</td>\n",
       "      <td>451.71</td>\n",
       "      <td>10003680</td>\n",
       "      <td>4.518785e+14</td>\n",
       "      <td>98671</td>\n",
       "      <td>3323113</td>\n",
       "      <td>0.3322</td>\n",
       "    </tr>\n",
       "    <tr>\n",
       "      <th>2020-11-05</th>\n",
       "      <td>BHARTIARTL</td>\n",
       "      <td>EQ</td>\n",
       "      <td>453.05</td>\n",
       "      <td>457.0</td>\n",
       "      <td>461.90</td>\n",
       "      <td>452.60</td>\n",
       "      <td>458.00</td>\n",
       "      <td>457.30</td>\n",
       "      <td>457.50</td>\n",
       "      <td>9234395</td>\n",
       "      <td>4.224738e+14</td>\n",
       "      <td>109959</td>\n",
       "      <td>3414270</td>\n",
       "      <td>0.3697</td>\n",
       "    </tr>\n",
       "    <tr>\n",
       "      <th>2020-11-06</th>\n",
       "      <td>BHARTIARTL</td>\n",
       "      <td>EQ</td>\n",
       "      <td>457.30</td>\n",
       "      <td>457.0</td>\n",
       "      <td>460.35</td>\n",
       "      <td>448.75</td>\n",
       "      <td>450.25</td>\n",
       "      <td>449.90</td>\n",
       "      <td>453.18</td>\n",
       "      <td>11970462</td>\n",
       "      <td>5.424776e+14</td>\n",
       "      <td>130841</td>\n",
       "      <td>5122085</td>\n",
       "      <td>0.4279</td>\n",
       "    </tr>\n",
       "  </tbody>\n",
       "</table>\n",
       "</div>"
      ],
      "text/plain": [
       "                Symbol Series  Prev Close   Open    High     Low    Last  \\\n",
       "Date                                                                       \n",
       "2020-11-02  BHARTIARTL     EQ      433.75  435.0  460.00  435.00  455.55   \n",
       "2020-11-03  BHARTIARTL     EQ      457.40  458.0  460.70  447.45  454.90   \n",
       "2020-11-04  BHARTIARTL     EQ      454.60  453.0  455.55  447.15  451.50   \n",
       "2020-11-05  BHARTIARTL     EQ      453.05  457.0  461.90  452.60  458.00   \n",
       "2020-11-06  BHARTIARTL     EQ      457.30  457.0  460.35  448.75  450.25   \n",
       "\n",
       "             Close    VWAP    Volume      Turnover  Trades  \\\n",
       "Date                                                         \n",
       "2020-11-02  457.40  451.11  28174600  1.270977e+15  262756   \n",
       "2020-11-03  454.60  454.62  16036760  7.290606e+14  162571   \n",
       "2020-11-04  453.05  451.71  10003680  4.518785e+14   98671   \n",
       "2020-11-05  457.30  457.50   9234395  4.224738e+14  109959   \n",
       "2020-11-06  449.90  453.18  11970462  5.424776e+14  130841   \n",
       "\n",
       "            Deliverable Volume  %Deliverble  \n",
       "Date                                         \n",
       "2020-11-02             9622899       0.3415  \n",
       "2020-11-03             5662537       0.3531  \n",
       "2020-11-04             3323113       0.3322  \n",
       "2020-11-05             3414270       0.3697  \n",
       "2020-11-06             5122085       0.4279  "
      ]
     },
     "execution_count": 1,
     "metadata": {},
     "output_type": "execute_result"
    }
   ],
   "source": [
    "import pandas as pd\n",
    "import numpy as np\n",
    "import keras\n",
    "import tensorflow as tf\n",
    "from keras.preprocessing.sequence import TimeseriesGenerator\n",
    "from nsepy import get_history as gh\n",
    "import datetime as dt\n",
    "start = dt.datetime(2020,11,1)\n",
    "end = dt.datetime(2021,11,1)\n",
    "stock='BHARTIARTL'\n",
    "df = gh(symbol=stock,start=start,end=end)\n",
    "df.head()"
   ]
  },
  {
   "cell_type": "code",
   "execution_count": 2,
   "id": "006d635f-d50d-4c18-a617-3c62fb40bc83",
   "metadata": {},
   "outputs": [
    {
     "data": {
      "text/html": [
       "<div>\n",
       "<style scoped>\n",
       "    .dataframe tbody tr th:only-of-type {\n",
       "        vertical-align: middle;\n",
       "    }\n",
       "\n",
       "    .dataframe tbody tr th {\n",
       "        vertical-align: top;\n",
       "    }\n",
       "\n",
       "    .dataframe thead th {\n",
       "        text-align: right;\n",
       "    }\n",
       "</style>\n",
       "<table border=\"1\" class=\"dataframe\">\n",
       "  <thead>\n",
       "    <tr style=\"text-align: right;\">\n",
       "      <th></th>\n",
       "      <th>Date</th>\n",
       "      <th>Close</th>\n",
       "    </tr>\n",
       "  </thead>\n",
       "  <tbody>\n",
       "    <tr>\n",
       "      <th>0</th>\n",
       "      <td>2020-11-02</td>\n",
       "      <td>457.40</td>\n",
       "    </tr>\n",
       "    <tr>\n",
       "      <th>1</th>\n",
       "      <td>2020-11-03</td>\n",
       "      <td>454.60</td>\n",
       "    </tr>\n",
       "    <tr>\n",
       "      <th>2</th>\n",
       "      <td>2020-11-04</td>\n",
       "      <td>453.05</td>\n",
       "    </tr>\n",
       "    <tr>\n",
       "      <th>3</th>\n",
       "      <td>2020-11-05</td>\n",
       "      <td>457.30</td>\n",
       "    </tr>\n",
       "    <tr>\n",
       "      <th>4</th>\n",
       "      <td>2020-11-06</td>\n",
       "      <td>449.90</td>\n",
       "    </tr>\n",
       "  </tbody>\n",
       "</table>\n",
       "</div>"
      ],
      "text/plain": [
       "         Date   Close\n",
       "0  2020-11-02  457.40\n",
       "1  2020-11-03  454.60\n",
       "2  2020-11-04  453.05\n",
       "3  2020-11-05  457.30\n",
       "4  2020-11-06  449.90"
      ]
     },
     "execution_count": 2,
     "metadata": {},
     "output_type": "execute_result"
    }
   ],
   "source": [
    "sf=df.index\n",
    "cf=df['Close'].values\n",
    "pf=pd.DataFrame()\n",
    "pf['Date']=sf\n",
    "pf['Close']=cf\n",
    "pf.head()\n",
    "df=pf\n",
    "df.head()"
   ]
  },
  {
   "cell_type": "code",
   "execution_count": 3,
   "id": "93472d31-ade4-4f87-bff6-545f25553916",
   "metadata": {},
   "outputs": [
    {
     "data": {
      "text/plain": [
       "[<matplotlib.lines.Line2D at 0x2d894cd3f28>]"
      ]
     },
     "execution_count": 3,
     "metadata": {},
     "output_type": "execute_result"
    },
    {
     "data": {
      "image/png": "[encoded data removed]",
      "text/plain": [
       "<Figure size 432x288 with 1 Axes>"
      ]
     },
     "metadata": {
      "needs_background": "light"
     },
     "output_type": "display_data"
    }
   ],
   "source": [
    "import matplotlib.pyplot as plt\n",
    "df['Date'] = pd.to_datetime(df['Date'])\n",
    "df.set_axis(df['Date'], inplace=True)\n",
    "plt.plot(df['Close'])"
   ]
  },
  {
   "cell_type": "code",
   "execution_count": 4,
   "id": "c1573dd3-d3a3-4eed-8186-cb083e823f04",
   "metadata": {},
   "outputs": [
    {
     "name": "stdout",
     "output_type": "stream",
     "text": [
      "198 50\n"
     ]
    }
   ],
   "source": [
    "close_data = df['Close'].values\n",
    "close_data = close_data.reshape((-1,1))\n",
    "split_percent = 0.80\n",
    "split = int(split_percent*len(close_data))\n",
    "close_train = close_data[:split]\n",
    "close_test = close_data[split:]\n",
    "date_train = df['Date'][:split]\n",
    "date_test = df['Date'][split:]\n",
    "print(len(close_train),len(close_test))"
   ]
  },
  {
   "cell_type": "code",
   "execution_count": 5,
   "id": "42394d25-c67c-47a6-bf04-5e92ec9461e9",
   "metadata": {},
   "outputs": [],
   "source": [
    "look_back = 15\n",
    "train_generator = TimeseriesGenerator(close_train, close_train, length=look_back, batch_size=20)     \n",
    "test_generator = TimeseriesGenerator(close_test, close_test, length=look_back, batch_size=1)"
   ]
  },
  {
   "cell_type": "code",
   "execution_count": 6,
   "id": "1766ab8e-0fbc-4f6e-b771-b7adf0a45b22",
   "metadata": {},
   "outputs": [
    {
     "name": "stdout",
     "output_type": "stream",
     "text": [
      "Epoch 1/100\n",
      "10/10 [==============================] - 2s 7ms/step - loss: 27006.1797\n",
      "Epoch 2/100\n",
      "10/10 [==============================] - 0s 7ms/step - loss: 7864.3115\n",
      "Epoch 3/100\n",
      "10/10 [==============================] - 0s 4ms/step - loss: 1104.0081\n",
      "Epoch 4/100\n",
      "10/10 [==============================] - 0s 4ms/step - loss: 1032.3302\n",
      "Epoch 5/100\n",
      "10/10 [==============================] - 0s 7ms/step - loss: 743.8099\n",
      "Epoch 6/100\n",
      "10/10 [==============================] - 0s 6ms/step - loss: 387.3603\n",
      "Epoch 7/100\n",
      "10/10 [==============================] - 0s 6ms/step - loss: 438.3232\n",
      "Epoch 8/100\n",
      "10/10 [==============================] - 0s 7ms/step - loss: 376.9360\n",
      "Epoch 9/100\n",
      "10/10 [==============================] - 0s 9ms/step - loss: 382.5387\n",
      "Epoch 10/100\n",
      "10/10 [==============================] - 0s 8ms/step - loss: 364.2171\n",
      "Epoch 11/100\n",
      "10/10 [==============================] - 0s 8ms/step - loss: 367.0950\n",
      "Epoch 12/100\n",
      "10/10 [==============================] - 0s 8ms/step - loss: 358.1111\n",
      "Epoch 13/100\n",
      "10/10 [==============================] - 0s 5ms/step - loss: 361.8787\n",
      "Epoch 14/100\n",
      "10/10 [==============================] - 0s 7ms/step - loss: 355.1504\n",
      "Epoch 15/100\n",
      "10/10 [==============================] - 0s 11ms/step - loss: 355.8557\n",
      "Epoch 16/100\n",
      "10/10 [==============================] - 0s 8ms/step - loss: 369.2118\n",
      "Epoch 17/100\n",
      "10/10 [==============================] - 0s 8ms/step - loss: 355.7188\n",
      "Epoch 18/100\n",
      "10/10 [==============================] - 0s 8ms/step - loss: 352.4788\n",
      "Epoch 19/100\n",
      "10/10 [==============================] - 0s 7ms/step - loss: 347.0781\n",
      "Epoch 20/100\n",
      "10/10 [==============================] - 0s 8ms/step - loss: 357.2003\n",
      "Epoch 21/100\n",
      "10/10 [==============================] - 0s 7ms/step - loss: 358.8133\n",
      "Epoch 22/100\n",
      "10/10 [==============================] - 0s 7ms/step - loss: 353.7489\n",
      "Epoch 23/100\n",
      "10/10 [==============================] - 0s 8ms/step - loss: 353.7325\n",
      "Epoch 24/100\n",
      "10/10 [==============================] - 0s 8ms/step - loss: 351.3145\n",
      "Epoch 25/100\n",
      "10/10 [==============================] - 0s 7ms/step - loss: 352.1688\n",
      "Epoch 26/100\n",
      "10/10 [==============================] - 0s 9ms/step - loss: 341.4998\n",
      "Epoch 27/100\n",
      "10/10 [==============================] - 0s 8ms/step - loss: 349.7785\n",
      "Epoch 28/100\n",
      "10/10 [==============================] - 0s 8ms/step - loss: 349.1909\n",
      "Epoch 29/100\n",
      "10/10 [==============================] - 0s 8ms/step - loss: 382.1173\n",
      "Epoch 30/100\n",
      "10/10 [==============================] - 0s 8ms/step - loss: 383.5807\n",
      "Epoch 31/100\n",
      "10/10 [==============================] - 0s 8ms/step - loss: 349.9080\n",
      "Epoch 32/100\n",
      "10/10 [==============================] - 0s 8ms/step - loss: 354.4546\n",
      "Epoch 33/100\n",
      "10/10 [==============================] - 0s 7ms/step - loss: 335.2058\n",
      "Epoch 34/100\n",
      "10/10 [==============================] - 0s 8ms/step - loss: 352.8290\n",
      "Epoch 35/100\n",
      "10/10 [==============================] - 0s 9ms/step - loss: 339.4489\n",
      "Epoch 36/100\n",
      "10/10 [==============================] - 0s 5ms/step - loss: 334.4215\n",
      "Epoch 37/100\n",
      "10/10 [==============================] - 0s 8ms/step - loss: 372.3600\n",
      "Epoch 38/100\n",
      "10/10 [==============================] - 0s 7ms/step - loss: 342.3701\n",
      "Epoch 39/100\n",
      "10/10 [==============================] - 0s 7ms/step - loss: 348.3584\n",
      "Epoch 40/100\n",
      "10/10 [==============================] - 0s 7ms/step - loss: 327.2036\n",
      "Epoch 41/100\n",
      "10/10 [==============================] - 0s 8ms/step - loss: 370.0867\n",
      "Epoch 42/100\n",
      "10/10 [==============================] - 0s 6ms/step - loss: 362.1258\n",
      "Epoch 43/100\n",
      "10/10 [==============================] - 0s 7ms/step - loss: 332.6395\n",
      "Epoch 44/100\n",
      "10/10 [==============================] - 0s 6ms/step - loss: 347.1183\n",
      "Epoch 45/100\n",
      "10/10 [==============================] - 0s 5ms/step - loss: 349.5783\n",
      "Epoch 46/100\n",
      "10/10 [==============================] - 0s 7ms/step - loss: 329.4986\n",
      "Epoch 47/100\n",
      "10/10 [==============================] - 0s 7ms/step - loss: 337.0665\n",
      "Epoch 48/100\n",
      "10/10 [==============================] - 0s 7ms/step - loss: 346.4888\n",
      "Epoch 49/100\n",
      "10/10 [==============================] - 0s 8ms/step - loss: 346.2690\n",
      "Epoch 50/100\n",
      "10/10 [==============================] - 0s 5ms/step - loss: 338.4499\n",
      "Epoch 51/100\n",
      "10/10 [==============================] - 0s 6ms/step - loss: 334.0377\n",
      "Epoch 52/100\n",
      "10/10 [==============================] - 0s 6ms/step - loss: 324.3766\n",
      "Epoch 53/100\n",
      "10/10 [==============================] - 0s 6ms/step - loss: 370.5329\n",
      "Epoch 54/100\n",
      "10/10 [==============================] - 0s 7ms/step - loss: 341.1084\n",
      "Epoch 55/100\n",
      "10/10 [==============================] - 0s 6ms/step - loss: 334.8724\n",
      "Epoch 56/100\n",
      "10/10 [==============================] - 0s 8ms/step - loss: 323.2349\n",
      "Epoch 57/100\n",
      "10/10 [==============================] - 0s 7ms/step - loss: 327.4231\n",
      "Epoch 58/100\n",
      "10/10 [==============================] - 0s 8ms/step - loss: 335.8596\n",
      "Epoch 59/100\n",
      "10/10 [==============================] - 0s 7ms/step - loss: 352.8232\n",
      "Epoch 60/100\n",
      "10/10 [==============================] - 0s 7ms/step - loss: 325.5467\n",
      "Epoch 61/100\n",
      "10/10 [==============================] - 0s 6ms/step - loss: 340.0581\n",
      "Epoch 62/100\n",
      "10/10 [==============================] - 0s 2ms/step - loss: 329.8009\n",
      "Epoch 63/100\n",
      "10/10 [==============================] - 0s 3ms/step - loss: 321.5577\n",
      "Epoch 64/100\n",
      "10/10 [==============================] - 0s 5ms/step - loss: 337.3805\n",
      "Epoch 65/100\n",
      "10/10 [==============================] - 0s 8ms/step - loss: 339.4164\n",
      "Epoch 66/100\n",
      "10/10 [==============================] - 0s 7ms/step - loss: 344.7509\n",
      "Epoch 67/100\n",
      "10/10 [==============================] - 0s 7ms/step - loss: 348.1798\n",
      "Epoch 68/100\n",
      "10/10 [==============================] - 0s 7ms/step - loss: 328.7639\n",
      "Epoch 69/100\n",
      "10/10 [==============================] - 0s 5ms/step - loss: 338.3850\n",
      "Epoch 70/100\n",
      "10/10 [==============================] - 0s 3ms/step - loss: 321.6508\n",
      "Epoch 71/100\n",
      "10/10 [==============================] - 0s 2ms/step - loss: 349.6511\n",
      "Epoch 72/100\n",
      "10/10 [==============================] - 0s 5ms/step - loss: 335.6507\n",
      "Epoch 73/100\n",
      "10/10 [==============================] - 0s 3ms/step - loss: 381.4163\n",
      "Epoch 74/100\n",
      "10/10 [==============================] - 0s 2ms/step - loss: 343.2639\n",
      "Epoch 75/100\n",
      "10/10 [==============================] - 0s 2ms/step - loss: 342.2305\n",
      "Epoch 76/100\n",
      "10/10 [==============================] - 0s 2ms/step - loss: 346.2549\n",
      "Epoch 77/100\n",
      "10/10 [==============================] - 0s 2ms/step - loss: 345.7592\n",
      "Epoch 78/100\n",
      "10/10 [==============================] - 0s 2ms/step - loss: 325.6369\n",
      "Epoch 79/100\n",
      "10/10 [==============================] - 0s 2ms/step - loss: 339.3896\n",
      "Epoch 80/100\n",
      "10/10 [==============================] - 0s 2ms/step - loss: 356.8669\n",
      "Epoch 81/100\n",
      "10/10 [==============================] - 0s 2ms/step - loss: 332.5935\n",
      "Epoch 82/100\n",
      "10/10 [==============================] - 0s 2ms/step - loss: 320.7805\n",
      "Epoch 83/100\n",
      "10/10 [==============================] - 0s 2ms/step - loss: 338.5583\n",
      "Epoch 84/100\n",
      "10/10 [==============================] - 0s 2ms/step - loss: 321.3752\n",
      "Epoch 85/100\n",
      "10/10 [==============================] - 0s 2ms/step - loss: 329.8964\n",
      "Epoch 86/100\n",
      "10/10 [==============================] - 0s 3ms/step - loss: 326.7143\n",
      "Epoch 87/100\n",
      "10/10 [==============================] - 0s 2ms/step - loss: 324.1981\n",
      "Epoch 88/100\n",
      "10/10 [==============================] - 0s 3ms/step - loss: 327.1996\n",
      "Epoch 89/100\n",
      "10/10 [==============================] - 0s 3ms/step - loss: 326.5744\n",
      "Epoch 90/100\n",
      "10/10 [==============================] - 0s 2ms/step - loss: 362.7745\n",
      "Epoch 91/100\n",
      "10/10 [==============================] - 0s 2ms/step - loss: 319.0084\n",
      "Epoch 92/100\n",
      "10/10 [==============================] - 0s 3ms/step - loss: 326.9447\n",
      "Epoch 93/100\n",
      "10/10 [==============================] - 0s 3ms/step - loss: 372.3241\n",
      "Epoch 94/100\n",
      "10/10 [==============================] - 0s 2ms/step - loss: 338.8318\n",
      "Epoch 95/100\n",
      "10/10 [==============================] - 0s 3ms/step - loss: 329.6621\n",
      "Epoch 96/100\n",
      "10/10 [==============================] - 0s 3ms/step - loss: 325.7386\n",
      "Epoch 97/100\n",
      "10/10 [==============================] - 0s 2ms/step - loss: 338.0752\n",
      "Epoch 98/100\n",
      "10/10 [==============================] - 0s 2ms/step - loss: 328.5288\n",
      "Epoch 99/100\n",
      "10/10 [==============================] - 0s 3ms/step - loss: 335.7301\n",
      "Epoch 100/100\n",
      "10/10 [==============================] - 0s 2ms/step - loss: 328.1699\n",
      "1000\n",
      "328.16986083984375\n",
      "328.16986083984375 9\n",
      "Epoch 1/100\n",
      "10/10 [==============================] - 1s 9ms/step - loss: 296756.5938\n",
      "Epoch 2/100\n",
      "10/10 [==============================] - 0s 3ms/step - loss: 296745.6562\n",
      "Epoch 3/100\n",
      "10/10 [==============================] - 0s 3ms/step - loss: 296734.8125\n",
      "Epoch 4/100\n",
      "10/10 [==============================] - 0s 3ms/step - loss: 296724.4062\n",
      "Epoch 5/100\n",
      "10/10 [==============================] - 0s 2ms/step - loss: 296713.1250\n",
      "Epoch 6/100\n",
      "10/10 [==============================] - 0s 3ms/step - loss: 296702.1562\n",
      "Epoch 7/100\n",
      "10/10 [==============================] - 0s 2ms/step - loss: 296691.9375\n",
      "Epoch 8/100\n",
      "10/10 [==============================] - 0s 2ms/step - loss: 296681.2812\n",
      "Epoch 9/100\n",
      "10/10 [==============================] - 0s 2ms/step - loss: 296670.1562\n",
      "Epoch 10/100\n",
      "10/10 [==============================] - 0s 3ms/step - loss: 296659.2812\n",
      "Epoch 11/100\n",
      "10/10 [==============================] - 0s 2ms/step - loss: 296648.6250\n",
      "Epoch 12/100\n",
      "10/10 [==============================] - 0s 3ms/step - loss: 296637.0000\n",
      "Epoch 13/100\n",
      "10/10 [==============================] - 0s 2ms/step - loss: 296626.9062\n",
      "Epoch 14/100\n",
      "10/10 [==============================] - 0s 2ms/step - loss: 296616.0000\n",
      "Epoch 15/100\n",
      "10/10 [==============================] - 0s 4ms/step - loss: 296605.1250\n",
      "Epoch 16/100\n",
      "10/10 [==============================] - 0s 9ms/step - loss: 296593.9375\n",
      "Epoch 17/100\n",
      "10/10 [==============================] - 0s 4ms/step - loss: 296582.7812\n",
      "Epoch 18/100\n",
      "10/10 [==============================] - 0s 7ms/step - loss: 296572.3125\n",
      "Epoch 19/100\n",
      "10/10 [==============================] - 0s 7ms/step - loss: 296561.1875\n",
      "Epoch 20/100\n",
      "10/10 [==============================] - 0s 3ms/step - loss: 296550.4375\n",
      "Epoch 21/100\n",
      "10/10 [==============================] - 0s 3ms/step - loss: 296539.6875\n",
      "Epoch 22/100\n",
      "10/10 [==============================] - 0s 3ms/step - loss: 296529.3438\n",
      "Epoch 23/100\n",
      "10/10 [==============================] - 0s 2ms/step - loss: 296517.6875\n",
      "Epoch 24/100\n",
      "10/10 [==============================] - 0s 2ms/step - loss: 296507.3750\n",
      "Epoch 25/100\n",
      "10/10 [==============================] - 0s 2ms/step - loss: 296496.6875\n",
      "Epoch 26/100\n",
      "10/10 [==============================] - 0s 2ms/step - loss: 296486.0312\n",
      "Epoch 27/100\n",
      "10/10 [==============================] - 0s 2ms/step - loss: 296474.9062\n",
      "Epoch 28/100\n",
      "10/10 [==============================] - 0s 2ms/step - loss: 296463.8438\n",
      "Epoch 29/100\n",
      "10/10 [==============================] - 0s 2ms/step - loss: 296452.9062\n",
      "Epoch 30/100\n",
      "10/10 [==============================] - 0s 3ms/step - loss: 296442.2812\n",
      "Epoch 31/100\n",
      "10/10 [==============================] - 0s 2ms/step - loss: 296431.7500\n",
      "Epoch 32/100\n",
      "10/10 [==============================] - 0s 2ms/step - loss: 296420.0625\n",
      "Epoch 33/100\n",
      "10/10 [==============================] - 0s 3ms/step - loss: 296409.6875\n",
      "Epoch 34/100\n",
      "10/10 [==============================] - 0s 2ms/step - loss: 296399.1562\n",
      "Epoch 35/100\n",
      "10/10 [==============================] - 0s 2ms/step - loss: 296388.0938\n",
      "Epoch 36/100\n",
      "10/10 [==============================] - 0s 3ms/step - loss: 296376.9062\n",
      "Epoch 37/100\n",
      "10/10 [==============================] - 0s 2ms/step - loss: 296366.3438\n",
      "Epoch 38/100\n",
      "10/10 [==============================] - 0s 2ms/step - loss: 296355.3750\n",
      "Epoch 39/100\n",
      "10/10 [==============================] - 0s 2ms/step - loss: 296344.3125\n",
      "Epoch 40/100\n",
      "10/10 [==============================] - 0s 3ms/step - loss: 296334.2188\n",
      "Epoch 41/100\n",
      "10/10 [==============================] - 0s 3ms/step - loss: 296322.8438\n",
      "Epoch 42/100\n",
      "10/10 [==============================] - 0s 2ms/step - loss: 296312.0938\n",
      "Epoch 43/100\n",
      "10/10 [==============================] - 0s 3ms/step - loss: 296301.5625\n",
      "Epoch 44/100\n",
      "10/10 [==============================] - 0s 8ms/step - loss: 296290.6562\n",
      "Epoch 45/100\n",
      "10/10 [==============================] - 0s 7ms/step - loss: 296279.1562\n",
      "Epoch 46/100\n",
      "10/10 [==============================] - 0s 3ms/step - loss: 296268.4688\n",
      "Epoch 47/100\n",
      "10/10 [==============================] - 0s 3ms/step - loss: 296257.5000\n",
      "Epoch 48/100\n",
      "10/10 [==============================] - 0s 3ms/step - loss: 296247.2500\n",
      "Epoch 49/100\n",
      "10/10 [==============================] - 0s 3ms/step - loss: 296235.8750\n",
      "Epoch 50/100\n",
      "10/10 [==============================] - 0s 3ms/step - loss: 296225.7812\n",
      "Epoch 51/100\n",
      "10/10 [==============================] - 0s 3ms/step - loss: 296214.8750\n",
      "Epoch 52/100\n",
      "10/10 [==============================] - 0s 3ms/step - loss: 296203.3750\n",
      "Epoch 53/100\n",
      "10/10 [==============================] - 0s 2ms/step - loss: 296193.3438\n",
      "Epoch 54/100\n",
      "10/10 [==============================] - 0s 2ms/step - loss: 296181.7812\n",
      "Epoch 55/100\n",
      "10/10 [==============================] - 0s 2ms/step - loss: 296171.3750\n",
      "Epoch 56/100\n",
      "10/10 [==============================] - 0s 3ms/step - loss: 296160.3125\n",
      "Epoch 57/100\n",
      "10/10 [==============================] - 0s 3ms/step - loss: 296149.1562\n",
      "Epoch 58/100\n",
      "10/10 [==============================] - 0s 3ms/step - loss: 296139.0312\n",
      "Epoch 59/100\n",
      "10/10 [==============================] - 0s 5ms/step - loss: 296127.8125\n",
      "Epoch 60/100\n",
      "10/10 [==============================] - 0s 10ms/step - loss: 296116.8750\n",
      "Epoch 61/100\n",
      "10/10 [==============================] - 0s 9ms/step - loss: 296106.6562\n",
      "Epoch 62/100\n",
      "10/10 [==============================] - 0s 9ms/step - loss: 296095.8125\n",
      "Epoch 63/100\n",
      "10/10 [==============================] - 0s 8ms/step - loss: 296084.4062\n",
      "Epoch 64/100\n",
      "10/10 [==============================] - 0s 7ms/step - loss: 296073.7500\n",
      "Epoch 65/100\n",
      "10/10 [==============================] - 0s 7ms/step - loss: 296062.7812\n",
      "Epoch 66/100\n",
      "10/10 [==============================] - 0s 7ms/step - loss: 296052.0625\n",
      "Epoch 67/100\n",
      "10/10 [==============================] - 0s 8ms/step - loss: 296041.2812\n",
      "Epoch 68/100\n",
      "10/10 [==============================] - 0s 6ms/step - loss: 296029.9375\n",
      "Epoch 69/100\n",
      "10/10 [==============================] - 0s 7ms/step - loss: 296019.4688\n",
      "Epoch 70/100\n",
      "10/10 [==============================] - 0s 8ms/step - loss: 296008.4062\n",
      "Epoch 71/100\n",
      "10/10 [==============================] - 0s 8ms/step - loss: 295998.2812\n",
      "Epoch 72/100\n",
      "10/10 [==============================] - 0s 8ms/step - loss: 295986.9688\n",
      "Epoch 73/100\n",
      "10/10 [==============================] - 0s 8ms/step - loss: 295976.2188\n",
      "Epoch 74/100\n",
      "10/10 [==============================] - 0s 8ms/step - loss: 295965.7188\n",
      "Epoch 75/100\n",
      "10/10 [==============================] - 0s 8ms/step - loss: 295954.4062\n",
      "Epoch 76/100\n",
      "10/10 [==============================] - 0s 9ms/step - loss: 295944.0625\n",
      "Epoch 77/100\n",
      "10/10 [==============================] - 0s 8ms/step - loss: 295932.8438\n",
      "Epoch 78/100\n",
      "10/10 [==============================] - 0s 8ms/step - loss: 295921.7812\n",
      "Epoch 79/100\n",
      "10/10 [==============================] - 0s 9ms/step - loss: 295910.7188\n",
      "Epoch 80/100\n",
      "10/10 [==============================] - 0s 8ms/step - loss: 295900.0938\n",
      "Epoch 81/100\n",
      "10/10 [==============================] - 0s 7ms/step - loss: 295890.0000\n",
      "Epoch 82/100\n",
      "10/10 [==============================] - 0s 8ms/step - loss: 295878.8750\n",
      "Epoch 83/100\n",
      "10/10 [==============================] - 0s 6ms/step - loss: 295867.8125\n",
      "Epoch 84/100\n",
      "10/10 [==============================] - 0s 9ms/step - loss: 295856.9062\n",
      "Epoch 85/100\n",
      "10/10 [==============================] - 0s 10ms/step - loss: 295845.8438\n",
      "Epoch 86/100\n",
      "10/10 [==============================] - 0s 11ms/step - loss: 295834.9688\n",
      "Epoch 87/100\n",
      "10/10 [==============================] - 0s 10ms/step - loss: 295824.6875\n",
      "Epoch 88/100\n",
      "10/10 [==============================] - 0s 8ms/step - loss: 295813.5625\n",
      "Epoch 89/100\n",
      "10/10 [==============================] - 0s 8ms/step - loss: 295803.3125\n",
      "Epoch 90/100\n",
      "10/10 [==============================] - 0s 7ms/step - loss: 295791.9062\n",
      "Epoch 91/100\n",
      "10/10 [==============================] - 0s 7ms/step - loss: 295781.2812\n",
      "Epoch 92/100\n",
      "10/10 [==============================] - 0s 8ms/step - loss: 295770.2188\n",
      "Epoch 93/100\n",
      "10/10 [==============================] - 0s 7ms/step - loss: 295759.1562\n",
      "Epoch 94/100\n",
      "10/10 [==============================] - 0s 7ms/step - loss: 295748.6875\n",
      "Epoch 95/100\n",
      "10/10 [==============================] - 0s 7ms/step - loss: 295737.9688\n",
      "Epoch 96/100\n",
      "10/10 [==============================] - 0s 7ms/step - loss: 295727.3438\n",
      "Epoch 97/100\n",
      "10/10 [==============================] - 0s 7ms/step - loss: 295716.0625\n",
      "Epoch 98/100\n",
      "10/10 [==============================] - 0s 8ms/step - loss: 295705.9688\n",
      "Epoch 99/100\n",
      "10/10 [==============================] - 0s 8ms/step - loss: 295694.8125\n",
      "Epoch 100/100\n",
      "10/10 [==============================] - 0s 8ms/step - loss: 295684.4062\n",
      "1000\n",
      "295684.40625\n",
      "328.16986083984375 8\n",
      "Epoch 1/100\n",
      "10/10 [==============================] - 1s 3ms/step - loss: 296756.8125\n",
      "Epoch 2/100\n",
      "10/10 [==============================] - 0s 3ms/step - loss: 296745.2812\n",
      "Epoch 3/100\n",
      "10/10 [==============================] - 0s 4ms/step - loss: 296734.6562\n",
      "Epoch 4/100\n",
      "10/10 [==============================] - 0s 8ms/step - loss: 296723.5625\n",
      "Epoch 5/100\n",
      "10/10 [==============================] - 0s 7ms/step - loss: 296713.2812\n",
      "Epoch 6/100\n",
      "10/10 [==============================] - 0s 7ms/step - loss: 296702.5938\n",
      "Epoch 7/100\n",
      "10/10 [==============================] - 0s 7ms/step - loss: 296691.5938\n",
      "Epoch 8/100\n",
      "10/10 [==============================] - 0s 3ms/step - loss: 296680.4062\n",
      "Epoch 9/100\n",
      "10/10 [==============================] - 0s 5ms/step - loss: 296669.6875\n",
      "Epoch 10/100\n",
      "10/10 [==============================] - 0s 2ms/step - loss: 296658.7812\n",
      "Epoch 11/100\n",
      "10/10 [==============================] - 0s 2ms/step - loss: 296647.5312\n",
      "Epoch 12/100\n",
      "10/10 [==============================] - 0s 2ms/step - loss: 296636.8438\n",
      "Epoch 13/100\n",
      "10/10 [==============================] - 0s 2ms/step - loss: 296626.3125\n",
      "Epoch 14/100\n",
      "10/10 [==============================] - 0s 2ms/step - loss: 296615.7500\n",
      "Epoch 15/100\n",
      "10/10 [==============================] - 0s 2ms/step - loss: 296604.1250\n",
      "Epoch 16/100\n",
      "10/10 [==============================] - 0s 2ms/step - loss: 296594.2188\n",
      "Epoch 17/100\n",
      "10/10 [==============================] - 0s 2ms/step - loss: 296582.6562\n",
      "Epoch 18/100\n",
      "10/10 [==============================] - 0s 3ms/step - loss: 296571.6250\n",
      "Epoch 19/100\n",
      "10/10 [==============================] - 0s 3ms/step - loss: 296561.0938\n",
      "Epoch 20/100\n",
      "10/10 [==============================] - 0s 2ms/step - loss: 296550.6562\n",
      "Epoch 21/100\n",
      "10/10 [==============================] - 0s 3ms/step - loss: 296539.6250\n",
      "Epoch 22/100\n",
      "10/10 [==============================] - 0s 2ms/step - loss: 296528.6250\n",
      "Epoch 23/100\n",
      "10/10 [==============================] - 0s 2ms/step - loss: 296517.6250\n",
      "Epoch 24/100\n",
      "10/10 [==============================] - 0s 2ms/step - loss: 296507.0312\n",
      "Epoch 25/100\n",
      "10/10 [==============================] - 0s 3ms/step - loss: 296495.9062\n",
      "Epoch 26/100\n",
      "10/10 [==============================] - 0s 2ms/step - loss: 296485.7500\n",
      "Epoch 27/100\n",
      "10/10 [==============================] - 0s 3ms/step - loss: 296474.2812\n",
      "Epoch 28/100\n",
      "10/10 [==============================] - 0s 2ms/step - loss: 296463.2500\n",
      "Epoch 29/100\n",
      "10/10 [==============================] - 0s 3ms/step - loss: 296453.1250\n",
      "Epoch 30/100\n",
      "10/10 [==============================] - 0s 2ms/step - loss: 296442.0625\n",
      "Epoch 31/100\n",
      "10/10 [==============================] - 0s 3ms/step - loss: 296431.1562\n",
      "Epoch 32/100\n",
      "10/10 [==============================] - 0s 2ms/step - loss: 296420.3125\n",
      "Epoch 33/100\n",
      "10/10 [==============================] - 0s 3ms/step - loss: 296409.3125\n",
      "Epoch 34/100\n",
      "10/10 [==============================] - 0s 2ms/step - loss: 296398.6875\n",
      "Epoch 35/100\n",
      "10/10 [==============================] - 0s 3ms/step - loss: 296387.2500\n",
      "Epoch 36/100\n",
      "10/10 [==============================] - 0s 3ms/step - loss: 296376.5625\n",
      "Epoch 37/100\n",
      "10/10 [==============================] - 0s 3ms/step - loss: 296366.5000\n",
      "Epoch 38/100\n",
      "10/10 [==============================] - 0s 2ms/step - loss: 296355.3125\n",
      "Epoch 39/100\n",
      "10/10 [==============================] - 0s 2ms/step - loss: 296344.3125\n",
      "Epoch 40/100\n",
      "10/10 [==============================] - 0s 3ms/step - loss: 296333.8438\n",
      "Epoch 41/100\n",
      "10/10 [==============================] - 0s 3ms/step - loss: 296323.0000\n",
      "Epoch 42/100\n",
      "10/10 [==============================] - 0s 2ms/step - loss: 296311.3750\n",
      "Epoch 43/100\n",
      "10/10 [==============================] - 0s 3ms/step - loss: 296301.0312\n",
      "Epoch 44/100\n",
      "10/10 [==============================] - 0s 2ms/step - loss: 296289.9688\n",
      "Epoch 45/100\n",
      "10/10 [==============================] - 0s 2ms/step - loss: 296279.2500\n",
      "Epoch 46/100\n",
      "10/10 [==============================] - 0s 2ms/step - loss: 296268.5000\n",
      "Epoch 47/100\n",
      "10/10 [==============================] - 0s 2ms/step - loss: 296257.2500\n",
      "Epoch 48/100\n",
      "10/10 [==============================] - 0s 2ms/step - loss: 296246.5625\n",
      "Epoch 49/100\n",
      "10/10 [==============================] - 0s 2ms/step - loss: 296236.0938\n",
      "Epoch 50/100\n",
      "10/10 [==============================] - 0s 3ms/step - loss: 296225.3750\n",
      "Epoch 51/100\n",
      "10/10 [==============================] - 0s 3ms/step - loss: 296214.2500\n",
      "Epoch 52/100\n",
      "10/10 [==============================] - 0s 2ms/step - loss: 296203.0938\n",
      "Epoch 53/100\n",
      "10/10 [==============================] - 0s 3ms/step - loss: 296192.5312\n",
      "Epoch 54/100\n",
      "10/10 [==============================] - 0s 2ms/step - loss: 296181.2812\n",
      "Epoch 55/100\n",
      "10/10 [==============================] - 0s 3ms/step - loss: 296170.9688\n",
      "Epoch 56/100\n",
      "10/10 [==============================] - 0s 3ms/step - loss: 296160.6875\n",
      "Epoch 57/100\n",
      "10/10 [==============================] - 0s 2ms/step - loss: 296148.8125\n",
      "Epoch 58/100\n",
      "10/10 [==============================] - 0s 2ms/step - loss: 296138.5938\n",
      "Epoch 59/100\n",
      "10/10 [==============================] - 0s 3ms/step - loss: 296127.4375\n",
      "Epoch 60/100\n",
      "10/10 [==============================] - 0s 2ms/step - loss: 296117.0312\n",
      "Epoch 61/100\n",
      "10/10 [==============================] - 0s 2ms/step - loss: 296106.0312\n",
      "Epoch 62/100\n",
      "10/10 [==============================] - 0s 2ms/step - loss: 296094.6562\n",
      "Epoch 63/100\n",
      "10/10 [==============================] - 0s 3ms/step - loss: 296084.1875\n",
      "Epoch 64/100\n",
      "10/10 [==============================] - 0s 3ms/step - loss: 296073.4062\n",
      "Epoch 65/100\n",
      "10/10 [==============================] - 0s 3ms/step - loss: 296062.5938\n",
      "Epoch 66/100\n",
      "10/10 [==============================] - 0s 3ms/step - loss: 296051.9062\n",
      "Epoch 67/100\n",
      "10/10 [==============================] - 0s 3ms/step - loss: 296040.9062\n",
      "Epoch 68/100\n",
      "10/10 [==============================] - 0s 2ms/step - loss: 296030.3438\n",
      "Epoch 69/100\n",
      "10/10 [==============================] - 0s 2ms/step - loss: 296019.0938\n",
      "Epoch 70/100\n",
      "10/10 [==============================] - 0s 2ms/step - loss: 296008.2812\n",
      "Epoch 71/100\n",
      "10/10 [==============================] - 0s 3ms/step - loss: 295997.6562\n",
      "Epoch 72/100\n",
      "10/10 [==============================] - 0s 3ms/step - loss: 295986.3750\n",
      "Epoch 73/100\n",
      "10/10 [==============================] - 0s 3ms/step - loss: 295975.5938\n",
      "Epoch 74/100\n",
      "10/10 [==============================] - 0s 2ms/step - loss: 295965.2812\n",
      "Epoch 75/100\n",
      "10/10 [==============================] - 0s 2ms/step - loss: 295953.9375\n",
      "Epoch 76/100\n",
      "10/10 [==============================] - 0s 3ms/step - loss: 295943.2188\n",
      "Epoch 77/100\n",
      "10/10 [==============================] - 0s 3ms/step - loss: 295932.5625\n",
      "Epoch 78/100\n",
      "10/10 [==============================] - 0s 2ms/step - loss: 295921.6250\n",
      "Epoch 79/100\n",
      "10/10 [==============================] - 0s 2ms/step - loss: 295910.9688\n",
      "Epoch 80/100\n",
      "10/10 [==============================] - 0s 2ms/step - loss: 295900.1250\n",
      "Epoch 81/100\n",
      "10/10 [==============================] - 0s 2ms/step - loss: 295889.4062\n",
      "Epoch 82/100\n",
      "10/10 [==============================] - 0s 3ms/step - loss: 295878.3750\n",
      "Epoch 83/100\n",
      "10/10 [==============================] - 0s 3ms/step - loss: 295867.9062\n",
      "Epoch 84/100\n",
      "10/10 [==============================] - 0s 4ms/step - loss: 295856.4062\n",
      "Epoch 85/100\n",
      "10/10 [==============================] - 0s 7ms/step - loss: 295846.2812\n",
      "Epoch 86/100\n",
      "10/10 [==============================] - 0s 6ms/step - loss: 295835.6250\n",
      "Epoch 87/100\n",
      "10/10 [==============================] - 0s 6ms/step - loss: 295823.9688\n",
      "Epoch 88/100\n",
      "10/10 [==============================] - 0s 6ms/step - loss: 295813.9375\n",
      "Epoch 89/100\n",
      "10/10 [==============================] - 0s 6ms/step - loss: 295803.0312\n",
      "Epoch 90/100\n",
      "10/10 [==============================] - 0s 7ms/step - loss: 295791.7500\n",
      "Epoch 91/100\n",
      "10/10 [==============================] - 0s 6ms/step - loss: 295780.6562\n",
      "Epoch 92/100\n",
      "10/10 [==============================] - 0s 3ms/step - loss: 295770.6875\n",
      "Epoch 93/100\n",
      "10/10 [==============================] - 0s 3ms/step - loss: 295758.9375\n",
      "Epoch 94/100\n",
      "10/10 [==============================] - 0s 3ms/step - loss: 295748.4062\n",
      "Epoch 95/100\n",
      "10/10 [==============================] - 0s 3ms/step - loss: 295738.0938\n",
      "Epoch 96/100\n",
      "10/10 [==============================] - 0s 3ms/step - loss: 295726.5625\n",
      "Epoch 97/100\n",
      "10/10 [==============================] - 0s 3ms/step - loss: 295716.3750\n",
      "Epoch 98/100\n",
      "10/10 [==============================] - 0s 3ms/step - loss: 295705.1875\n",
      "Epoch 99/100\n",
      "10/10 [==============================] - 0s 3ms/step - loss: 295694.8125\n",
      "Epoch 100/100\n",
      "10/10 [==============================] - 0s 3ms/step - loss: 295684.0625\n",
      "1000\n",
      "295684.0625\n",
      "328.16986083984375 7\n",
      "Epoch 1/100\n",
      "10/10 [==============================] - 1s 3ms/step - loss: 54485.2422\n",
      "Epoch 2/100\n",
      "10/10 [==============================] - 0s 3ms/step - loss: 11637.2471\n",
      "Epoch 3/100\n",
      "10/10 [==============================] - 0s 3ms/step - loss: 868.2289\n",
      "Epoch 4/100\n",
      "10/10 [==============================] - 0s 3ms/step - loss: 1256.7939\n",
      "Epoch 5/100\n",
      "10/10 [==============================] - 0s 2ms/step - loss: 551.6281\n",
      "Epoch 6/100\n",
      "10/10 [==============================] - 0s 2ms/step - loss: 542.4223\n",
      "Epoch 7/100\n",
      "10/10 [==============================] - 0s 4ms/step - loss: 593.7878\n",
      "Epoch 8/100\n",
      "10/10 [==============================] - 0s 4ms/step - loss: 515.2390\n",
      "Epoch 9/100\n",
      "10/10 [==============================] - 0s 3ms/step - loss: 501.2076\n",
      "Epoch 10/100\n",
      "10/10 [==============================] - 0s 3ms/step - loss: 464.1287\n",
      "Epoch 11/100\n",
      "10/10 [==============================] - 0s 3ms/step - loss: 527.3923\n",
      "Epoch 12/100\n",
      "10/10 [==============================] - 0s 2ms/step - loss: 492.9957\n",
      "Epoch 13/100\n",
      "10/10 [==============================] - 0s 2ms/step - loss: 464.8318\n",
      "Epoch 14/100\n",
      "10/10 [==============================] - 0s 2ms/step - loss: 471.4215\n",
      "Epoch 15/100\n",
      "10/10 [==============================] - 0s 3ms/step - loss: 463.0015\n",
      "Epoch 16/100\n",
      "10/10 [==============================] - 0s 2ms/step - loss: 467.8777\n",
      "Epoch 17/100\n",
      "10/10 [==============================] - 0s 2ms/step - loss: 474.7804\n",
      "Epoch 18/100\n",
      "10/10 [==============================] - 0s 3ms/step - loss: 459.0816\n",
      "Epoch 19/100\n",
      "10/10 [==============================] - 0s 2ms/step - loss: 478.3210\n",
      "Epoch 20/100\n",
      "10/10 [==============================] - 0s 3ms/step - loss: 456.2053\n",
      "Epoch 21/100\n",
      "10/10 [==============================] - 0s 2ms/step - loss: 470.1705\n",
      "Epoch 22/100\n",
      "10/10 [==============================] - 0s 3ms/step - loss: 469.5816\n",
      "Epoch 23/100\n",
      "10/10 [==============================] - 0s 3ms/step - loss: 501.3445\n",
      "Epoch 24/100\n",
      "10/10 [==============================] - 0s 3ms/step - loss: 472.8767\n",
      "Epoch 25/100\n",
      "10/10 [==============================] - 0s 3ms/step - loss: 466.1871\n",
      "Epoch 26/100\n",
      "10/10 [==============================] - 0s 3ms/step - loss: 488.2126\n",
      "Epoch 27/100\n",
      "10/10 [==============================] - 0s 2ms/step - loss: 474.4958\n",
      "Epoch 28/100\n",
      "10/10 [==============================] - 0s 2ms/step - loss: 465.4362\n",
      "Epoch 29/100\n",
      "10/10 [==============================] - 0s 3ms/step - loss: 471.6244\n",
      "Epoch 30/100\n",
      "10/10 [==============================] - 0s 2ms/step - loss: 490.6046\n",
      "Epoch 31/100\n",
      "10/10 [==============================] - 0s 2ms/step - loss: 517.8119\n",
      "Epoch 32/100\n",
      "10/10 [==============================] - 0s 2ms/step - loss: 499.3755\n",
      "Epoch 33/100\n",
      "10/10 [==============================] - 0s 2ms/step - loss: 465.0595\n",
      "Epoch 34/100\n",
      "10/10 [==============================] - 0s 2ms/step - loss: 483.2757\n",
      "Epoch 35/100\n",
      "10/10 [==============================] - 0s 3ms/step - loss: 510.6119\n",
      "Epoch 36/100\n",
      "10/10 [==============================] - 0s 3ms/step - loss: 438.1702\n",
      "Epoch 37/100\n",
      "10/10 [==============================] - 0s 5ms/step - loss: 440.7034\n",
      "Epoch 38/100\n",
      "10/10 [==============================] - 0s 6ms/step - loss: 436.8300\n",
      "Epoch 39/100\n",
      "10/10 [==============================] - 0s 7ms/step - loss: 445.2628\n",
      "Epoch 40/100\n",
      "10/10 [==============================] - 0s 8ms/step - loss: 438.6013\n",
      "Epoch 41/100\n",
      "10/10 [==============================] - 0s 8ms/step - loss: 458.6265\n",
      "Epoch 42/100\n",
      "10/10 [==============================] - 0s 9ms/step - loss: 497.5027\n",
      "Epoch 43/100\n",
      "10/10 [==============================] - 0s 8ms/step - loss: 459.7900\n",
      "Epoch 44/100\n",
      "10/10 [==============================] - 0s 7ms/step - loss: 425.9279\n",
      "Epoch 45/100\n",
      "10/10 [==============================] - 0s 7ms/step - loss: 426.0517\n",
      "Epoch 46/100\n",
      "10/10 [==============================] - 0s 7ms/step - loss: 424.1255\n",
      "Epoch 47/100\n",
      "10/10 [==============================] - 0s 5ms/step - loss: 440.3282\n",
      "Epoch 48/100\n",
      "10/10 [==============================] - 0s 8ms/step - loss: 478.5417\n",
      "Epoch 49/100\n",
      "10/10 [==============================] - 0s 8ms/step - loss: 450.0400\n",
      "Epoch 50/100\n",
      "10/10 [==============================] - 0s 8ms/step - loss: 444.6692\n",
      "Epoch 51/100\n",
      "10/10 [==============================] - 0s 7ms/step - loss: 433.0193\n",
      "Epoch 52/100\n",
      "10/10 [==============================] - 0s 7ms/step - loss: 433.6436\n",
      "Epoch 53/100\n",
      "10/10 [==============================] - 0s 5ms/step - loss: 431.1889\n",
      "Epoch 54/100\n",
      "10/10 [==============================] - 0s 2ms/step - loss: 422.3488\n",
      "Epoch 55/100\n",
      "10/10 [==============================] - 0s 8ms/step - loss: 465.6599\n",
      "Epoch 56/100\n",
      "10/10 [==============================] - 0s 6ms/step - loss: 421.9664\n",
      "Epoch 57/100\n",
      "10/10 [==============================] - 0s 8ms/step - loss: 440.1133\n",
      "Epoch 58/100\n",
      "10/10 [==============================] - 0s 7ms/step - loss: 430.2530\n",
      "Epoch 59/100\n",
      "10/10 [==============================] - 0s 10ms/step - loss: 456.5339\n",
      "Epoch 60/100\n",
      "10/10 [==============================] - 0s 3ms/step - loss: 494.4445\n",
      "Epoch 61/100\n",
      "10/10 [==============================] - 0s 3ms/step - loss: 551.1866\n",
      "Epoch 62/100\n",
      "10/10 [==============================] - 0s 3ms/step - loss: 475.4032\n",
      "Epoch 63/100\n",
      "10/10 [==============================] - 0s 3ms/step - loss: 449.9043\n",
      "Epoch 64/100\n",
      "10/10 [==============================] - 0s 5ms/step - loss: 552.8807\n",
      "Epoch 65/100\n",
      "10/10 [==============================] - 0s 5ms/step - loss: 453.6402\n",
      "Epoch 66/100\n",
      "10/10 [==============================] - 0s 3ms/step - loss: 427.1303\n",
      "Epoch 67/100\n",
      "10/10 [==============================] - 0s 3ms/step - loss: 453.3941\n",
      "Epoch 68/100\n",
      "10/10 [==============================] - 0s 3ms/step - loss: 431.0229\n",
      "Epoch 69/100\n",
      "10/10 [==============================] - 0s 2ms/step - loss: 425.0100\n",
      "Epoch 70/100\n",
      "10/10 [==============================] - 0s 2ms/step - loss: 446.3528\n",
      "Epoch 71/100\n",
      "10/10 [==============================] - 0s 2ms/step - loss: 418.7290\n",
      "Epoch 72/100\n",
      "10/10 [==============================] - 0s 2ms/step - loss: 455.8784\n",
      "Epoch 73/100\n",
      "10/10 [==============================] - 0s 2ms/step - loss: 410.1222\n",
      "Epoch 74/100\n",
      "10/10 [==============================] - 0s 2ms/step - loss: 422.4900\n",
      "Epoch 75/100\n",
      "10/10 [==============================] - 0s 2ms/step - loss: 466.2110\n",
      "Epoch 76/100\n",
      "10/10 [==============================] - 0s 3ms/step - loss: 486.9652\n",
      "Epoch 77/100\n",
      "10/10 [==============================] - 0s 2ms/step - loss: 429.5576\n",
      "Epoch 78/100\n",
      "10/10 [==============================] - 0s 2ms/step - loss: 478.8692\n",
      "Epoch 79/100\n",
      "10/10 [==============================] - 0s 2ms/step - loss: 446.2822\n",
      "Epoch 80/100\n",
      "10/10 [==============================] - 0s 2ms/step - loss: 412.3695\n",
      "Epoch 81/100\n",
      "10/10 [==============================] - 0s 7ms/step - loss: 420.2814\n",
      "Epoch 82/100\n",
      "10/10 [==============================] - 0s 5ms/step - loss: 406.3914\n",
      "Epoch 83/100\n",
      "10/10 [==============================] - 0s 7ms/step - loss: 419.8475\n",
      "Epoch 84/100\n",
      "10/10 [==============================] - 0s 7ms/step - loss: 456.0543\n",
      "Epoch 85/100\n",
      "10/10 [==============================] - 0s 7ms/step - loss: 409.9366\n",
      "Epoch 86/100\n",
      "10/10 [==============================] - 0s 7ms/step - loss: 417.8227\n",
      "Epoch 87/100\n",
      "10/10 [==============================] - 0s 7ms/step - loss: 433.1370\n",
      "Epoch 88/100\n",
      "10/10 [==============================] - 0s 7ms/step - loss: 578.5101\n",
      "Epoch 89/100\n",
      "10/10 [==============================] - 0s 6ms/step - loss: 429.9590\n",
      "Epoch 90/100\n",
      "10/10 [==============================] - 0s 9ms/step - loss: 436.5103\n",
      "Epoch 91/100\n",
      "10/10 [==============================] - 0s 8ms/step - loss: 477.9153\n",
      "Epoch 92/100\n",
      "10/10 [==============================] - 0s 8ms/step - loss: 392.1412\n",
      "Epoch 93/100\n",
      "10/10 [==============================] - 0s 8ms/step - loss: 445.2121\n",
      "Epoch 94/100\n",
      "10/10 [==============================] - 0s 11ms/step - loss: 424.3996\n",
      "Epoch 95/100\n",
      "10/10 [==============================] - 0s 8ms/step - loss: 426.7354\n",
      "Epoch 96/100\n",
      "10/10 [==============================] - 0s 8ms/step - loss: 397.8852\n",
      "Epoch 97/100\n",
      "10/10 [==============================] - 0s 7ms/step - loss: 394.2550\n",
      "Epoch 98/100\n",
      "10/10 [==============================] - 0s 5ms/step - loss: 398.1981\n",
      "Epoch 99/100\n",
      "10/10 [==============================] - 0s 7ms/step - loss: 387.2516\n",
      "Epoch 100/100\n",
      "10/10 [==============================] - 0s 7ms/step - loss: 379.8870\n",
      "1000\n",
      "379.886962890625\n",
      "328.16986083984375 6\n",
      "Epoch 1/100\n",
      "10/10 [==============================] - 2s 4ms/step - loss: 296756.8125\n",
      "Epoch 2/100\n",
      "10/10 [==============================] - 0s 7ms/step - loss: 296745.4062\n",
      "Epoch 3/100\n",
      "10/10 [==============================] - 0s 6ms/step - loss: 296735.3125\n",
      "Epoch 4/100\n",
      "10/10 [==============================] - 0s 7ms/step - loss: 296723.8438\n",
      "Epoch 5/100\n",
      "10/10 [==============================] - 0s 6ms/step - loss: 296713.1875\n",
      "Epoch 6/100\n",
      "10/10 [==============================] - 0s 6ms/step - loss: 296702.3125\n",
      "Epoch 7/100\n",
      "10/10 [==============================] - 0s 7ms/step - loss: 296691.4688\n",
      "Epoch 8/100\n",
      "10/10 [==============================] - 0s 7ms/step - loss: 296681.1250\n",
      "Epoch 9/100\n",
      "10/10 [==============================] - 0s 7ms/step - loss: 296669.9688\n",
      "Epoch 10/100\n",
      "10/10 [==============================] - 0s 7ms/step - loss: 296659.2188\n",
      "Epoch 11/100\n",
      "10/10 [==============================] - 0s 8ms/step - loss: 296647.8125\n",
      "Epoch 12/100\n",
      "10/10 [==============================] - 0s 7ms/step - loss: 296637.2812\n",
      "Epoch 13/100\n",
      "10/10 [==============================] - 0s 7ms/step - loss: 296626.3125\n",
      "Epoch 14/100\n",
      "10/10 [==============================] - 0s 5ms/step - loss: 296615.8125\n",
      "Epoch 15/100\n",
      "10/10 [==============================] - 0s 7ms/step - loss: 296604.5312\n",
      "Epoch 16/100\n",
      "10/10 [==============================] - 0s 6ms/step - loss: 296593.6250\n",
      "Epoch 17/100\n",
      "10/10 [==============================] - 0s 6ms/step - loss: 296583.0625\n",
      "Epoch 18/100\n",
      "10/10 [==============================] - 0s 7ms/step - loss: 296572.2500\n",
      "Epoch 19/100\n",
      "10/10 [==============================] - 0s 6ms/step - loss: 296561.5938\n",
      "Epoch 20/100\n",
      "10/10 [==============================] - 0s 7ms/step - loss: 296550.6562\n",
      "Epoch 21/100\n",
      "10/10 [==============================] - 0s 6ms/step - loss: 296539.2500\n",
      "Epoch 22/100\n",
      "10/10 [==============================] - 0s 6ms/step - loss: 296529.1562\n",
      "Epoch 23/100\n",
      "10/10 [==============================] - 0s 5ms/step - loss: 296517.8438\n",
      "Epoch 24/100\n",
      "10/10 [==============================] - 0s 6ms/step - loss: 296507.0625\n",
      "Epoch 25/100\n",
      "10/10 [==============================] - 0s 5ms/step - loss: 296496.2500\n",
      "Epoch 26/100\n",
      "10/10 [==============================] - 0s 7ms/step - loss: 296485.9375\n",
      "Epoch 27/100\n",
      "10/10 [==============================] - 0s 5ms/step - loss: 296474.6875\n",
      "Epoch 28/100\n",
      "10/10 [==============================] - 0s 6ms/step - loss: 296463.5312\n",
      "Epoch 29/100\n",
      "10/10 [==============================] - 0s 6ms/step - loss: 296452.9688\n",
      "Epoch 30/100\n",
      "10/10 [==============================] - 0s 7ms/step - loss: 296442.3750\n",
      "Epoch 31/100\n",
      "10/10 [==============================] - 0s 6ms/step - loss: 296431.5312\n",
      "Epoch 32/100\n",
      "10/10 [==============================] - 0s 6ms/step - loss: 296420.2500\n",
      "Epoch 33/100\n",
      "10/10 [==============================] - 0s 6ms/step - loss: 296409.9375\n",
      "Epoch 34/100\n",
      "10/10 [==============================] - 0s 7ms/step - loss: 296398.3438\n",
      "Epoch 35/100\n",
      "10/10 [==============================] - 0s 6ms/step - loss: 296388.0938\n",
      "Epoch 36/100\n",
      "10/10 [==============================] - 0s 6ms/step - loss: 296377.4062\n",
      "Epoch 37/100\n",
      "10/10 [==============================] - 0s 6ms/step - loss: 296366.6875\n",
      "Epoch 38/100\n",
      "10/10 [==============================] - 0s 7ms/step - loss: 296355.1875\n",
      "Epoch 39/100\n",
      "10/10 [==============================] - 0s 6ms/step - loss: 296344.6562\n",
      "Epoch 40/100\n",
      "10/10 [==============================] - 0s 7ms/step - loss: 296333.7812\n",
      "Epoch 41/100\n",
      "10/10 [==============================] - 0s 6ms/step - loss: 296323.1562\n",
      "Epoch 42/100\n",
      "10/10 [==============================] - 0s 7ms/step - loss: 296311.7500\n",
      "Epoch 43/100\n",
      "10/10 [==============================] - 0s 6ms/step - loss: 296300.9688\n",
      "Epoch 44/100\n",
      "10/10 [==============================] - 0s 11ms/step - loss: 296289.9375\n",
      "Epoch 45/100\n",
      "10/10 [==============================] - 0s 7ms/step - loss: 296279.5938\n",
      "Epoch 46/100\n",
      "10/10 [==============================] - 0s 6ms/step - loss: 296268.6250\n",
      "Epoch 47/100\n",
      "10/10 [==============================] - 0s 6ms/step - loss: 296257.4062\n",
      "Epoch 48/100\n",
      "10/10 [==============================] - 0s 7ms/step - loss: 296247.4688\n",
      "Epoch 49/100\n",
      "10/10 [==============================] - 0s 7ms/step - loss: 296236.5312\n",
      "Epoch 50/100\n",
      "10/10 [==============================] - 0s 7ms/step - loss: 296225.7500\n",
      "Epoch 51/100\n",
      "10/10 [==============================] - 0s 6ms/step - loss: 296214.8750\n",
      "Epoch 52/100\n",
      "10/10 [==============================] - 0s 7ms/step - loss: 296204.0625\n",
      "Epoch 53/100\n",
      "10/10 [==============================] - 0s 5ms/step - loss: 296193.2188\n",
      "Epoch 54/100\n",
      "10/10 [==============================] - 0s 6ms/step - loss: 296181.7188\n",
      "Epoch 55/100\n",
      "10/10 [==============================] - 0s 7ms/step - loss: 296170.6562\n",
      "Epoch 56/100\n",
      "10/10 [==============================] - 0s 6ms/step - loss: 296160.6875\n",
      "Epoch 57/100\n",
      "10/10 [==============================] - 0s 7ms/step - loss: 296149.2812\n",
      "Epoch 58/100\n",
      "10/10 [==============================] - 0s 6ms/step - loss: 296138.3125\n",
      "Epoch 59/100\n",
      "10/10 [==============================] - 0s 6ms/step - loss: 296127.9375\n",
      "Epoch 60/100\n",
      "10/10 [==============================] - 0s 7ms/step - loss: 296116.7500\n",
      "Epoch 61/100\n",
      "10/10 [==============================] - 0s 6ms/step - loss: 296105.9375\n",
      "Epoch 62/100\n",
      "10/10 [==============================] - 0s 7ms/step - loss: 296095.4375\n",
      "Epoch 63/100\n",
      "10/10 [==============================] - 0s 7ms/step - loss: 296083.9375\n",
      "Epoch 64/100\n",
      "10/10 [==============================] - 0s 6ms/step - loss: 296073.2812\n",
      "Epoch 65/100\n",
      "10/10 [==============================] - 0s 6ms/step - loss: 296062.4375\n",
      "Epoch 66/100\n",
      "10/10 [==============================] - 0s 5ms/step - loss: 296051.7500\n",
      "Epoch 67/100\n",
      "10/10 [==============================] - 0s 6ms/step - loss: 296041.1250\n",
      "Epoch 68/100\n",
      "10/10 [==============================] - 0s 7ms/step - loss: 296030.3750\n",
      "Epoch 69/100\n",
      "10/10 [==============================] - 0s 6ms/step - loss: 296019.4062\n",
      "Epoch 70/100\n",
      "10/10 [==============================] - 0s 6ms/step - loss: 296008.9062\n",
      "Epoch 71/100\n",
      "10/10 [==============================] - 0s 7ms/step - loss: 295997.4062\n",
      "Epoch 72/100\n",
      "10/10 [==============================] - 0s 6ms/step - loss: 295987.3125\n",
      "Epoch 73/100\n",
      "10/10 [==============================] - 0s 7ms/step - loss: 295975.6250\n",
      "Epoch 74/100\n",
      "10/10 [==============================] - 0s 6ms/step - loss: 295965.0938\n",
      "Epoch 75/100\n",
      "10/10 [==============================] - 0s 7ms/step - loss: 295954.7188\n",
      "Epoch 76/100\n",
      "10/10 [==============================] - 0s 7ms/step - loss: 295943.3750\n",
      "Epoch 77/100\n",
      "10/10 [==============================] - 0s 6ms/step - loss: 295933.0625\n",
      "Epoch 78/100\n",
      "10/10 [==============================] - 0s 6ms/step - loss: 295922.4375\n",
      "Epoch 79/100\n",
      "10/10 [==============================] - 0s 7ms/step - loss: 295911.2812\n",
      "Epoch 80/100\n",
      "10/10 [==============================] - 0s 6ms/step - loss: 295900.2812\n",
      "Epoch 81/100\n",
      "10/10 [==============================] - 0s 6ms/step - loss: 295889.2812\n",
      "Epoch 82/100\n",
      "10/10 [==============================] - 0s 7ms/step - loss: 295878.2500\n",
      "Epoch 83/100\n",
      "10/10 [==============================] - 0s 7ms/step - loss: 295868.2500\n",
      "Epoch 84/100\n",
      "10/10 [==============================] - 0s 6ms/step - loss: 295856.6250\n",
      "Epoch 85/100\n",
      "10/10 [==============================] - 0s 6ms/step - loss: 295846.1562\n",
      "Epoch 86/100\n",
      "10/10 [==============================] - 0s 6ms/step - loss: 295834.9375\n",
      "Epoch 87/100\n",
      "10/10 [==============================] - 0s 7ms/step - loss: 295824.8438\n",
      "Epoch 88/100\n",
      "10/10 [==============================] - 0s 6ms/step - loss: 295813.5000\n",
      "Epoch 89/100\n",
      "10/10 [==============================] - 0s 7ms/step - loss: 295803.1562\n",
      "Epoch 90/100\n",
      "10/10 [==============================] - 0s 6ms/step - loss: 295792.0000\n",
      "Epoch 91/100\n",
      "10/10 [==============================] - 0s 6ms/step - loss: 295781.3750\n",
      "Epoch 92/100\n",
      "10/10 [==============================] - 0s 6ms/step - loss: 295770.4062\n",
      "Epoch 93/100\n",
      "10/10 [==============================] - 0s 7ms/step - loss: 295759.5625\n",
      "Epoch 94/100\n",
      "10/10 [==============================] - 0s 7ms/step - loss: 295749.1562\n",
      "Epoch 95/100\n",
      "10/10 [==============================] - 0s 6ms/step - loss: 295738.0625\n",
      "Epoch 96/100\n",
      "10/10 [==============================] - 0s 7ms/step - loss: 295727.0938\n",
      "Epoch 97/100\n",
      "10/10 [==============================] - 0s 6ms/step - loss: 295716.6250\n",
      "Epoch 98/100\n",
      "10/10 [==============================] - 0s 6ms/step - loss: 295705.6250\n",
      "Epoch 99/100\n",
      "10/10 [==============================] - 0s 7ms/step - loss: 295694.6562\n",
      "Epoch 100/100\n",
      "10/10 [==============================] - 0s 7ms/step - loss: 295683.7500\n",
      "1000\n",
      "295683.75\n",
      "328.16986083984375 5\n",
      "Epoch 1/100\n",
      "10/10 [==============================] - 1s 3ms/step - loss: 1678.2085\n",
      "Epoch 2/100\n",
      "10/10 [==============================] - 0s 4ms/step - loss: 288.1693\n",
      "Epoch 3/100\n",
      "10/10 [==============================] - 0s 6ms/step - loss: 355.8480\n",
      "Epoch 4/100\n",
      "10/10 [==============================] - 0s 4ms/step - loss: 279.4035\n",
      "Epoch 5/100\n",
      "10/10 [==============================] - 0s 6ms/step - loss: 299.5453\n",
      "Epoch 6/100\n",
      "10/10 [==============================] - 0s 4ms/step - loss: 272.4531\n",
      "Epoch 7/100\n",
      "10/10 [==============================] - 0s 6ms/step - loss: 262.6446\n",
      "Epoch 8/100\n",
      "10/10 [==============================] - 0s 4ms/step - loss: 264.1566\n",
      "Epoch 9/100\n",
      "10/10 [==============================] - 0s 11ms/step - loss: 276.0129\n",
      "Epoch 10/100\n",
      "10/10 [==============================] - 0s 7ms/step - loss: 260.5653\n",
      "Epoch 11/100\n",
      "10/10 [==============================] - 0s 8ms/step - loss: 257.5198\n",
      "Epoch 12/100\n",
      "10/10 [==============================] - 0s 6ms/step - loss: 276.5959\n",
      "Epoch 13/100\n",
      "10/10 [==============================] - 0s 7ms/step - loss: 313.8186\n",
      "Epoch 14/100\n",
      "10/10 [==============================] - 0s 7ms/step - loss: 259.2228\n",
      "Epoch 15/100\n",
      "10/10 [==============================] - 0s 7ms/step - loss: 272.9041\n",
      "Epoch 16/100\n",
      "10/10 [==============================] - 0s 6ms/step - loss: 277.3048\n",
      "Epoch 17/100\n",
      "10/10 [==============================] - 0s 5ms/step - loss: 257.5365\n",
      "Epoch 18/100\n",
      "10/10 [==============================] - 0s 6ms/step - loss: 256.6164\n",
      "Epoch 19/100\n",
      "10/10 [==============================] - 0s 7ms/step - loss: 279.8262\n",
      "Epoch 20/100\n",
      "10/10 [==============================] - 0s 8ms/step - loss: 256.1375\n",
      "Epoch 21/100\n",
      "10/10 [==============================] - 0s 7ms/step - loss: 264.9117\n",
      "Epoch 22/100\n",
      "10/10 [==============================] - 0s 6ms/step - loss: 260.6671\n",
      "Epoch 23/100\n",
      "10/10 [==============================] - 0s 6ms/step - loss: 264.2201\n",
      "Epoch 24/100\n",
      "10/10 [==============================] - 0s 5ms/step - loss: 266.6325\n",
      "Epoch 25/100\n",
      "10/10 [==============================] - 0s 6ms/step - loss: 258.5586\n",
      "Epoch 26/100\n",
      "10/10 [==============================] - 0s 7ms/step - loss: 269.8514\n",
      "Epoch 27/100\n",
      "10/10 [==============================] - 0s 6ms/step - loss: 259.0682\n",
      "Epoch 28/100\n",
      "10/10 [==============================] - 0s 7ms/step - loss: 267.8072\n",
      "Epoch 29/100\n",
      "10/10 [==============================] - 0s 7ms/step - loss: 255.5703\n",
      "Epoch 30/100\n",
      "10/10 [==============================] - 0s 7ms/step - loss: 262.3260\n",
      "Epoch 31/100\n",
      "10/10 [==============================] - 0s 6ms/step - loss: 264.2627\n",
      "Epoch 32/100\n",
      "10/10 [==============================] - 0s 7ms/step - loss: 288.1764\n",
      "Epoch 33/100\n",
      "10/10 [==============================] - 0s 6ms/step - loss: 265.2652\n",
      "Epoch 34/100\n",
      "10/10 [==============================] - 0s 7ms/step - loss: 259.5442\n",
      "Epoch 35/100\n",
      "10/10 [==============================] - 0s 6ms/step - loss: 264.3830\n",
      "Epoch 36/100\n",
      "10/10 [==============================] - 0s 8ms/step - loss: 264.0495\n",
      "Epoch 37/100\n",
      "10/10 [==============================] - 0s 6ms/step - loss: 258.9535\n",
      "Epoch 38/100\n",
      "10/10 [==============================] - 0s 7ms/step - loss: 272.8374\n",
      "Epoch 39/100\n",
      "10/10 [==============================] - 0s 6ms/step - loss: 246.1183\n",
      "Epoch 40/100\n",
      "10/10 [==============================] - 0s 6ms/step - loss: 290.0556\n",
      "Epoch 41/100\n",
      "10/10 [==============================] - 0s 8ms/step - loss: 250.7428\n",
      "Epoch 42/100\n",
      "10/10 [==============================] - 0s 6ms/step - loss: 254.1707\n",
      "Epoch 43/100\n",
      "10/10 [==============================] - 0s 6ms/step - loss: 266.0483\n",
      "Epoch 44/100\n",
      "10/10 [==============================] - 0s 8ms/step - loss: 267.1881\n",
      "Epoch 45/100\n",
      "10/10 [==============================] - 0s 7ms/step - loss: 296.6862\n",
      "Epoch 46/100\n",
      "10/10 [==============================] - 0s 7ms/step - loss: 359.8600\n",
      "Epoch 47/100\n",
      "10/10 [==============================] - 0s 7ms/step - loss: 298.2566\n",
      "Epoch 48/100\n",
      "10/10 [==============================] - 0s 4ms/step - loss: 257.4223\n",
      "Epoch 49/100\n",
      "10/10 [==============================] - 0s 5ms/step - loss: 283.6673\n",
      "Epoch 50/100\n",
      "10/10 [==============================] - 0s 4ms/step - loss: 254.2828\n",
      "Epoch 51/100\n",
      "10/10 [==============================] - 0s 5ms/step - loss: 256.4977\n",
      "Epoch 52/100\n",
      "10/10 [==============================] - 0s 7ms/step - loss: 283.5120\n",
      "Epoch 53/100\n",
      "10/10 [==============================] - 0s 4ms/step - loss: 274.4141\n",
      "Epoch 54/100\n",
      "10/10 [==============================] - 0s 6ms/step - loss: 259.5687\n",
      "Epoch 55/100\n",
      "10/10 [==============================] - 0s 5ms/step - loss: 259.6338\n",
      "Epoch 56/100\n",
      "10/10 [==============================] - 0s 6ms/step - loss: 262.4134\n",
      "Epoch 57/100\n",
      "10/10 [==============================] - 0s 4ms/step - loss: 254.8746\n",
      "Epoch 58/100\n",
      "10/10 [==============================] - 0s 7ms/step - loss: 276.6753\n",
      "Epoch 59/100\n",
      "10/10 [==============================] - 0s 5ms/step - loss: 276.6234\n",
      "Epoch 60/100\n",
      "10/10 [==============================] - 0s 6ms/step - loss: 258.6219\n",
      "Epoch 61/100\n",
      "10/10 [==============================] - 0s 6ms/step - loss: 253.7636\n",
      "Epoch 62/100\n",
      "10/10 [==============================] - 0s 6ms/step - loss: 261.7632\n",
      "Epoch 63/100\n",
      "10/10 [==============================] - 0s 5ms/step - loss: 274.2916\n",
      "Epoch 64/100\n",
      "10/10 [==============================] - 0s 6ms/step - loss: 265.3841\n",
      "Epoch 65/100\n",
      "10/10 [==============================] - 0s 6ms/step - loss: 272.3153\n",
      "Epoch 66/100\n",
      "10/10 [==============================] - 0s 6ms/step - loss: 267.0074\n",
      "Epoch 67/100\n",
      "10/10 [==============================] - 0s 5ms/step - loss: 280.2118\n",
      "Epoch 68/100\n",
      "10/10 [==============================] - 0s 6ms/step - loss: 273.3426\n",
      "Epoch 69/100\n",
      "10/10 [==============================] - 0s 5ms/step - loss: 288.4724\n",
      "Epoch 70/100\n",
      "10/10 [==============================] - 0s 6ms/step - loss: 243.3679\n",
      "Epoch 71/100\n",
      "10/10 [==============================] - 0s 5ms/step - loss: 286.0508\n",
      "Epoch 72/100\n",
      "10/10 [==============================] - 0s 5ms/step - loss: 258.3363\n",
      "Epoch 73/100\n",
      "10/10 [==============================] - 0s 6ms/step - loss: 264.4466\n",
      "Epoch 74/100\n",
      "10/10 [==============================] - 0s 5ms/step - loss: 267.8543\n",
      "Epoch 75/100\n",
      "10/10 [==============================] - 0s 7ms/step - loss: 263.4556\n",
      "Epoch 76/100\n",
      "10/10 [==============================] - 0s 4ms/step - loss: 280.7361\n",
      "Epoch 77/100\n",
      "10/10 [==============================] - 0s 6ms/step - loss: 254.5119\n",
      "Epoch 78/100\n",
      "10/10 [==============================] - 0s 4ms/step - loss: 257.5700\n",
      "Epoch 79/100\n",
      "10/10 [==============================] - 0s 5ms/step - loss: 259.7781\n",
      "Epoch 80/100\n",
      "10/10 [==============================] - 0s 6ms/step - loss: 260.6064\n",
      "Epoch 81/100\n",
      "10/10 [==============================] - 0s 5ms/step - loss: 284.6992\n",
      "Epoch 82/100\n",
      "10/10 [==============================] - 0s 5ms/step - loss: 251.4578\n",
      "Epoch 83/100\n",
      "10/10 [==============================] - 0s 10ms/step - loss: 283.2231\n",
      "Epoch 84/100\n",
      "10/10 [==============================] - 0s 6ms/step - loss: 262.6652\n",
      "Epoch 85/100\n",
      "10/10 [==============================] - 0s 6ms/step - loss: 265.0840\n",
      "Epoch 86/100\n",
      "10/10 [==============================] - 0s 7ms/step - loss: 281.5284\n",
      "Epoch 87/100\n",
      "10/10 [==============================] - 0s 6ms/step - loss: 260.9431\n",
      "Epoch 88/100\n",
      "10/10 [==============================] - 0s 4ms/step - loss: 256.9664\n",
      "Epoch 89/100\n",
      "10/10 [==============================] - 0s 6ms/step - loss: 306.2485\n",
      "Epoch 90/100\n",
      "10/10 [==============================] - 0s 6ms/step - loss: 325.9513\n",
      "Epoch 91/100\n",
      "10/10 [==============================] - 0s 6ms/step - loss: 273.1588\n",
      "Epoch 92/100\n",
      "10/10 [==============================] - 0s 6ms/step - loss: 272.7846\n",
      "Epoch 93/100\n",
      "10/10 [==============================] - 0s 7ms/step - loss: 252.9502\n",
      "Epoch 94/100\n",
      "10/10 [==============================] - 0s 6ms/step - loss: 268.0857\n",
      "Epoch 95/100\n",
      "10/10 [==============================] - 0s 6ms/step - loss: 255.5813\n",
      "Epoch 96/100\n",
      "10/10 [==============================] - 0s 6ms/step - loss: 262.5539\n",
      "Epoch 97/100\n",
      "10/10 [==============================] - 0s 5ms/step - loss: 257.3004\n",
      "Epoch 98/100\n",
      "10/10 [==============================] - 0s 6ms/step - loss: 252.9743\n",
      "Epoch 99/100\n",
      "10/10 [==============================] - 0s 5ms/step - loss: 256.9626\n",
      "Epoch 100/100\n",
      "10/10 [==============================] - 0s 6ms/step - loss: 259.2566\n",
      "1000\n",
      "259.256591796875\n",
      "259.256591796875 4\n",
      "Epoch 1/100\n",
      "10/10 [==============================] - 1s 3ms/step - loss: 5107.5156\n",
      "Epoch 2/100\n",
      "10/10 [==============================] - 0s 4ms/step - loss: 1627.3717\n",
      "Epoch 3/100\n",
      "10/10 [==============================] - 0s 7ms/step - loss: 621.9421\n",
      "Epoch 4/100\n",
      "10/10 [==============================] - 0s 4ms/step - loss: 288.1322\n",
      "Epoch 5/100\n",
      "10/10 [==============================] - 0s 6ms/step - loss: 366.2385\n",
      "Epoch 6/100\n",
      "10/10 [==============================] - 0s 7ms/step - loss: 311.5117\n",
      "Epoch 7/100\n",
      "10/10 [==============================] - 0s 4ms/step - loss: 299.1934\n",
      "Epoch 8/100\n",
      "10/10 [==============================] - 0s 5ms/step - loss: 310.5974\n",
      "Epoch 9/100\n",
      "10/10 [==============================] - 0s 5ms/step - loss: 319.5851\n",
      "Epoch 10/100\n",
      "10/10 [==============================] - 0s 5ms/step - loss: 310.2583\n",
      "Epoch 11/100\n",
      "10/10 [==============================] - 0s 3ms/step - loss: 299.8068\n",
      "Epoch 12/100\n",
      "10/10 [==============================] - 0s 5ms/step - loss: 308.0150\n",
      "Epoch 13/100\n",
      "10/10 [==============================] - 0s 3ms/step - loss: 308.8689\n",
      "Epoch 14/100\n",
      "10/10 [==============================] - 0s 5ms/step - loss: 317.2990\n",
      "Epoch 15/100\n",
      "10/10 [==============================] - 0s 6ms/step - loss: 340.2363\n",
      "Epoch 16/100\n",
      "10/10 [==============================] - 0s 6ms/step - loss: 334.9683\n",
      "Epoch 17/100\n",
      "10/10 [==============================] - 0s 6ms/step - loss: 341.6187\n",
      "Epoch 18/100\n",
      "10/10 [==============================] - 0s 7ms/step - loss: 333.5227\n",
      "Epoch 19/100\n",
      "10/10 [==============================] - 0s 6ms/step - loss: 260.9129\n",
      "Epoch 20/100\n",
      "10/10 [==============================] - 0s 6ms/step - loss: 265.7546\n",
      "Epoch 21/100\n",
      "10/10 [==============================] - 0s 4ms/step - loss: 282.2961\n",
      "Epoch 22/100\n",
      "10/10 [==============================] - 0s 6ms/step - loss: 286.4481\n",
      "Epoch 23/100\n",
      "10/10 [==============================] - 0s 4ms/step - loss: 300.6844\n",
      "Epoch 24/100\n",
      "10/10 [==============================] - 0s 5ms/step - loss: 291.2446\n",
      "Epoch 25/100\n",
      "10/10 [==============================] - 0s 4ms/step - loss: 305.0142\n",
      "Epoch 26/100\n",
      "10/10 [==============================] - 0s 5ms/step - loss: 307.9714\n",
      "Epoch 27/100\n",
      "10/10 [==============================] - 0s 5ms/step - loss: 303.3429\n",
      "Epoch 28/100\n",
      "10/10 [==============================] - 0s 5ms/step - loss: 272.2492\n",
      "Epoch 29/100\n",
      "10/10 [==============================] - 0s 7ms/step - loss: 260.2161\n",
      "Epoch 30/100\n",
      "10/10 [==============================] - 0s 5ms/step - loss: 270.4335\n",
      "Epoch 31/100\n",
      "10/10 [==============================] - 0s 7ms/step - loss: 262.1641\n",
      "Epoch 32/100\n",
      "10/10 [==============================] - 0s 5ms/step - loss: 262.7082\n",
      "Epoch 33/100\n",
      "10/10 [==============================] - 0s 6ms/step - loss: 236.5563\n",
      "Epoch 34/100\n",
      "10/10 [==============================] - 0s 5ms/step - loss: 216.2562\n",
      "Epoch 35/100\n",
      "10/10 [==============================] - 0s 5ms/step - loss: 202.4514\n",
      "Epoch 36/100\n",
      "10/10 [==============================] - 0s 4ms/step - loss: 191.8898\n",
      "Epoch 37/100\n",
      "10/10 [==============================] - 0s 6ms/step - loss: 190.7224\n",
      "Epoch 38/100\n",
      "10/10 [==============================] - 0s 7ms/step - loss: 189.4437\n",
      "Epoch 39/100\n",
      "10/10 [==============================] - 0s 5ms/step - loss: 184.7668\n",
      "Epoch 40/100\n",
      "10/10 [==============================] - 0s 6ms/step - loss: 182.5999\n",
      "Epoch 41/100\n",
      "10/10 [==============================] - 0s 5ms/step - loss: 178.3887\n",
      "Epoch 42/100\n",
      "10/10 [==============================] - 0s 6ms/step - loss: 176.4344\n",
      "Epoch 43/100\n",
      "10/10 [==============================] - 0s 5ms/step - loss: 179.0402\n",
      "Epoch 44/100\n",
      "10/10 [==============================] - 0s 6ms/step - loss: 173.5023\n",
      "Epoch 45/100\n",
      "10/10 [==============================] - 0s 5ms/step - loss: 172.6134\n",
      "Epoch 46/100\n",
      "10/10 [==============================] - 0s 4ms/step - loss: 177.2270\n",
      "Epoch 47/100\n",
      "10/10 [==============================] - 0s 6ms/step - loss: 170.6204\n",
      "Epoch 48/100\n",
      "10/10 [==============================] - 0s 7ms/step - loss: 169.4029\n",
      "Epoch 49/100\n",
      "10/10 [==============================] - 0s 5ms/step - loss: 168.5264\n",
      "Epoch 50/100\n",
      "10/10 [==============================] - 0s 7ms/step - loss: 169.2099\n",
      "Epoch 51/100\n",
      "10/10 [==============================] - 0s 6ms/step - loss: 183.1534\n",
      "Epoch 52/100\n",
      "10/10 [==============================] - 0s 4ms/step - loss: 169.5945\n",
      "Epoch 53/100\n",
      "10/10 [==============================] - 0s 7ms/step - loss: 171.2193\n",
      "Epoch 54/100\n",
      "10/10 [==============================] - 0s 8ms/step - loss: 164.5867\n",
      "Epoch 55/100\n",
      "10/10 [==============================] - 0s 6ms/step - loss: 178.5560\n",
      "Epoch 56/100\n",
      "10/10 [==============================] - 0s 4ms/step - loss: 170.5423\n",
      "Epoch 57/100\n",
      "10/10 [==============================] - 0s 5ms/step - loss: 168.4545\n",
      "Epoch 58/100\n",
      "10/10 [==============================] - 0s 6ms/step - loss: 174.2105\n",
      "Epoch 59/100\n",
      "10/10 [==============================] - 0s 6ms/step - loss: 169.8750\n",
      "Epoch 60/100\n",
      "10/10 [==============================] - 0s 5ms/step - loss: 167.9945\n",
      "Epoch 61/100\n",
      "10/10 [==============================] - 0s 6ms/step - loss: 164.9807\n",
      "Epoch 62/100\n",
      "10/10 [==============================] - 0s 5ms/step - loss: 166.3551\n",
      "Epoch 63/100\n",
      "10/10 [==============================] - 0s 6ms/step - loss: 170.2020\n",
      "Epoch 64/100\n",
      "10/10 [==============================] - 0s 5ms/step - loss: 171.9441\n",
      "Epoch 65/100\n",
      "10/10 [==============================] - 0s 7ms/step - loss: 171.4754\n",
      "Epoch 66/100\n",
      "10/10 [==============================] - 0s 5ms/step - loss: 169.4891\n",
      "Epoch 67/100\n",
      "10/10 [==============================] - 0s 7ms/step - loss: 190.8321\n",
      "Epoch 68/100\n",
      "10/10 [==============================] - 0s 5ms/step - loss: 189.1583\n",
      "Epoch 69/100\n",
      "10/10 [==============================] - 0s 7ms/step - loss: 175.6503\n",
      "Epoch 70/100\n",
      "10/10 [==============================] - 0s 5ms/step - loss: 264.5972\n",
      "Epoch 71/100\n",
      "10/10 [==============================] - 0s 7ms/step - loss: 252.1788\n",
      "Epoch 72/100\n",
      "10/10 [==============================] - 0s 6ms/step - loss: 281.0835\n",
      "Epoch 73/100\n",
      "10/10 [==============================] - 0s 5ms/step - loss: 412.3703\n",
      "Epoch 74/100\n",
      "10/10 [==============================] - 0s 6ms/step - loss: 292.8522\n",
      "Epoch 75/100\n",
      "10/10 [==============================] - 0s 4ms/step - loss: 334.6970\n",
      "Epoch 76/100\n",
      "10/10 [==============================] - 0s 5ms/step - loss: 265.7888\n",
      "Epoch 77/100\n",
      "10/10 [==============================] - 0s 6ms/step - loss: 259.8338\n",
      "Epoch 78/100\n",
      "10/10 [==============================] - 0s 5ms/step - loss: 239.5226\n",
      "Epoch 79/100\n",
      "10/10 [==============================] - 0s 6ms/step - loss: 219.9299\n",
      "Epoch 80/100\n",
      "10/10 [==============================] - 0s 5ms/step - loss: 198.5934\n",
      "Epoch 81/100\n",
      "10/10 [==============================] - 0s 5ms/step - loss: 184.9671\n",
      "Epoch 82/100\n",
      "10/10 [==============================] - 0s 6ms/step - loss: 181.7936\n",
      "Epoch 83/100\n",
      "10/10 [==============================] - 0s 6ms/step - loss: 169.6508\n",
      "Epoch 84/100\n",
      "10/10 [==============================] - 0s 5ms/step - loss: 171.5677\n",
      "Epoch 85/100\n",
      "10/10 [==============================] - 0s 5ms/step - loss: 176.0419\n",
      "Epoch 86/100\n",
      "10/10 [==============================] - 0s 7ms/step - loss: 172.5247\n",
      "Epoch 87/100\n",
      "10/10 [==============================] - 0s 6ms/step - loss: 169.2457\n",
      "Epoch 88/100\n",
      "10/10 [==============================] - 0s 5ms/step - loss: 166.6461\n",
      "Epoch 89/100\n",
      "10/10 [==============================] - 0s 6ms/step - loss: 165.0289\n",
      "Epoch 90/100\n",
      "10/10 [==============================] - 0s 5ms/step - loss: 161.9738\n",
      "Epoch 91/100\n",
      "10/10 [==============================] - 0s 5ms/step - loss: 163.4081\n",
      "Epoch 92/100\n",
      "10/10 [==============================] - 0s 6ms/step - loss: 160.6670\n",
      "Epoch 93/100\n",
      "10/10 [==============================] - 0s 6ms/step - loss: 158.8997\n",
      "Epoch 94/100\n",
      "10/10 [==============================] - 0s 5ms/step - loss: 159.7427\n",
      "Epoch 95/100\n",
      "10/10 [==============================] - 0s 5ms/step - loss: 158.9832\n",
      "Epoch 96/100\n",
      "10/10 [==============================] - 0s 6ms/step - loss: 156.5706\n",
      "Epoch 97/100\n",
      "10/10 [==============================] - 0s 5ms/step - loss: 156.4301\n",
      "Epoch 98/100\n",
      "10/10 [==============================] - 0s 6ms/step - loss: 157.3054\n",
      "Epoch 99/100\n",
      "10/10 [==============================] - 0s 7ms/step - loss: 157.1647\n",
      "Epoch 100/100\n",
      "10/10 [==============================] - 0s 6ms/step - loss: 153.3300\n",
      "1000\n",
      "153.32998657226562\n",
      "153.32998657226562 3\n",
      "Epoch 1/100\n",
      "10/10 [==============================] - 1s 3ms/step - loss: 319011.5625\n",
      "Epoch 2/100\n",
      "10/10 [==============================] - 0s 4ms/step - loss: 314970.7500\n",
      "Epoch 3/100\n",
      "10/10 [==============================] - 0s 3ms/step - loss: 311611.9062\n",
      "Epoch 4/100\n",
      "10/10 [==============================] - 0s 5ms/step - loss: 308203.6250\n",
      "Epoch 5/100\n",
      "10/10 [==============================] - 0s 4ms/step - loss: 305032.7812\n",
      "Epoch 6/100\n",
      "10/10 [==============================] - 0s 6ms/step - loss: 302215.0312\n",
      "Epoch 7/100\n",
      "10/10 [==============================] - 0s 5ms/step - loss: 299346.5938\n",
      "Epoch 8/100\n",
      "10/10 [==============================] - 0s 5ms/step - loss: 297145.6562\n",
      "Epoch 9/100\n",
      "10/10 [==============================] - 0s 8ms/step - loss: 296670.2500\n",
      "Epoch 10/100\n",
      "10/10 [==============================] - 0s 5ms/step - loss: 296659.3125\n",
      "Epoch 11/100\n",
      "10/10 [==============================] - 0s 6ms/step - loss: 296649.1250\n",
      "Epoch 12/100\n",
      "10/10 [==============================] - 0s 6ms/step - loss: 296638.0938\n",
      "Epoch 13/100\n",
      "10/10 [==============================] - 0s 5ms/step - loss: 296627.9688\n",
      "Epoch 14/100\n",
      "10/10 [==============================] - 0s 6ms/step - loss: 296617.1250\n",
      "Epoch 15/100\n",
      "10/10 [==============================] - 0s 5ms/step - loss: 296606.5625\n",
      "Epoch 16/100\n",
      "10/10 [==============================] - 0s 5ms/step - loss: 296595.6562\n",
      "Epoch 17/100\n",
      "10/10 [==============================] - 0s 4ms/step - loss: 296584.4688\n",
      "Epoch 18/100\n",
      "10/10 [==============================] - 0s 4ms/step - loss: 296573.9375\n",
      "Epoch 19/100\n",
      "10/10 [==============================] - 0s 5ms/step - loss: 296563.6562\n",
      "Epoch 20/100\n",
      "10/10 [==============================] - 0s 5ms/step - loss: 296552.7812\n",
      "Epoch 21/100\n",
      "10/10 [==============================] - 0s 7ms/step - loss: 296541.4062\n",
      "Epoch 22/100\n",
      "10/10 [==============================] - 0s 4ms/step - loss: 296531.2812\n",
      "Epoch 23/100\n",
      "10/10 [==============================] - 0s 6ms/step - loss: 296519.9688\n",
      "Epoch 24/100\n",
      "10/10 [==============================] - 0s 4ms/step - loss: 296508.9375\n",
      "Epoch 25/100\n",
      "10/10 [==============================] - 0s 6ms/step - loss: 296498.1875\n",
      "Epoch 26/100\n",
      "10/10 [==============================] - 0s 4ms/step - loss: 296487.8438\n",
      "Epoch 27/100\n",
      "10/10 [==============================] - 0s 6ms/step - loss: 296476.7500\n",
      "Epoch 28/100\n",
      "10/10 [==============================] - 0s 4ms/step - loss: 296466.1562\n",
      "Epoch 29/100\n",
      "10/10 [==============================] - 0s 4ms/step - loss: 296454.8750\n",
      "Epoch 30/100\n",
      "10/10 [==============================] - 0s 5ms/step - loss: 296444.7500\n",
      "Epoch 31/100\n",
      "10/10 [==============================] - 0s 5ms/step - loss: 296434.1562\n",
      "Epoch 32/100\n",
      "10/10 [==============================] - 0s 6ms/step - loss: 296422.7188\n",
      "Epoch 33/100\n",
      "10/10 [==============================] - 0s 4ms/step - loss: 296411.9375\n",
      "Epoch 34/100\n",
      "10/10 [==============================] - 0s 10ms/step - loss: 296401.0625\n",
      "Epoch 35/100\n",
      "10/10 [==============================] - 0s 6ms/step - loss: 296390.9375\n",
      "Epoch 36/100\n",
      "10/10 [==============================] - 0s 6ms/step - loss: 296380.1875\n",
      "Epoch 37/100\n",
      "10/10 [==============================] - 0s 5ms/step - loss: 296369.3438\n",
      "Epoch 38/100\n",
      "10/10 [==============================] - 0s 6ms/step - loss: 296358.5938\n",
      "Epoch 39/100\n",
      "10/10 [==============================] - 0s 5ms/step - loss: 296347.3125\n",
      "Epoch 40/100\n",
      "10/10 [==============================] - 0s 6ms/step - loss: 296336.6562\n",
      "Epoch 41/100\n",
      "10/10 [==============================] - 0s 5ms/step - loss: 296325.8438\n",
      "Epoch 42/100\n",
      "10/10 [==============================] - 0s 6ms/step - loss: 296314.3438\n",
      "Epoch 43/100\n",
      "10/10 [==============================] - 0s 5ms/step - loss: 296304.4062\n",
      "Epoch 44/100\n",
      "10/10 [==============================] - 0s 6ms/step - loss: 296293.5625\n",
      "Epoch 45/100\n",
      "10/10 [==============================] - 0s 5ms/step - loss: 296282.9688\n",
      "Epoch 46/100\n",
      "10/10 [==============================] - 0s 6ms/step - loss: 296271.8750\n",
      "Epoch 47/100\n",
      "10/10 [==============================] - 0s 7ms/step - loss: 296260.8438\n",
      "Epoch 48/100\n",
      "10/10 [==============================] - 0s 7ms/step - loss: 296250.0938\n",
      "Epoch 49/100\n",
      "10/10 [==============================] - 0s 5ms/step - loss: 296239.0000\n",
      "Epoch 50/100\n",
      "10/10 [==============================] - 0s 5ms/step - loss: 296228.9062\n",
      "Epoch 51/100\n",
      "10/10 [==============================] - 0s 6ms/step - loss: 296217.1562\n",
      "Epoch 52/100\n",
      "10/10 [==============================] - 0s 4ms/step - loss: 296207.1875\n",
      "Epoch 53/100\n",
      "10/10 [==============================] - 0s 6ms/step - loss: 296196.4375\n",
      "Epoch 54/100\n",
      "10/10 [==============================] - 0s 7ms/step - loss: 296185.4062\n",
      "Epoch 55/100\n",
      "10/10 [==============================] - 0s 6ms/step - loss: 296174.4688\n",
      "Epoch 56/100\n",
      "10/10 [==============================] - 0s 5ms/step - loss: 296163.1875\n",
      "Epoch 57/100\n",
      "10/10 [==============================] - 0s 7ms/step - loss: 296152.7500\n",
      "Epoch 58/100\n",
      "10/10 [==============================] - 0s 7ms/step - loss: 296141.9062\n",
      "Epoch 59/100\n",
      "10/10 [==============================] - 0s 6ms/step - loss: 296131.2500\n",
      "Epoch 60/100\n",
      "10/10 [==============================] - 0s 5ms/step - loss: 296120.1250\n",
      "Epoch 61/100\n",
      "10/10 [==============================] - 0s 5ms/step - loss: 296108.9375\n",
      "Epoch 62/100\n",
      "10/10 [==============================] - 0s 6ms/step - loss: 296098.9375\n",
      "Epoch 63/100\n",
      "10/10 [==============================] - 0s 6ms/step - loss: 296088.2812\n",
      "Epoch 64/100\n",
      "10/10 [==============================] - 0s 5ms/step - loss: 296076.6562\n",
      "Epoch 65/100\n",
      "10/10 [==============================] - 0s 7ms/step - loss: 296066.6250\n",
      "Epoch 66/100\n",
      "10/10 [==============================] - 0s 6ms/step - loss: 296055.4062\n",
      "Epoch 67/100\n",
      "10/10 [==============================] - 0s 5ms/step - loss: 296044.2188\n",
      "Epoch 68/100\n",
      "10/10 [==============================] - 0s 6ms/step - loss: 296033.9375\n",
      "Epoch 69/100\n",
      "10/10 [==============================] - 0s 4ms/step - loss: 296023.3438\n",
      "Epoch 70/100\n",
      "10/10 [==============================] - 0s 6ms/step - loss: 296012.3438\n",
      "Epoch 71/100\n",
      "10/10 [==============================] - 0s 5ms/step - loss: 296001.6250\n",
      "Epoch 72/100\n",
      "10/10 [==============================] - 0s 6ms/step - loss: 295990.6875\n",
      "Epoch 73/100\n",
      "10/10 [==============================] - 0s 6ms/step - loss: 295980.0312\n",
      "Epoch 74/100\n",
      "10/10 [==============================] - 0s 6ms/step - loss: 295968.6562\n",
      "Epoch 75/100\n",
      "10/10 [==============================] - 0s 6ms/step - loss: 295957.8438\n",
      "Epoch 76/100\n",
      "10/10 [==============================] - 0s 5ms/step - loss: 295946.9375\n",
      "Epoch 77/100\n",
      "10/10 [==============================] - 0s 6ms/step - loss: 295936.6562\n",
      "Epoch 78/100\n",
      "10/10 [==============================] - 0s 4ms/step - loss: 295925.4375\n",
      "Epoch 79/100\n",
      "10/10 [==============================] - 0s 6ms/step - loss: 295914.9375\n",
      "Epoch 80/100\n",
      "10/10 [==============================] - 0s 5ms/step - loss: 295904.0938\n",
      "Epoch 81/100\n",
      "10/10 [==============================] - 0s 5ms/step - loss: 295893.4688\n",
      "Epoch 82/100\n",
      "10/10 [==============================] - 0s 7ms/step - loss: 295882.2812\n",
      "Epoch 83/100\n",
      "10/10 [==============================] - 0s 5ms/step - loss: 295871.4375\n",
      "Epoch 84/100\n",
      "10/10 [==============================] - 0s 4ms/step - loss: 295860.6875\n",
      "Epoch 85/100\n",
      "10/10 [==============================] - 0s 6ms/step - loss: 295849.9688\n",
      "Epoch 86/100\n",
      "10/10 [==============================] - 0s 3ms/step - loss: 295839.3125\n",
      "Epoch 87/100\n",
      "10/10 [==============================] - 0s 5ms/step - loss: 295828.0312\n",
      "Epoch 88/100\n",
      "10/10 [==============================] - 0s 4ms/step - loss: 295817.7188\n",
      "Epoch 89/100\n",
      "10/10 [==============================] - 0s 6ms/step - loss: 295806.7188\n",
      "Epoch 90/100\n",
      "10/10 [==============================] - 0s 7ms/step - loss: 295795.4688\n",
      "Epoch 91/100\n",
      "10/10 [==============================] - 0s 5ms/step - loss: 295784.8125\n",
      "Epoch 92/100\n",
      "10/10 [==============================] - 0s 6ms/step - loss: 295773.9062\n",
      "Epoch 93/100\n",
      "10/10 [==============================] - 0s 5ms/step - loss: 295763.5938\n",
      "Epoch 94/100\n",
      "10/10 [==============================] - 0s 7ms/step - loss: 295753.0000\n",
      "Epoch 95/100\n",
      "10/10 [==============================] - 0s 5ms/step - loss: 295742.1562\n",
      "Epoch 96/100\n",
      "10/10 [==============================] - 0s 6ms/step - loss: 295730.9062\n",
      "Epoch 97/100\n",
      "10/10 [==============================] - 0s 5ms/step - loss: 295720.5312\n",
      "Epoch 98/100\n",
      "10/10 [==============================] - 0s 7ms/step - loss: 295709.7500\n",
      "Epoch 99/100\n",
      "10/10 [==============================] - 0s 5ms/step - loss: 295698.2188\n",
      "Epoch 100/100\n",
      "10/10 [==============================] - 0s 6ms/step - loss: 295687.2500\n",
      "1000\n",
      "295687.25\n",
      "153.32998657226562 2\n",
      "Epoch 1/100\n",
      "10/10 [==============================] - 1s 3ms/step - loss: 296756.9062\n",
      "Epoch 2/100\n",
      "10/10 [==============================] - 0s 5ms/step - loss: 296745.8125\n",
      "Epoch 3/100\n",
      "10/10 [==============================] - 0s 8ms/step - loss: 296735.1562\n",
      "Epoch 4/100\n",
      "10/10 [==============================] - 0s 6ms/step - loss: 296723.6875\n",
      "Epoch 5/100\n",
      "10/10 [==============================] - 0s 5ms/step - loss: 296713.5938\n",
      "Epoch 6/100\n",
      "10/10 [==============================] - 0s 6ms/step - loss: 296702.5938\n",
      "Epoch 7/100\n",
      "10/10 [==============================] - 0s 4ms/step - loss: 296690.9375\n",
      "Epoch 8/100\n",
      "10/10 [==============================] - 0s 6ms/step - loss: 296680.9062\n",
      "Epoch 9/100\n",
      "10/10 [==============================] - 0s 5ms/step - loss: 296669.2812\n",
      "Epoch 10/100\n",
      "10/10 [==============================] - 0s 5ms/step - loss: 296659.1250\n",
      "Epoch 11/100\n",
      "10/10 [==============================] - 0s 6ms/step - loss: 296648.1875\n",
      "Epoch 12/100\n",
      "10/10 [==============================] - 0s 5ms/step - loss: 296636.9688\n",
      "Epoch 13/100\n",
      "10/10 [==============================] - 0s 5ms/step - loss: 296625.9375\n",
      "Epoch 14/100\n",
      "10/10 [==============================] - 0s 5ms/step - loss: 296615.3125\n",
      "Epoch 15/100\n",
      "10/10 [==============================] - 0s 5ms/step - loss: 296604.2812\n",
      "Epoch 16/100\n",
      "10/10 [==============================] - 0s 9ms/step - loss: 296593.8438\n",
      "Epoch 17/100\n",
      "10/10 [==============================] - 0s 6ms/step - loss: 296582.6562\n",
      "Epoch 18/100\n",
      "10/10 [==============================] - 0s 6ms/step - loss: 296572.2500\n",
      "Epoch 19/100\n",
      "10/10 [==============================] - 0s 5ms/step - loss: 296561.6562\n",
      "Epoch 20/100\n",
      "10/10 [==============================] - 0s 6ms/step - loss: 296550.8750\n",
      "Epoch 21/100\n",
      "10/10 [==============================] - 0s 5ms/step - loss: 296539.2188\n",
      "Epoch 22/100\n",
      "10/10 [==============================] - 0s 6ms/step - loss: 296528.4688\n",
      "Epoch 23/100\n",
      "10/10 [==============================] - 0s 4ms/step - loss: 296518.4375\n",
      "Epoch 24/100\n",
      "10/10 [==============================] - 0s 7ms/step - loss: 296507.2812\n",
      "Epoch 25/100\n",
      "10/10 [==============================] - 0s 5ms/step - loss: 296496.3125\n",
      "Epoch 26/100\n",
      "10/10 [==============================] - 0s 6ms/step - loss: 296485.5000\n",
      "Epoch 27/100\n",
      "10/10 [==============================] - 0s 4ms/step - loss: 296474.8438\n",
      "Epoch 28/100\n",
      "10/10 [==============================] - 0s 6ms/step - loss: 296463.3438\n",
      "Epoch 29/100\n",
      "10/10 [==============================] - 0s 6ms/step - loss: 296453.2812\n",
      "Epoch 30/100\n",
      "10/10 [==============================] - 0s 6ms/step - loss: 296441.6875\n",
      "Epoch 31/100\n",
      "10/10 [==============================] - 0s 6ms/step - loss: 296431.2188\n",
      "Epoch 32/100\n",
      "10/10 [==============================] - 0s 6ms/step - loss: 296420.6875\n",
      "Epoch 33/100\n",
      "10/10 [==============================] - 0s 5ms/step - loss: 296409.9375\n",
      "Epoch 34/100\n",
      "10/10 [==============================] - 0s 6ms/step - loss: 296399.1875\n",
      "Epoch 35/100\n",
      "10/10 [==============================] - 0s 5ms/step - loss: 296388.4062\n",
      "Epoch 36/100\n",
      "10/10 [==============================] - 0s 7ms/step - loss: 296376.8438\n",
      "Epoch 37/100\n",
      "10/10 [==============================] - 0s 5ms/step - loss: 296365.7500\n",
      "Epoch 38/100\n",
      "10/10 [==============================] - 0s 7ms/step - loss: 296354.9375\n",
      "Epoch 39/100\n",
      "10/10 [==============================] - 0s 6ms/step - loss: 296344.1875\n",
      "Epoch 40/100\n",
      "10/10 [==============================] - 0s 6ms/step - loss: 296333.0938\n",
      "Epoch 41/100\n",
      "10/10 [==============================] - 0s 7ms/step - loss: 296322.6562\n",
      "Epoch 42/100\n",
      "10/10 [==============================] - 0s 6ms/step - loss: 296311.6875\n",
      "Epoch 43/100\n",
      "10/10 [==============================] - 0s 5ms/step - loss: 296301.6250\n",
      "Epoch 44/100\n",
      "10/10 [==============================] - 0s 6ms/step - loss: 296290.4688\n",
      "Epoch 45/100\n",
      "10/10 [==============================] - 0s 5ms/step - loss: 296279.9688\n",
      "Epoch 46/100\n",
      "10/10 [==============================] - 0s 6ms/step - loss: 296268.3438\n",
      "Epoch 47/100\n",
      "10/10 [==============================] - 0s 8ms/step - loss: 296257.5000\n",
      "Epoch 48/100\n",
      "10/10 [==============================] - 0s 7ms/step - loss: 296246.9375\n",
      "Epoch 49/100\n",
      "10/10 [==============================] - 0s 7ms/step - loss: 296236.5000\n",
      "Epoch 50/100\n",
      "10/10 [==============================] - 0s 6ms/step - loss: 296225.3125\n",
      "Epoch 51/100\n",
      "10/10 [==============================] - 0s 6ms/step - loss: 296214.1875\n",
      "Epoch 52/100\n",
      "10/10 [==============================] - 0s 4ms/step - loss: 296203.3750\n",
      "Epoch 53/100\n",
      "10/10 [==============================] - 0s 6ms/step - loss: 296192.6562\n",
      "Epoch 54/100\n",
      "10/10 [==============================] - 0s 4ms/step - loss: 296181.9375\n",
      "Epoch 55/100\n",
      "10/10 [==============================] - 0s 5ms/step - loss: 296171.0312\n",
      "Epoch 56/100\n",
      "10/10 [==============================] - 0s 5ms/step - loss: 296160.3125\n",
      "Epoch 57/100\n",
      "10/10 [==============================] - 0s 7ms/step - loss: 296149.6250\n",
      "Epoch 58/100\n",
      "10/10 [==============================] - 0s 6ms/step - loss: 296138.6875\n",
      "Epoch 59/100\n",
      "10/10 [==============================] - 0s 6ms/step - loss: 296127.5312\n",
      "Epoch 60/100\n",
      "10/10 [==============================] - 0s 5ms/step - loss: 296116.5000\n",
      "Epoch 61/100\n",
      "10/10 [==============================] - 0s 4ms/step - loss: 296105.7812\n",
      "Epoch 62/100\n",
      "10/10 [==============================] - 0s 6ms/step - loss: 296095.3438\n",
      "Epoch 63/100\n",
      "10/10 [==============================] - 0s 5ms/step - loss: 296083.9062\n",
      "Epoch 64/100\n",
      "10/10 [==============================] - 0s 6ms/step - loss: 296073.2812\n",
      "Epoch 65/100\n",
      "10/10 [==============================] - 0s 5ms/step - loss: 296062.8125\n",
      "Epoch 66/100\n",
      "10/10 [==============================] - 0s 6ms/step - loss: 296051.5625\n",
      "Epoch 67/100\n",
      "10/10 [==============================] - 0s 5ms/step - loss: 296040.9062\n",
      "Epoch 68/100\n",
      "10/10 [==============================] - 0s 6ms/step - loss: 296030.3750\n",
      "Epoch 69/100\n",
      "10/10 [==============================] - 0s 5ms/step - loss: 296019.2500\n",
      "Epoch 70/100\n",
      "10/10 [==============================] - 0s 6ms/step - loss: 296008.5938\n",
      "Epoch 71/100\n",
      "10/10 [==============================] - 0s 5ms/step - loss: 295997.2188\n",
      "Epoch 72/100\n",
      "10/10 [==============================] - 0s 5ms/step - loss: 295987.0000\n",
      "Epoch 73/100\n",
      "10/10 [==============================] - 0s 6ms/step - loss: 295975.7188\n",
      "Epoch 74/100\n",
      "10/10 [==============================] - 0s 5ms/step - loss: 295965.6250\n",
      "Epoch 75/100\n",
      "10/10 [==============================] - 0s 6ms/step - loss: 295953.9375\n",
      "Epoch 76/100\n",
      "10/10 [==============================] - 0s 4ms/step - loss: 295943.9688\n",
      "Epoch 77/100\n",
      "10/10 [==============================] - 0s 5ms/step - loss: 295932.7188\n",
      "Epoch 78/100\n",
      "10/10 [==============================] - 0s 5ms/step - loss: 295922.2812\n",
      "Epoch 79/100\n",
      "10/10 [==============================] - 0s 5ms/step - loss: 295910.9375\n",
      "Epoch 80/100\n",
      "10/10 [==============================] - 0s 4ms/step - loss: 295899.8438\n",
      "Epoch 81/100\n",
      "10/10 [==============================] - 0s 5ms/step - loss: 295889.6250\n",
      "Epoch 82/100\n",
      "10/10 [==============================] - 0s 6ms/step - loss: 295878.7188\n",
      "Epoch 83/100\n",
      "10/10 [==============================] - 0s 5ms/step - loss: 295867.8438\n",
      "Epoch 84/100\n",
      "10/10 [==============================] - 0s 6ms/step - loss: 295856.5312\n",
      "Epoch 85/100\n",
      "10/10 [==============================] - 0s 5ms/step - loss: 295846.5312\n",
      "Epoch 86/100\n",
      "10/10 [==============================] - 0s 6ms/step - loss: 295835.4062\n",
      "Epoch 87/100\n",
      "10/10 [==============================] - 0s 5ms/step - loss: 295824.9062\n",
      "Epoch 88/100\n",
      "10/10 [==============================] - 0s 6ms/step - loss: 295814.0938\n",
      "Epoch 89/100\n",
      "10/10 [==============================] - 0s 5ms/step - loss: 295803.1875\n",
      "Epoch 90/100\n",
      "10/10 [==============================] - 0s 6ms/step - loss: 295792.1250\n",
      "Epoch 91/100\n",
      "10/10 [==============================] - 0s 4ms/step - loss: 295780.9688\n",
      "Epoch 92/100\n",
      "10/10 [==============================] - 0s 5ms/step - loss: 295770.0000\n",
      "Epoch 93/100\n",
      "10/10 [==============================] - 0s 4ms/step - loss: 295759.8125\n",
      "Epoch 94/100\n",
      "10/10 [==============================] - 0s 5ms/step - loss: 295748.6562\n",
      "Epoch 95/100\n",
      "10/10 [==============================] - 0s 4ms/step - loss: 295737.3438\n",
      "Epoch 96/100\n",
      "10/10 [==============================] - 0s 4ms/step - loss: 295726.5625\n",
      "Epoch 97/100\n",
      "10/10 [==============================] - 0s 5ms/step - loss: 295716.2500\n",
      "Epoch 98/100\n",
      "10/10 [==============================] - 0s 4ms/step - loss: 295705.7812\n",
      "Epoch 99/100\n",
      "10/10 [==============================] - 0s 6ms/step - loss: 295694.6250\n",
      "Epoch 100/100\n",
      "10/10 [==============================] - 0s 3ms/step - loss: 295683.4062\n",
      "1000\n",
      "295683.40625\n",
      "153.32998657226562 1\n",
      "Epoch 1/100\n",
      "10/10 [==============================] - 1s 3ms/step - loss: 296756.3125\n",
      "Epoch 2/100\n",
      "10/10 [==============================] - 0s 4ms/step - loss: 296746.0625\n",
      "Epoch 3/100\n",
      "10/10 [==============================] - 0s 6ms/step - loss: 296734.5000\n",
      "Epoch 4/100\n",
      "10/10 [==============================] - 0s 5ms/step - loss: 296723.5312\n",
      "Epoch 5/100\n",
      "10/10 [==============================] - 0s 5ms/step - loss: 296712.9688\n",
      "Epoch 6/100\n",
      "10/10 [==============================] - 0s 6ms/step - loss: 296702.5000\n",
      "Epoch 7/100\n",
      "10/10 [==============================] - 0s 6ms/step - loss: 296691.3125\n",
      "Epoch 8/100\n",
      "10/10 [==============================] - 0s 5ms/step - loss: 296680.9062\n",
      "Epoch 9/100\n",
      "10/10 [==============================] - 0s 6ms/step - loss: 296669.5312\n",
      "Epoch 10/100\n",
      "10/10 [==============================] - 0s 4ms/step - loss: 296659.3750\n",
      "Epoch 11/100\n",
      "10/10 [==============================] - 0s 6ms/step - loss: 296647.7500\n",
      "Epoch 12/100\n",
      "10/10 [==============================] - 0s 4ms/step - loss: 296637.6250\n",
      "Epoch 13/100\n",
      "10/10 [==============================] - 0s 6ms/step - loss: 296627.0000\n",
      "Epoch 14/100\n",
      "10/10 [==============================] - 0s 4ms/step - loss: 296615.6562\n",
      "Epoch 15/100\n",
      "10/10 [==============================] - 0s 5ms/step - loss: 296605.0000\n",
      "Epoch 16/100\n",
      "10/10 [==============================] - 0s 5ms/step - loss: 296594.0625\n",
      "Epoch 17/100\n",
      "10/10 [==============================] - 0s 5ms/step - loss: 296582.6562\n",
      "Epoch 18/100\n",
      "10/10 [==============================] - 0s 6ms/step - loss: 296571.9688\n",
      "Epoch 19/100\n",
      "10/10 [==============================] - 0s 6ms/step - loss: 296560.7812\n",
      "Epoch 20/100\n",
      "10/10 [==============================] - 0s 6ms/step - loss: 296550.2188\n",
      "Epoch 21/100\n",
      "10/10 [==============================] - 0s 6ms/step - loss: 296539.7188\n",
      "Epoch 22/100\n",
      "10/10 [==============================] - 0s 4ms/step - loss: 296529.0312\n",
      "Epoch 23/100\n",
      "10/10 [==============================] - 0s 7ms/step - loss: 296517.9688\n",
      "Epoch 24/100\n",
      "10/10 [==============================] - 0s 5ms/step - loss: 296507.3125\n",
      "Epoch 25/100\n",
      "10/10 [==============================] - 0s 6ms/step - loss: 296495.9062\n",
      "Epoch 26/100\n",
      "10/10 [==============================] - 0s 5ms/step - loss: 296484.9062\n",
      "Epoch 27/100\n",
      "10/10 [==============================] - 0s 5ms/step - loss: 296474.2812\n",
      "Epoch 28/100\n",
      "10/10 [==============================] - 0s 5ms/step - loss: 296463.8438\n",
      "Epoch 29/100\n",
      "10/10 [==============================] - 0s 7ms/step - loss: 296453.0312\n",
      "Epoch 30/100\n",
      "10/10 [==============================] - 0s 4ms/step - loss: 296442.2188\n",
      "Epoch 31/100\n",
      "10/10 [==============================] - 0s 6ms/step - loss: 296431.4688\n",
      "Epoch 32/100\n",
      "10/10 [==============================] - 0s 4ms/step - loss: 296420.3125\n",
      "Epoch 33/100\n",
      "10/10 [==============================] - 0s 5ms/step - loss: 296409.6875\n",
      "Epoch 34/100\n",
      "10/10 [==============================] - 0s 5ms/step - loss: 296398.6562\n",
      "Epoch 35/100\n",
      "10/10 [==============================] - 0s 6ms/step - loss: 296388.0312\n",
      "Epoch 36/100\n",
      "10/10 [==============================] - 0s 3ms/step - loss: 296377.0938\n",
      "Epoch 37/100\n",
      "10/10 [==============================] - 0s 5ms/step - loss: 296366.0625\n",
      "Epoch 38/100\n",
      "10/10 [==============================] - 0s 3ms/step - loss: 296355.2812\n",
      "Epoch 39/100\n",
      "10/10 [==============================] - 0s 4ms/step - loss: 296344.7812\n",
      "Epoch 40/100\n",
      "10/10 [==============================] - 0s 4ms/step - loss: 296333.2188\n",
      "Epoch 41/100\n",
      "10/10 [==============================] - 0s 5ms/step - loss: 296323.1562\n",
      "Epoch 42/100\n",
      "10/10 [==============================] - 0s 6ms/step - loss: 296311.4688\n",
      "Epoch 43/100\n",
      "10/10 [==============================] - 0s 6ms/step - loss: 296301.1875\n",
      "Epoch 44/100\n",
      "10/10 [==============================] - 0s 5ms/step - loss: 296289.7812\n",
      "Epoch 45/100\n",
      "10/10 [==============================] - 0s 6ms/step - loss: 296279.4062\n",
      "Epoch 46/100\n",
      "10/10 [==============================] - 0s 5ms/step - loss: 296268.5312\n",
      "Epoch 47/100\n",
      "10/10 [==============================] - 0s 6ms/step - loss: 296257.6875\n",
      "Epoch 48/100\n",
      "10/10 [==============================] - 0s 6ms/step - loss: 296246.5938\n",
      "Epoch 49/100\n",
      "10/10 [==============================] - 0s 5ms/step - loss: 296235.9688\n",
      "Epoch 50/100\n",
      "10/10 [==============================] - 0s 5ms/step - loss: 296225.3438\n",
      "Epoch 51/100\n",
      "10/10 [==============================] - 0s 6ms/step - loss: 296214.6562\n",
      "Epoch 52/100\n",
      "10/10 [==============================] - 0s 5ms/step - loss: 296203.3125\n",
      "Epoch 53/100\n",
      "10/10 [==============================] - 0s 7ms/step - loss: 296192.8438\n",
      "Epoch 54/100\n",
      "10/10 [==============================] - 0s 9ms/step - loss: 296181.8125\n",
      "Epoch 55/100\n",
      "10/10 [==============================] - 0s 5ms/step - loss: 296170.8750\n",
      "Epoch 56/100\n",
      "10/10 [==============================] - 0s 5ms/step - loss: 296160.0312\n",
      "Epoch 57/100\n",
      "10/10 [==============================] - 0s 3ms/step - loss: 296149.5625\n",
      "Epoch 58/100\n",
      "10/10 [==============================] - 0s 4ms/step - loss: 296139.0312\n",
      "Epoch 59/100\n",
      "10/10 [==============================] - 0s 5ms/step - loss: 296128.1875\n",
      "Epoch 60/100\n",
      "10/10 [==============================] - 0s 7ms/step - loss: 296116.6875\n",
      "Epoch 61/100\n",
      "10/10 [==============================] - 0s 5ms/step - loss: 296105.7500\n",
      "Epoch 62/100\n",
      "10/10 [==============================] - 0s 5ms/step - loss: 296095.3125\n",
      "Epoch 63/100\n",
      "10/10 [==============================] - 0s 4ms/step - loss: 296084.7812\n",
      "Epoch 64/100\n",
      "10/10 [==============================] - 0s 7ms/step - loss: 296073.1875\n",
      "Epoch 65/100\n",
      "10/10 [==============================] - 0s 5ms/step - loss: 296063.1875\n",
      "Epoch 66/100\n",
      "10/10 [==============================] - 0s 5ms/step - loss: 296052.3438\n",
      "Epoch 67/100\n",
      "10/10 [==============================] - 0s 4ms/step - loss: 296040.7500\n",
      "Epoch 68/100\n",
      "10/10 [==============================] - 0s 5ms/step - loss: 296030.5625\n",
      "Epoch 69/100\n",
      "10/10 [==============================] - 0s 6ms/step - loss: 296018.9062\n",
      "Epoch 70/100\n",
      "10/10 [==============================] - 0s 4ms/step - loss: 296008.4062\n",
      "Epoch 71/100\n",
      "10/10 [==============================] - 0s 6ms/step - loss: 295997.5938\n",
      "Epoch 72/100\n",
      "10/10 [==============================] - 0s 5ms/step - loss: 295987.3750\n",
      "Epoch 73/100\n",
      "10/10 [==============================] - 0s 6ms/step - loss: 295976.5312\n",
      "Epoch 74/100\n",
      "10/10 [==============================] - 0s 5ms/step - loss: 295965.3438\n",
      "Epoch 75/100\n",
      "10/10 [==============================] - 0s 6ms/step - loss: 295954.2812\n",
      "Epoch 76/100\n",
      "10/10 [==============================] - 0s 4ms/step - loss: 295943.2812\n",
      "Epoch 77/100\n",
      "10/10 [==============================] - 0s 5ms/step - loss: 295933.0625\n",
      "Epoch 78/100\n",
      "10/10 [==============================] - 0s 7ms/step - loss: 295922.3750\n",
      "Epoch 79/100\n",
      "10/10 [==============================] - 0s 5ms/step - loss: 295910.7500\n",
      "Epoch 80/100\n",
      "10/10 [==============================] - 0s 5ms/step - loss: 295900.7500\n",
      "Epoch 81/100\n",
      "10/10 [==============================] - 0s 6ms/step - loss: 295889.7812\n",
      "Epoch 82/100\n",
      "10/10 [==============================] - 0s 6ms/step - loss: 295879.0000\n",
      "Epoch 83/100\n",
      "10/10 [==============================] - 0s 8ms/step - loss: 295867.9062\n",
      "Epoch 84/100\n",
      "10/10 [==============================] - 0s 6ms/step - loss: 295857.4062\n",
      "Epoch 85/100\n",
      "10/10 [==============================] - 0s 5ms/step - loss: 295846.5312\n",
      "Epoch 86/100\n",
      "10/10 [==============================] - 0s 5ms/step - loss: 295835.2812\n",
      "Epoch 87/100\n",
      "10/10 [==============================] - 0s 4ms/step - loss: 295824.4688\n",
      "Epoch 88/100\n",
      "10/10 [==============================] - 0s 7ms/step - loss: 295813.1875\n",
      "Epoch 89/100\n",
      "10/10 [==============================] - 0s 5ms/step - loss: 295803.0938\n",
      "Epoch 90/100\n",
      "10/10 [==============================] - 0s 6ms/step - loss: 295792.1875\n",
      "Epoch 91/100\n",
      "10/10 [==============================] - 0s 5ms/step - loss: 295781.2500\n",
      "Epoch 92/100\n",
      "10/10 [==============================] - 0s 6ms/step - loss: 295770.3125\n",
      "Epoch 93/100\n",
      "10/10 [==============================] - 0s 4ms/step - loss: 295759.5938\n",
      "Epoch 94/100\n",
      "10/10 [==============================] - 0s 5ms/step - loss: 295748.6875\n",
      "Epoch 95/100\n",
      "10/10 [==============================] - 0s 4ms/step - loss: 295737.6250\n",
      "Epoch 96/100\n",
      "10/10 [==============================] - 0s 6ms/step - loss: 295727.0000\n",
      "Epoch 97/100\n",
      "10/10 [==============================] - 0s 5ms/step - loss: 295715.9062\n",
      "Epoch 98/100\n",
      "10/10 [==============================] - 0s 5ms/step - loss: 295705.3125\n",
      "Epoch 99/100\n",
      "10/10 [==============================] - 0s 7ms/step - loss: 295694.7188\n",
      "Epoch 100/100\n",
      "10/10 [==============================] - 0s 6ms/step - loss: 295683.3750\n",
      "1000\n",
      "295683.375\n",
      "153.32998657226562 0\n"
     ]
    }
   ],
   "source": [
    "from keras.models import Sequential\n",
    "from keras.layers import LSTM, Dense\n",
    "\n",
    "class LossHistory(keras.callbacks.Callback):\n",
    "    def on_train_begin(self, logs={}):\n",
    "        self.losses = []\n",
    "\n",
    "    def on_batch_end(self, batch, logs={}):\n",
    "        self.losses.append(logs.get('loss'))\n",
    "\n",
    "history = LossHistory()\n",
    "lossini = 10000000000000\n",
    "turn=10\n",
    "mm=[]\n",
    "ans=50\n",
    "\n",
    "while(turn>0):\n",
    "    turn=turn-1\n",
    "    mm.append(Sequential())\n",
    "    mm[9-turn].add(\n",
    "    LSTM(10,\n",
    "         activation='relu',\n",
    "         input_shape=(look_back, 1))\n",
    "    )\n",
    "    mm[9-turn].add(Dense(1))\n",
    "    mm[9-turn].compile(optimizer='adam', loss='mse')\n",
    "    num_epochs = 100\n",
    "    mm[9-turn].fit(train_generator, epochs=num_epochs, verbose=1, callbacks=[history])\n",
    "    print(len(history.losses))\n",
    "    mino=float(history.losses[len(history.losses)-1])\n",
    "    print(mino)\n",
    "    if(mino<lossini):\n",
    "        ans=9-turn\n",
    "    lossini=min(mino,lossini)\n",
    "    print(lossini,turn)\n",
    "model=mm[ans]"
   ]
  },
  {
   "cell_type": "code",
   "execution_count": 7,
   "id": "9f8e89c4-0179-4d35-beb9-8b02e66b38ab",
   "metadata": {},
   "outputs": [
    {
     "name": "stdout",
     "output_type": "stream",
     "text": [
      "50\n"
     ]
    },
    {
     "data": {
      "application/vnd.plotly.v1+json": {
       "config": {
        "plotlyServerURL": "https://plot.ly"
       },
       "data": [
        {
         "mode": "lines",
         "name": "Data",
         "type": "scatter",
         "x": [
          "2020-11-02T00:00:00",
          "2020-11-03T00:00:00",
          "2020-11-04T00:00:00",
          "2020-11-05T00:00:00",
          "2020-11-06T00:00:00",
          "2020-11-09T00:00:00",
          "2020-11-10T00:00:00",
          "2020-11-11T00:00:00",
          "2020-11-12T00:00:00",
          "2020-11-13T00:00:00",
          "2020-11-14T00:00:00",
          "2020-11-17T00:00:00",
          "2020-11-18T00:00:00",
          "2020-11-19T00:00:00",
          "2020-11-20T00:00:00",
          "2020-11-23T00:00:00",
          "2020-11-24T00:00:00",
          "2020-11-25T00:00:00",
          "2020-11-26T00:00:00",
          "2020-11-27T00:00:00",
          "2020-12-01T00:00:00",
          "2020-12-02T00:00:00",
          "2020-12-03T00:00:00",
          "2020-12-04T00:00:00",
          "2020-12-07T00:00:00",
          "2020-12-08T00:00:00",
          "2020-12-09T00:00:00",
          "2020-12-10T00:00:00",
          "2020-12-11T00:00:00",
          "2020-12-14T00:00:00",
          "2020-12-15T00:00:00",
          "2020-12-16T00:00:00",
          "2020-12-17T00:00:00",
          "2020-12-18T00:00:00",
          "2020-12-21T00:00:00",
          "2020-12-22T00:00:00",
          "2020-12-23T00:00:00",
          "2020-12-24T00:00:00",
          "2020-12-28T00:00:00",
          "2020-12-29T00:00:00",
          "2020-12-30T00:00:00",
          "2020-12-31T00:00:00",
          "2021-01-01T00:00:00",
          "2021-01-04T00:00:00",
          "2021-01-05T00:00:00",
          "2021-01-06T00:00:00",
          "2021-01-07T00:00:00",
          "2021-01-08T00:00:00",
          "2021-01-11T00:00:00",
          "2021-01-12T00:00:00",
          "2021-01-13T00:00:00",
          "2021-01-14T00:00:00",
          "2021-01-15T00:00:00",
          "2021-01-18T00:00:00",
          "2021-01-19T00:00:00",
          "2021-01-20T00:00:00",
          "2021-01-21T00:00:00",
          "2021-01-22T00:00:00",
          "2021-01-25T00:00:00",
          "2021-01-27T00:00:00",
          "2021-01-28T00:00:00",
          "2021-01-29T00:00:00",
          "2021-02-01T00:00:00",
          "2021-02-02T00:00:00",
          "2021-02-03T00:00:00",
          "2021-02-04T00:00:00",
          "2021-02-05T00:00:00",
          "2021-02-08T00:00:00",
          "2021-02-09T00:00:00",
          "2021-02-10T00:00:00",
          "2021-02-11T00:00:00",
          "2021-02-12T00:00:00",
          "2021-02-15T00:00:00",
          "2021-02-16T00:00:00",
          "2021-02-17T00:00:00",
          "2021-02-18T00:00:00",
          "2021-02-19T00:00:00",
          "2021-02-22T00:00:00",
          "2021-02-23T00:00:00",
          "2021-02-24T00:00:00",
          "2021-02-25T00:00:00",
          "2021-02-26T00:00:00",
          "2021-03-01T00:00:00",
          "2021-03-02T00:00:00",
          "2021-03-03T00:00:00",
          "2021-03-04T00:00:00",
          "2021-03-05T00:00:00",
          "2021-03-08T00:00:00",
          "2021-03-09T00:00:00",
          "2021-03-10T00:00:00",
          "2021-03-12T00:00:00",
          "2021-03-15T00:00:00",
          "2021-03-16T00:00:00",
          "2021-03-17T00:00:00",
          "2021-03-18T00:00:00",
          "2021-03-19T00:00:00",
          "2021-03-22T00:00:00",
          "2021-03-23T00:00:00",
          "2021-03-24T00:00:00",
          "2021-03-25T00:00:00",
          "2021-03-26T00:00:00",
          "2021-03-30T00:00:00",
          "2021-03-31T00:00:00",
          "2021-04-01T00:00:00",
          "2021-04-05T00:00:00",
          "2021-04-06T00:00:00",
          "2021-04-07T00:00:00",
          "2021-04-08T00:00:00",
          "2021-04-09T00:00:00",
          "2021-04-12T00:00:00",
          "2021-04-13T00:00:00",
          "2021-04-15T00:00:00",
          "2021-04-16T00:00:00",
          "2021-04-19T00:00:00",
          "2021-04-20T00:00:00",
          "2021-04-22T00:00:00",
          "2021-04-23T00:00:00",
          "2021-04-26T00:00:00",
          "2021-04-27T00:00:00",
          "2021-04-28T00:00:00",
          "2021-04-29T00:00:00",
          "2021-04-30T00:00:00",
          "2021-05-03T00:00:00",
          "2021-05-04T00:00:00",
          "2021-05-05T00:00:00",
          "2021-05-06T00:00:00",
          "2021-05-07T00:00:00",
          "2021-05-10T00:00:00",
          "2021-05-11T00:00:00",
          "2021-05-12T00:00:00",
          "2021-05-14T00:00:00",
          "2021-05-17T00:00:00",
          "2021-05-18T00:00:00",
          "2021-05-19T00:00:00",
          "2021-05-20T00:00:00",
          "2021-05-21T00:00:00",
          "2021-05-24T00:00:00",
          "2021-05-25T00:00:00",
          "2021-05-26T00:00:00",
          "2021-05-27T00:00:00",
          "2021-05-28T00:00:00",
          "2021-05-31T00:00:00",
          "2021-06-01T00:00:00",
          "2021-06-02T00:00:00",
          "2021-06-03T00:00:00",
          "2021-06-04T00:00:00",
          "2021-06-07T00:00:00",
          "2021-06-08T00:00:00",
          "2021-06-09T00:00:00",
          "2021-06-10T00:00:00",
          "2021-06-11T00:00:00",
          "2021-06-14T00:00:00",
          "2021-06-15T00:00:00",
          "2021-06-16T00:00:00",
          "2021-06-17T00:00:00",
          "2021-06-18T00:00:00",
          "2021-06-21T00:00:00",
          "2021-06-22T00:00:00",
          "2021-06-23T00:00:00",
          "2021-06-24T00:00:00",
          "2021-06-25T00:00:00",
          "2021-06-28T00:00:00",
          "2021-06-29T00:00:00",
          "2021-06-30T00:00:00",
          "2021-07-01T00:00:00",
          "2021-07-02T00:00:00",
          "2021-07-05T00:00:00",
          "2021-07-06T00:00:00",
          "2021-07-07T00:00:00",
          "2021-07-08T00:00:00",
          "2021-07-09T00:00:00",
          "2021-07-12T00:00:00",
          "2021-07-13T00:00:00",
          "2021-07-14T00:00:00",
          "2021-07-15T00:00:00",
          "2021-07-16T00:00:00",
          "2021-07-19T00:00:00",
          "2021-07-20T00:00:00",
          "2021-07-22T00:00:00",
          "2021-07-23T00:00:00",
          "2021-07-26T00:00:00",
          "2021-07-27T00:00:00",
          "2021-07-28T00:00:00",
          "2021-07-29T00:00:00",
          "2021-07-30T00:00:00",
          "2021-08-02T00:00:00",
          "2021-08-03T00:00:00",
          "2021-08-04T00:00:00",
          "2021-08-05T00:00:00",
          "2021-08-06T00:00:00",
          "2021-08-09T00:00:00",
          "2021-08-10T00:00:00",
          "2021-08-11T00:00:00",
          "2021-08-12T00:00:00",
          "2021-08-13T00:00:00",
          "2021-08-16T00:00:00",
          "2021-08-17T00:00:00",
          "2021-08-18T00:00:00"
         ],
         "y": [
          457.4,
          454.6,
          453.05,
          457.3,
          449.9,
          471.8,
          466.4,
          478.6,
          479.85,
          475.75,
          481.5,
          484.55,
          478.4,
          468.55,
          483.7,
          477.25,
          474.25,
          464.1,
          468.4,
          463.25,
          479.45,
          484.9,
          479.9,
          493.75,
          508.95,
          503.6,
          503.05,
          505.15,
          504.4,
          503.05,
          504.2,
          516.2,
          515.1,
          510.65,
          490.9,
          500.3,
          507.2,
          517.3,
          521.6,
          520.25,
          516.15,
          509.7,
          515.15,
          517.1,
          514,
          525.3,
          545.25,
          540.25,
          547.15,
          565.75,
          578.25,
          580.55,
          602.65,
          586.95,
          592.3,
          596.15,
          581.35,
          576.85,
          580.75,
          570.8,
          570.9,
          553.6,
          579.15,
          599.35,
          608.85,
          600.6,
          581.1,
          597.3,
          598.95,
          590.2,
          598.1,
          586.25,
          593.7,
          593.95,
          593.85,
          589.05,
          581.35,
          570.3,
          565.55,
          572.95,
          579.15,
          556.3,
          532.2,
          541.2,
          546.3,
          539.6,
          532.8,
          525.7,
          521.75,
          525.85,
          524.2,
          522.85,
          529.3,
          522.9,
          527.2,
          529.95,
          528,
          529.25,
          523.65,
          507.75,
          522.5,
          521.5,
          517.3,
          520.8,
          528.25,
          532.2,
          541.6,
          543,
          545.25,
          522.45,
          536.15,
          539.35,
          540.75,
          526.45,
          530.2,
          530.85,
          522.6,
          527.55,
          534.3,
          544.3,
          540.85,
          536.75,
          558.85,
          552.45,
          559.95,
          558.75,
          568.5,
          572.55,
          568.4,
          561.75,
          560.4,
          549.65,
          536.35,
          528.2,
          520.65,
          530.95,
          526.8,
          526.1,
          525.75,
          519.8,
          523.6,
          534.9,
          532.9,
          529.5,
          532.05,
          532.7,
          536.45,
          546.8,
          540,
          545.15,
          540.85,
          539.35,
          542.5,
          536.75,
          528.65,
          538.75,
          539.6,
          536.4,
          534.05,
          528.75,
          535.1,
          531.2,
          524.95,
          525.65,
          522.65,
          525,
          523.95,
          526.1,
          529.6,
          525.3,
          536.25,
          529.65,
          530.05,
          530.05,
          525.45,
          541.15,
          538.45,
          525.75,
          546.7,
          548.3,
          544.05,
          540.55,
          567.9,
          567.15,
          561.65,
          565.15,
          580.2,
          574.4,
          598.7,
          607.9,
          599.25,
          622.2,
          620.85,
          623.15,
          637.05,
          634.05,
          626.35,
          622.95
         ]
        },
        {
         "mode": "lines",
         "name": "Prediction",
         "type": "scatter",
         "x": [
          "2021-08-20T00:00:00",
          "2021-08-23T00:00:00",
          "2021-08-24T00:00:00",
          "2021-08-25T00:00:00",
          "2021-08-26T00:00:00",
          "2021-08-27T00:00:00",
          "2021-08-30T00:00:00",
          "2021-08-31T00:00:00",
          "2021-09-01T00:00:00",
          "2021-09-02T00:00:00",
          "2021-09-03T00:00:00",
          "2021-09-06T00:00:00",
          "2021-09-07T00:00:00",
          "2021-09-08T00:00:00",
          "2021-09-09T00:00:00",
          "2021-09-13T00:00:00",
          "2021-09-14T00:00:00",
          "2021-09-15T00:00:00",
          "2021-09-16T00:00:00",
          "2021-09-17T00:00:00",
          "2021-09-20T00:00:00",
          "2021-09-21T00:00:00",
          "2021-09-22T00:00:00",
          "2021-09-23T00:00:00",
          "2021-09-24T00:00:00",
          "2021-09-27T00:00:00",
          "2021-09-28T00:00:00",
          "2021-09-29T00:00:00",
          "2021-09-30T00:00:00",
          "2021-10-01T00:00:00",
          "2021-10-04T00:00:00",
          "2021-10-05T00:00:00",
          "2021-10-06T00:00:00",
          "2021-10-07T00:00:00",
          "2021-10-08T00:00:00",
          "2021-10-11T00:00:00",
          "2021-10-12T00:00:00",
          "2021-10-13T00:00:00",
          "2021-10-14T00:00:00",
          "2021-10-18T00:00:00",
          "2021-10-19T00:00:00",
          "2021-10-20T00:00:00",
          "2021-10-21T00:00:00",
          "2021-10-22T00:00:00",
          "2021-10-25T00:00:00",
          "2021-10-26T00:00:00",
          "2021-10-27T00:00:00",
          "2021-10-28T00:00:00",
          "2021-10-29T00:00:00",
          "2021-11-01T00:00:00"
         ],
         "y": [
          678.4734497070312,
          683.5047607421875,
          688.662109375,
          698.7357788085938,
          705.9974365234375,
          715.078857421875,
          721.6513671875,
          724.7587890625,
          723.7620239257812,
          722.0307006835938,
          737.576171875,
          720.6633911132812,
          712.1063232421875,
          719.1156616210938,
          712.2427978515625,
          709.6572875976562,
          701.263427734375,
          693.04296875,
          691.5643310546875,
          701.6647338867188,
          701.233154296875,
          701.058837890625,
          700.1768798828125,
          698.0929565429688,
          696.8181762695312,
          693.8223876953125,
          689.8240356445312,
          689.1367797851562,
          693.7359619140625,
          691.4508666992188,
          688.198974609375,
          696.4418334960938,
          698.4056396484375,
          694.33740234375,
          696.0946044921875
         ]
        },
        {
         "mode": "lines",
         "name": "Ground Truth",
         "type": "scatter",
         "x": [
          "2021-08-20T00:00:00",
          "2021-08-23T00:00:00",
          "2021-08-24T00:00:00",
          "2021-08-25T00:00:00",
          "2021-08-26T00:00:00",
          "2021-08-27T00:00:00",
          "2021-08-30T00:00:00",
          "2021-08-31T00:00:00",
          "2021-09-01T00:00:00",
          "2021-09-02T00:00:00",
          "2021-09-03T00:00:00",
          "2021-09-06T00:00:00",
          "2021-09-07T00:00:00",
          "2021-09-08T00:00:00",
          "2021-09-09T00:00:00",
          "2021-09-13T00:00:00",
          "2021-09-14T00:00:00",
          "2021-09-15T00:00:00",
          "2021-09-16T00:00:00",
          "2021-09-17T00:00:00",
          "2021-09-20T00:00:00",
          "2021-09-21T00:00:00",
          "2021-09-22T00:00:00",
          "2021-09-23T00:00:00",
          "2021-09-24T00:00:00",
          "2021-09-27T00:00:00",
          "2021-09-28T00:00:00",
          "2021-09-29T00:00:00",
          "2021-09-30T00:00:00",
          "2021-10-01T00:00:00",
          "2021-10-04T00:00:00",
          "2021-10-05T00:00:00",
          "2021-10-06T00:00:00",
          "2021-10-07T00:00:00",
          "2021-10-08T00:00:00",
          "2021-10-11T00:00:00",
          "2021-10-12T00:00:00",
          "2021-10-13T00:00:00",
          "2021-10-14T00:00:00",
          "2021-10-18T00:00:00",
          "2021-10-19T00:00:00",
          "2021-10-20T00:00:00",
          "2021-10-21T00:00:00",
          "2021-10-22T00:00:00",
          "2021-10-25T00:00:00",
          "2021-10-26T00:00:00",
          "2021-10-27T00:00:00",
          "2021-10-28T00:00:00",
          "2021-10-29T00:00:00",
          "2021-11-01T00:00:00"
         ],
         "y": [
          613.7,
          622.65,
          620.1,
          612.45,
          586.9,
          595.15,
          620.45,
          664.05,
          666.4,
          666.5,
          658.45,
          654.6,
          670.55,
          667.85,
          686.15,
          693.3,
          694.2,
          725.5,
          718.6,
          728.15,
          724.95,
          726.65,
          726.75,
          726.8,
          739.4,
          722.55,
          696.15,
          694.1,
          688.3,
          675.9,
          681.4,
          699.25,
          691.4,
          692.5,
          695.5,
          690.85,
          686.35,
          689.9,
          685.8,
          680.6,
          681.1,
          708.45,
          696.05,
          694.5,
          691.1,
          696.2,
          702.35,
          689.75,
          685.35,
          712.5
         ]
        }
       ],
       "layout": {
        "template": {
         "data": {
          "bar": [
           {
            "error_x": {
             "color": "#2a3f5f"
            },
            "error_y": {
             "color": "#2a3f5f"
            },
            "marker": {
             "line": {
              "color": "#E5ECF6",
              "width": 0.5
             },
             "pattern": {
              "fillmode": "overlay",
              "size": 10,
              "solidity": 0.2
             }
            },
            "type": "bar"
           }
          ],
          "barpolar": [
           {
            "marker": {
             "line": {
              "color": "#E5ECF6",
              "width": 0.5
             },
             "pattern": {
              "fillmode": "overlay",
              "size": 10,
              "solidity": 0.2
             }
            },
            "type": "barpolar"
           }
          ],
          "carpet": [
           {
            "aaxis": {
             "endlinecolor": "#2a3f5f",
             "gridcolor": "white",
             "linecolor": "white",
             "minorgridcolor": "white",
             "startlinecolor": "#2a3f5f"
            },
            "baxis": {
             "endlinecolor": "#2a3f5f",
             "gridcolor": "white",
             "linecolor": "white",
             "minorgridcolor": "white",
             "startlinecolor": "#2a3f5f"
            },
            "type": "carpet"
           }
          ],
          "choropleth": [
           {
            "colorbar": {
             "outlinewidth": 0,
             "ticks": ""
            },
            "type": "choropleth"
           }
          ],
          "contour": [
           {
            "colorbar": {
             "outlinewidth": 0,
             "ticks": ""
            },
            "colorscale": [
             [
              0,
              "#0d0887"
             ],
             [
              0.1111111111111111,
              "#46039f"
             ],
             [
              0.2222222222222222,
              "#7201a8"
             ],
             [
              0.3333333333333333,
              "#9c179e"
             ],
             [
              0.4444444444444444,
              "#bd3786"
             ],
             [
              0.5555555555555556,
              "#d8576b"
             ],
             [
              0.6666666666666666,
              "#ed7953"
             ],
             [
              0.7777777777777778,
              "#fb9f3a"
             ],
             [
              0.8888888888888888,
              "#fdca26"
             ],
             [
              1,
              "#f0f921"
             ]
            ],
            "type": "contour"
           }
          ],
          "contourcarpet": [
           {
            "colorbar": {
             "outlinewidth": 0,
             "ticks": ""
            },
            "type": "contourcarpet"
           }
          ],
          "heatmap": [
           {
            "colorbar": {
             "outlinewidth": 0,
             "ticks": ""
            },
            "colorscale": [
             [
              0,
              "#0d0887"
             ],
             [
              0.1111111111111111,
              "#46039f"
             ],
             [
              0.2222222222222222,
              "#7201a8"
             ],
             [
              0.3333333333333333,
              "#9c179e"
             ],
             [
              0.4444444444444444,
              "#bd3786"
             ],
             [
              0.5555555555555556,
              "#d8576b"
             ],
             [
              0.6666666666666666,
              "#ed7953"
             ],
             [
              0.7777777777777778,
              "#fb9f3a"
             ],
             [
              0.8888888888888888,
              "#fdca26"
             ],
             [
              1,
              "#f0f921"
             ]
            ],
            "type": "heatmap"
           }
          ],
          "heatmapgl": [
           {
            "colorbar": {
             "outlinewidth": 0,
             "ticks": ""
            },
            "colorscale": [
             [
              0,
              "#0d0887"
             ],
             [
              0.1111111111111111,
              "#46039f"
             ],
             [
              0.2222222222222222,
              "#7201a8"
             ],
             [
              0.3333333333333333,
              "#9c179e"
             ],
             [
              0.4444444444444444,
              "#bd3786"
             ],
             [
              0.5555555555555556,
              "#d8576b"
             ],
             [
              0.6666666666666666,
              "#ed7953"
             ],
             [
              0.7777777777777778,
              "#fb9f3a"
             ],
             [
              0.8888888888888888,
              "#fdca26"
             ],
             [
              1,
              "#f0f921"
             ]
            ],
            "type": "heatmapgl"
           }
          ],
          "histogram": [
           {
            "marker": {
             "pattern": {
              "fillmode": "overlay",
              "size": 10,
              "solidity": 0.2
             }
            },
            "type": "histogram"
           }
          ],
          "histogram2d": [
           {
            "colorbar": {
             "outlinewidth": 0,
             "ticks": ""
            },
            "colorscale": [
             [
              0,
              "#0d0887"
             ],
             [
              0.1111111111111111,
              "#46039f"
             ],
             [
              0.2222222222222222,
              "#7201a8"
             ],
             [
              0.3333333333333333,
              "#9c179e"
             ],
             [
              0.4444444444444444,
              "#bd3786"
             ],
             [
              0.5555555555555556,
              "#d8576b"
             ],
             [
              0.6666666666666666,
              "#ed7953"
             ],
             [
              0.7777777777777778,
              "#fb9f3a"
             ],
             [
              0.8888888888888888,
              "#fdca26"
             ],
             [
              1,
              "#f0f921"
             ]
            ],
            "type": "histogram2d"
           }
          ],
          "histogram2dcontour": [
           {
            "colorbar": {
             "outlinewidth": 0,
             "ticks": ""
            },
            "colorscale": [
             [
              0,
              "#0d0887"
             ],
             [
              0.1111111111111111,
              "#46039f"
             ],
             [
              0.2222222222222222,
              "#7201a8"
             ],
             [
              0.3333333333333333,
              "#9c179e"
             ],
             [
              0.4444444444444444,
              "#bd3786"
             ],
             [
              0.5555555555555556,
              "#d8576b"
             ],
             [
              0.6666666666666666,
              "#ed7953"
             ],
             [
              0.7777777777777778,
              "#fb9f3a"
             ],
             [
              0.8888888888888888,
              "#fdca26"
             ],
             [
              1,
              "#f0f921"
             ]
            ],
            "type": "histogram2dcontour"
           }
          ],
          "mesh3d": [
           {
            "colorbar": {
             "outlinewidth": 0,
             "ticks": ""
            },
            "type": "mesh3d"
           }
          ],
          "parcoords": [
           {
            "line": {
             "colorbar": {
              "outlinewidth": 0,
              "ticks": ""
             }
            },
            "type": "parcoords"
           }
          ],
          "pie": [
           {
            "automargin": true,
            "type": "pie"
           }
          ],
          "scatter": [
           {
            "marker": {
             "colorbar": {
              "outlinewidth": 0,
              "ticks": ""
             }
            },
            "type": "scatter"
           }
          ],
          "scatter3d": [
           {
            "line": {
             "colorbar": {
              "outlinewidth": 0,
              "ticks": ""
             }
            },
            "marker": {
             "colorbar": {
              "outlinewidth": 0,
              "ticks": ""
             }
            },
            "type": "scatter3d"
           }
          ],
          "scattercarpet": [
           {
            "marker": {
             "colorbar": {
              "outlinewidth": 0,
              "ticks": ""
             }
            },
            "type": "scattercarpet"
           }
          ],
          "scattergeo": [
           {
            "marker": {
             "colorbar": {
              "outlinewidth": 0,
              "ticks": ""
             }
            },
            "type": "scattergeo"
           }
          ],
          "scattergl": [
           {
            "marker": {
             "colorbar": {
              "outlinewidth": 0,
              "ticks": ""
             }
            },
            "type": "scattergl"
           }
          ],
          "scattermapbox": [
           {
            "marker": {
             "colorbar": {
              "outlinewidth": 0,
              "ticks": ""
             }
            },
            "type": "scattermapbox"
           }
          ],
          "scatterpolar": [
           {
            "marker": {
             "colorbar": {
              "outlinewidth": 0,
              "ticks": ""
             }
            },
            "type": "scatterpolar"
           }
          ],
          "scatterpolargl": [
           {
            "marker": {
             "colorbar": {
              "outlinewidth": 0,
              "ticks": ""
             }
            },
            "type": "scatterpolargl"
           }
          ],
          "scatterternary": [
           {
            "marker": {
             "colorbar": {
              "outlinewidth": 0,
              "ticks": ""
             }
            },
            "type": "scatterternary"
           }
          ],
          "surface": [
           {
            "colorbar": {
             "outlinewidth": 0,
             "ticks": ""
            },
            "colorscale": [
             [
              0,
              "#0d0887"
             ],
             [
              0.1111111111111111,
              "#46039f"
             ],
             [
              0.2222222222222222,
              "#7201a8"
             ],
             [
              0.3333333333333333,
              "#9c179e"
             ],
             [
              0.4444444444444444,
              "#bd3786"
             ],
             [
              0.5555555555555556,
              "#d8576b"
             ],
             [
              0.6666666666666666,
              "#ed7953"
             ],
             [
              0.7777777777777778,
              "#fb9f3a"
             ],
             [
              0.8888888888888888,
              "#fdca26"
             ],
             [
              1,
              "#f0f921"
             ]
            ],
            "type": "surface"
           }
          ],
          "table": [
           {
            "cells": {
             "fill": {
              "color": "#EBF0F8"
             },
             "line": {
              "color": "white"
             }
            },
            "header": {
             "fill": {
              "color": "#C8D4E3"
             },
             "line": {
              "color": "white"
             }
            },
            "type": "table"
           }
          ]
         },
         "layout": {
          "annotationdefaults": {
           "arrowcolor": "#2a3f5f",
           "arrowhead": 0,
           "arrowwidth": 1
          },
          "autotypenumbers": "strict",
          "coloraxis": {
           "colorbar": {
            "outlinewidth": 0,
            "ticks": ""
           }
          },
          "colorscale": {
           "diverging": [
            [
             0,
             "#8e0152"
            ],
            [
             0.1,
             "#c51b7d"
            ],
            [
             0.2,
             "#de77ae"
            ],
            [
             0.3,
             "#f1b6da"
            ],
            [
             0.4,
             "#fde0ef"
            ],
            [
             0.5,
             "#f7f7f7"
            ],
            [
             0.6,
             "#e6f5d0"
            ],
            [
             0.7,
             "#b8e186"
            ],
            [
             0.8,
             "#7fbc41"
            ],
            [
             0.9,
             "#4d9221"
            ],
            [
             1,
             "#276419"
            ]
           ],
           "sequential": [
            [
             0,
             "#0d0887"
            ],
            [
             0.1111111111111111,
             "#46039f"
            ],
            [
             0.2222222222222222,
             "#7201a8"
            ],
            [
             0.3333333333333333,
             "#9c179e"
            ],
            [
             0.4444444444444444,
             "#bd3786"
            ],
            [
             0.5555555555555556,
             "#d8576b"
            ],
            [
             0.6666666666666666,
             "#ed7953"
            ],
            [
             0.7777777777777778,
             "#fb9f3a"
            ],
            [
             0.8888888888888888,
             "#fdca26"
            ],
            [
             1,
             "#f0f921"
            ]
           ],
           "sequentialminus": [
            [
             0,
             "#0d0887"
            ],
            [
             0.1111111111111111,
             "#46039f"
            ],
            [
             0.2222222222222222,
             "#7201a8"
            ],
            [
             0.3333333333333333,
             "#9c179e"
            ],
            [
             0.4444444444444444,
             "#bd3786"
            ],
            [
             0.5555555555555556,
             "#d8576b"
            ],
            [
             0.6666666666666666,
             "#ed7953"
            ],
            [
             0.7777777777777778,
             "#fb9f3a"
            ],
            [
             0.8888888888888888,
             "#fdca26"
            ],
            [
             1,
             "#f0f921"
            ]
           ]
          },
          "colorway": [
           "#636efa",
           "#EF553B",
           "#00cc96",
           "#ab63fa",
           "#FFA15A",
           "#19d3f3",
           "#FF6692",
           "#B6E880",
           "#FF97FF",
           "#FECB52"
          ],
          "font": {
           "color": "#2a3f5f"
          },
          "geo": {
           "bgcolor": "white",
           "lakecolor": "white",
           "landcolor": "#E5ECF6",
           "showlakes": true,
           "showland": true,
           "subunitcolor": "white"
          },
          "hoverlabel": {
           "align": "left"
          },
          "hovermode": "closest",
          "mapbox": {
           "style": "light"
          },
          "paper_bgcolor": "white",
          "plot_bgcolor": "#E5ECF6",
          "polar": {
           "angularaxis": {
            "gridcolor": "white",
            "linecolor": "white",
            "ticks": ""
           },
           "bgcolor": "#E5ECF6",
           "radialaxis": {
            "gridcolor": "white",
            "linecolor": "white",
            "ticks": ""
           }
          },
          "scene": {
           "xaxis": {
            "backgroundcolor": "#E5ECF6",
            "gridcolor": "white",
            "gridwidth": 2,
            "linecolor": "white",
            "showbackground": true,
            "ticks": "",
            "zerolinecolor": "white"
           },
           "yaxis": {
            "backgroundcolor": "#E5ECF6",
            "gridcolor": "white",
            "gridwidth": 2,
            "linecolor": "white",
            "showbackground": true,
            "ticks": "",
            "zerolinecolor": "white"
           },
           "zaxis": {
            "backgroundcolor": "#E5ECF6",
            "gridcolor": "white",
            "gridwidth": 2,
            "linecolor": "white",
            "showbackground": true,
            "ticks": "",
            "zerolinecolor": "white"
           }
          },
          "shapedefaults": {
           "line": {
            "color": "#2a3f5f"
           }
          },
          "ternary": {
           "aaxis": {
            "gridcolor": "white",
            "linecolor": "white",
            "ticks": ""
           },
           "baxis": {
            "gridcolor": "white",
            "linecolor": "white",
            "ticks": ""
           },
           "bgcolor": "#E5ECF6",
           "caxis": {
            "gridcolor": "white",
            "linecolor": "white",
            "ticks": ""
           }
          },
          "title": {
           "x": 0.05
          },
          "xaxis": {
           "automargin": true,
           "gridcolor": "white",
           "linecolor": "white",
           "ticks": "",
           "title": {
            "standoff": 15
           },
           "zerolinecolor": "white",
           "zerolinewidth": 2
          },
          "yaxis": {
           "automargin": true,
           "gridcolor": "white",
           "linecolor": "white",
           "ticks": "",
           "title": {
            "standoff": 15
           },
           "zerolinecolor": "white",
           "zerolinewidth": 2
          }
         }
        },
        "title": {
         "text": "BHARTIARTL Stock"
        },
        "xaxis": {
         "title": {
          "text": "Date"
         }
        },
        "yaxis": {
         "title": {
          "text": "Close"
         }
        }
       }
      }
     },
     "metadata": {},
     "output_type": "display_data"
    },
    {
     "data": {
      "image/png": "[encoded data removed]",
      "text/plain": [
       "<IPython.core.display.Image object>"
      ]
     },
     "execution_count": 7,
     "metadata": {},
     "output_type": "execute_result"
    }
   ],
   "source": [
    "prediction = model.predict(test_generator)\n",
    "from IPython.display import Image\n",
    "import plotly.graph_objects as go\n",
    "close_train = close_train.reshape((-1))\n",
    "close_test = close_test.reshape((-1))\n",
    "prediction = prediction.reshape((-1))\n",
    "print(len(close_test))\n",
    "trace1 = go.Scatter(\n",
    "    x = date_train,\n",
    "    y = close_train,\n",
    "    mode = 'lines',\n",
    "    name = 'Data'\n",
    ")\n",
    "trace2 = go.Scatter(\n",
    "    x = date_test,\n",
    "    y = prediction,\n",
    "    mode = 'lines',\n",
    "    name = 'Prediction'\n",
    ")\n",
    "trace3 = go.Scatter(\n",
    "    x = date_test,\n",
    "    y = close_test,\n",
    "    mode='lines',\n",
    "    name = 'Ground Truth'\n",
    ")\n",
    "layout = go.Layout(\n",
    "    title = stock+\" Stock\",\n",
    "    xaxis = {'title' : \"Date\"},\n",
    "    yaxis = {'title' : \"Close\"}\n",
    ")\n",
    "fig = go.Figure(data=[trace1, trace2, trace3], layout=layout)\n",
    "fig.show()\n",
    "img_bytes=fig.to_image(format=\"png\")\n",
    "Image(img_bytes)"
   ]
  },
  {
   "cell_type": "code",
   "execution_count": 8,
   "id": "25a01805-51ce-43b1-b568-93f323425b3b",
   "metadata": {},
   "outputs": [
    {
     "data": {
      "text/plain": [
       "array([712.5       , 695.04779053, 696.77856445, 695.30499268,\n",
       "       691.35192871, 688.66040039, 696.82330322, 696.73022461,\n",
       "       692.87670898, 689.22460938, 687.16064453, 696.62213135,\n",
       "       695.27972412, 691.65802002, 688.12963867, 693.09515381,\n",
       "       694.1496582 , 690.8894043 , 687.38269043, 687.66113281,\n",
       "       694.26483154, 692.64086914, 689.08703613, 685.53704834,\n",
       "       688.37286377, 692.32800293, 692.91064453, 688.95574951,\n",
       "       685.94885254, 686.02191162, 690.81079102])"
      ]
     },
     "execution_count": 8,
     "metadata": {},
     "output_type": "execute_result"
    }
   ],
   "source": [
    "close_data = close_data.reshape((-1))\n",
    "\n",
    "def predict(num_prediction, model):\n",
    "    prediction_list = close_data[-look_back:]\n",
    "    \n",
    "    for _ in range(num_prediction):\n",
    "        x = prediction_list[-look_back:]\n",
    "        x = x.reshape((1, look_back, 1))\n",
    "        out = model.predict(x)[0][0]\n",
    "        prediction_list = np.append(prediction_list, out)\n",
    "    prediction_list = prediction_list[look_back-1:]\n",
    "        \n",
    "    return prediction_list\n",
    "    \n",
    "def predict_dates(num_prediction):\n",
    "    last_date = df['Date'].values[-1]\n",
    "    prediction_dates = pd.date_range(last_date, periods=num_prediction+1).tolist()\n",
    "    return prediction_dates\n",
    "\n",
    "num_prediction = 30\n",
    "forecast = predict(num_prediction, model)\n",
    "forecast_dates = predict_dates(num_prediction)\n",
    "forecast"
   ]
  },
  {
   "cell_type": "code",
   "execution_count": 9,
   "id": "d4037e16-88cc-496f-9dcf-01a5a7f0f844",
   "metadata": {},
   "outputs": [
    {
     "data": {
      "application/vnd.plotly.v1+json": {
       "config": {
        "plotlyServerURL": "https://plot.ly"
       },
       "data": [
        {
         "mode": "lines",
         "name": "Data",
         "type": "scatter",
         "x": [
          "2020-11-02T00:00:00",
          "2020-11-03T00:00:00",
          "2020-11-04T00:00:00",
          "2020-11-05T00:00:00",
          "2020-11-06T00:00:00",
          "2020-11-09T00:00:00",
          "2020-11-10T00:00:00",
          "2020-11-11T00:00:00",
          "2020-11-12T00:00:00",
          "2020-11-13T00:00:00",
          "2020-11-14T00:00:00",
          "2020-11-17T00:00:00",
          "2020-11-18T00:00:00",
          "2020-11-19T00:00:00",
          "2020-11-20T00:00:00",
          "2020-11-23T00:00:00",
          "2020-11-24T00:00:00",
          "2020-11-25T00:00:00",
          "2020-11-26T00:00:00",
          "2020-11-27T00:00:00",
          "2020-12-01T00:00:00",
          "2020-12-02T00:00:00",
          "2020-12-03T00:00:00",
          "2020-12-04T00:00:00",
          "2020-12-07T00:00:00",
          "2020-12-08T00:00:00",
          "2020-12-09T00:00:00",
          "2020-12-10T00:00:00",
          "2020-12-11T00:00:00",
          "2020-12-14T00:00:00",
          "2020-12-15T00:00:00",
          "2020-12-16T00:00:00",
          "2020-12-17T00:00:00",
          "2020-12-18T00:00:00",
          "2020-12-21T00:00:00",
          "2020-12-22T00:00:00",
          "2020-12-23T00:00:00",
          "2020-12-24T00:00:00",
          "2020-12-28T00:00:00",
          "2020-12-29T00:00:00",
          "2020-12-30T00:00:00",
          "2020-12-31T00:00:00",
          "2021-01-01T00:00:00",
          "2021-01-04T00:00:00",
          "2021-01-05T00:00:00",
          "2021-01-06T00:00:00",
          "2021-01-07T00:00:00",
          "2021-01-08T00:00:00",
          "2021-01-11T00:00:00",
          "2021-01-12T00:00:00",
          "2021-01-13T00:00:00",
          "2021-01-14T00:00:00",
          "2021-01-15T00:00:00",
          "2021-01-18T00:00:00",
          "2021-01-19T00:00:00",
          "2021-01-20T00:00:00",
          "2021-01-21T00:00:00",
          "2021-01-22T00:00:00",
          "2021-01-25T00:00:00",
          "2021-01-27T00:00:00",
          "2021-01-28T00:00:00",
          "2021-01-29T00:00:00",
          "2021-02-01T00:00:00",
          "2021-02-02T00:00:00",
          "2021-02-03T00:00:00",
          "2021-02-04T00:00:00",
          "2021-02-05T00:00:00",
          "2021-02-08T00:00:00",
          "2021-02-09T00:00:00",
          "2021-02-10T00:00:00",
          "2021-02-11T00:00:00",
          "2021-02-12T00:00:00",
          "2021-02-15T00:00:00",
          "2021-02-16T00:00:00",
          "2021-02-17T00:00:00",
          "2021-02-18T00:00:00",
          "2021-02-19T00:00:00",
          "2021-02-22T00:00:00",
          "2021-02-23T00:00:00",
          "2021-02-24T00:00:00",
          "2021-02-25T00:00:00",
          "2021-02-26T00:00:00",
          "2021-03-01T00:00:00",
          "2021-03-02T00:00:00",
          "2021-03-03T00:00:00",
          "2021-03-04T00:00:00",
          "2021-03-05T00:00:00",
          "2021-03-08T00:00:00",
          "2021-03-09T00:00:00",
          "2021-03-10T00:00:00",
          "2021-03-12T00:00:00",
          "2021-03-15T00:00:00",
          "2021-03-16T00:00:00",
          "2021-03-17T00:00:00",
          "2021-03-18T00:00:00",
          "2021-03-19T00:00:00",
          "2021-03-22T00:00:00",
          "2021-03-23T00:00:00",
          "2021-03-24T00:00:00",
          "2021-03-25T00:00:00",
          "2021-03-26T00:00:00",
          "2021-03-30T00:00:00",
          "2021-03-31T00:00:00",
          "2021-04-01T00:00:00",
          "2021-04-05T00:00:00",
          "2021-04-06T00:00:00",
          "2021-04-07T00:00:00",
          "2021-04-08T00:00:00",
          "2021-04-09T00:00:00",
          "2021-04-12T00:00:00",
          "2021-04-13T00:00:00",
          "2021-04-15T00:00:00",
          "2021-04-16T00:00:00",
          "2021-04-19T00:00:00",
          "2021-04-20T00:00:00",
          "2021-04-22T00:00:00",
          "2021-04-23T00:00:00",
          "2021-04-26T00:00:00",
          "2021-04-27T00:00:00",
          "2021-04-28T00:00:00",
          "2021-04-29T00:00:00",
          "2021-04-30T00:00:00",
          "2021-05-03T00:00:00",
          "2021-05-04T00:00:00",
          "2021-05-05T00:00:00",
          "2021-05-06T00:00:00",
          "2021-05-07T00:00:00",
          "2021-05-10T00:00:00",
          "2021-05-11T00:00:00",
          "2021-05-12T00:00:00",
          "2021-05-14T00:00:00",
          "2021-05-17T00:00:00",
          "2021-05-18T00:00:00",
          "2021-05-19T00:00:00",
          "2021-05-20T00:00:00",
          "2021-05-21T00:00:00",
          "2021-05-24T00:00:00",
          "2021-05-25T00:00:00",
          "2021-05-26T00:00:00",
          "2021-05-27T00:00:00",
          "2021-05-28T00:00:00",
          "2021-05-31T00:00:00",
          "2021-06-01T00:00:00",
          "2021-06-02T00:00:00",
          "2021-06-03T00:00:00",
          "2021-06-04T00:00:00",
          "2021-06-07T00:00:00",
          "2021-06-08T00:00:00",
          "2021-06-09T00:00:00",
          "2021-06-10T00:00:00",
          "2021-06-11T00:00:00",
          "2021-06-14T00:00:00",
          "2021-06-15T00:00:00",
          "2021-06-16T00:00:00",
          "2021-06-17T00:00:00",
          "2021-06-18T00:00:00",
          "2021-06-21T00:00:00",
          "2021-06-22T00:00:00",
          "2021-06-23T00:00:00",
          "2021-06-24T00:00:00",
          "2021-06-25T00:00:00",
          "2021-06-28T00:00:00",
          "2021-06-29T00:00:00",
          "2021-06-30T00:00:00",
          "2021-07-01T00:00:00",
          "2021-07-02T00:00:00",
          "2021-07-05T00:00:00",
          "2021-07-06T00:00:00",
          "2021-07-07T00:00:00",
          "2021-07-08T00:00:00",
          "2021-07-09T00:00:00",
          "2021-07-12T00:00:00",
          "2021-07-13T00:00:00",
          "2021-07-14T00:00:00",
          "2021-07-15T00:00:00",
          "2021-07-16T00:00:00",
          "2021-07-19T00:00:00",
          "2021-07-20T00:00:00",
          "2021-07-22T00:00:00",
          "2021-07-23T00:00:00",
          "2021-07-26T00:00:00",
          "2021-07-27T00:00:00",
          "2021-07-28T00:00:00",
          "2021-07-29T00:00:00",
          "2021-07-30T00:00:00",
          "2021-08-02T00:00:00",
          "2021-08-03T00:00:00",
          "2021-08-04T00:00:00",
          "2021-08-05T00:00:00",
          "2021-08-06T00:00:00",
          "2021-08-09T00:00:00",
          "2021-08-10T00:00:00",
          "2021-08-11T00:00:00",
          "2021-08-12T00:00:00",
          "2021-08-13T00:00:00",
          "2021-08-16T00:00:00",
          "2021-08-17T00:00:00",
          "2021-08-18T00:00:00"
         ],
         "y": [
          457.4,
          454.6,
          453.05,
          457.3,
          449.9,
          471.8,
          466.4,
          478.6,
          479.85,
          475.75,
          481.5,
          484.55,
          478.4,
          468.55,
          483.7,
          477.25,
          474.25,
          464.1,
          468.4,
          463.25,
          479.45,
          484.9,
          479.9,
          493.75,
          508.95,
          503.6,
          503.05,
          505.15,
          504.4,
          503.05,
          504.2,
          516.2,
          515.1,
          510.65,
          490.9,
          500.3,
          507.2,
          517.3,
          521.6,
          520.25,
          516.15,
          509.7,
          515.15,
          517.1,
          514,
          525.3,
          545.25,
          540.25,
          547.15,
          565.75,
          578.25,
          580.55,
          602.65,
          586.95,
          592.3,
          596.15,
          581.35,
          576.85,
          580.75,
          570.8,
          570.9,
          553.6,
          579.15,
          599.35,
          608.85,
          600.6,
          581.1,
          597.3,
          598.95,
          590.2,
          598.1,
          586.25,
          593.7,
          593.95,
          593.85,
          589.05,
          581.35,
          570.3,
          565.55,
          572.95,
          579.15,
          556.3,
          532.2,
          541.2,
          546.3,
          539.6,
          532.8,
          525.7,
          521.75,
          525.85,
          524.2,
          522.85,
          529.3,
          522.9,
          527.2,
          529.95,
          528,
          529.25,
          523.65,
          507.75,
          522.5,
          521.5,
          517.3,
          520.8,
          528.25,
          532.2,
          541.6,
          543,
          545.25,
          522.45,
          536.15,
          539.35,
          540.75,
          526.45,
          530.2,
          530.85,
          522.6,
          527.55,
          534.3,
          544.3,
          540.85,
          536.75,
          558.85,
          552.45,
          559.95,
          558.75,
          568.5,
          572.55,
          568.4,
          561.75,
          560.4,
          549.65,
          536.35,
          528.2,
          520.65,
          530.95,
          526.8,
          526.1,
          525.75,
          519.8,
          523.6,
          534.9,
          532.9,
          529.5,
          532.05,
          532.7,
          536.45,
          546.8,
          540,
          545.15,
          540.85,
          539.35,
          542.5,
          536.75,
          528.65,
          538.75,
          539.6,
          536.4,
          534.05,
          528.75,
          535.1,
          531.2,
          524.95,
          525.65,
          522.65,
          525,
          523.95,
          526.1,
          529.6,
          525.3,
          536.25,
          529.65,
          530.05,
          530.05,
          525.45,
          541.15,
          538.45,
          525.75,
          546.7,
          548.3,
          544.05,
          540.55,
          567.9,
          567.15,
          561.65,
          565.15,
          580.2,
          574.4,
          598.7,
          607.9,
          599.25,
          622.2,
          620.85,
          623.15,
          637.05,
          634.05,
          626.35,
          622.95
         ]
        },
        {
         "mode": "lines",
         "name": "Prediction",
         "type": "scatter",
         "x": [
          "2021-08-20T00:00:00",
          "2021-08-23T00:00:00",
          "2021-08-24T00:00:00",
          "2021-08-25T00:00:00",
          "2021-08-26T00:00:00",
          "2021-08-27T00:00:00",
          "2021-08-30T00:00:00",
          "2021-08-31T00:00:00",
          "2021-09-01T00:00:00",
          "2021-09-02T00:00:00",
          "2021-09-03T00:00:00",
          "2021-09-06T00:00:00",
          "2021-09-07T00:00:00",
          "2021-09-08T00:00:00",
          "2021-09-09T00:00:00",
          "2021-09-13T00:00:00",
          "2021-09-14T00:00:00",
          "2021-09-15T00:00:00",
          "2021-09-16T00:00:00",
          "2021-09-17T00:00:00",
          "2021-09-20T00:00:00",
          "2021-09-21T00:00:00",
          "2021-09-22T00:00:00",
          "2021-09-23T00:00:00",
          "2021-09-24T00:00:00",
          "2021-09-27T00:00:00",
          "2021-09-28T00:00:00",
          "2021-09-29T00:00:00",
          "2021-09-30T00:00:00",
          "2021-10-01T00:00:00",
          "2021-10-04T00:00:00",
          "2021-10-05T00:00:00",
          "2021-10-06T00:00:00",
          "2021-10-07T00:00:00",
          "2021-10-08T00:00:00",
          "2021-10-11T00:00:00",
          "2021-10-12T00:00:00",
          "2021-10-13T00:00:00",
          "2021-10-14T00:00:00",
          "2021-10-18T00:00:00",
          "2021-10-19T00:00:00",
          "2021-10-20T00:00:00",
          "2021-10-21T00:00:00",
          "2021-10-22T00:00:00",
          "2021-10-25T00:00:00",
          "2021-10-26T00:00:00",
          "2021-10-27T00:00:00",
          "2021-10-28T00:00:00",
          "2021-10-29T00:00:00",
          "2021-11-01T00:00:00"
         ],
         "y": [
          678.4734497070312,
          683.5047607421875,
          688.662109375,
          698.7357788085938,
          705.9974365234375,
          715.078857421875,
          721.6513671875,
          724.7587890625,
          723.7620239257812,
          722.0307006835938,
          737.576171875,
          720.6633911132812,
          712.1063232421875,
          719.1156616210938,
          712.2427978515625,
          709.6572875976562,
          701.263427734375,
          693.04296875,
          691.5643310546875,
          701.6647338867188,
          701.233154296875,
          701.058837890625,
          700.1768798828125,
          698.0929565429688,
          696.8181762695312,
          693.8223876953125,
          689.8240356445312,
          689.1367797851562,
          693.7359619140625,
          691.4508666992188,
          688.198974609375,
          696.4418334960938,
          698.4056396484375,
          694.33740234375,
          696.0946044921875
         ]
        },
        {
         "mode": "lines",
         "name": "Ground Truth",
         "type": "scatter",
         "x": [
          "2021-08-20T00:00:00",
          "2021-08-23T00:00:00",
          "2021-08-24T00:00:00",
          "2021-08-25T00:00:00",
          "2021-08-26T00:00:00",
          "2021-08-27T00:00:00",
          "2021-08-30T00:00:00",
          "2021-08-31T00:00:00",
          "2021-09-01T00:00:00",
          "2021-09-02T00:00:00",
          "2021-09-03T00:00:00",
          "2021-09-06T00:00:00",
          "2021-09-07T00:00:00",
          "2021-09-08T00:00:00",
          "2021-09-09T00:00:00",
          "2021-09-13T00:00:00",
          "2021-09-14T00:00:00",
          "2021-09-15T00:00:00",
          "2021-09-16T00:00:00",
          "2021-09-17T00:00:00",
          "2021-09-20T00:00:00",
          "2021-09-21T00:00:00",
          "2021-09-22T00:00:00",
          "2021-09-23T00:00:00",
          "2021-09-24T00:00:00",
          "2021-09-27T00:00:00",
          "2021-09-28T00:00:00",
          "2021-09-29T00:00:00",
          "2021-09-30T00:00:00",
          "2021-10-01T00:00:00",
          "2021-10-04T00:00:00",
          "2021-10-05T00:00:00",
          "2021-10-06T00:00:00",
          "2021-10-07T00:00:00",
          "2021-10-08T00:00:00",
          "2021-10-11T00:00:00",
          "2021-10-12T00:00:00",
          "2021-10-13T00:00:00",
          "2021-10-14T00:00:00",
          "2021-10-18T00:00:00",
          "2021-10-19T00:00:00",
          "2021-10-20T00:00:00",
          "2021-10-21T00:00:00",
          "2021-10-22T00:00:00",
          "2021-10-25T00:00:00",
          "2021-10-26T00:00:00",
          "2021-10-27T00:00:00",
          "2021-10-28T00:00:00",
          "2021-10-29T00:00:00",
          "2021-11-01T00:00:00"
         ],
         "y": [
          613.7,
          622.65,
          620.1,
          612.45,
          586.9,
          595.15,
          620.45,
          664.05,
          666.4,
          666.5,
          658.45,
          654.6,
          670.55,
          667.85,
          686.15,
          693.3,
          694.2,
          725.5,
          718.6,
          728.15,
          724.95,
          726.65,
          726.75,
          726.8,
          739.4,
          722.55,
          696.15,
          694.1,
          688.3,
          675.9,
          681.4,
          699.25,
          691.4,
          692.5,
          695.5,
          690.85,
          686.35,
          689.9,
          685.8,
          680.6,
          681.1,
          708.45,
          696.05,
          694.5,
          691.1,
          696.2,
          702.35,
          689.75,
          685.35,
          712.5
         ]
        },
        {
         "mode": "lines",
         "name": "Forecasted",
         "type": "scatter",
         "x": [
          "2021-11-01T00:00:00",
          "2021-11-02T00:00:00",
          "2021-11-03T00:00:00",
          "2021-11-04T00:00:00",
          "2021-11-05T00:00:00",
          "2021-11-06T00:00:00",
          "2021-11-07T00:00:00",
          "2021-11-08T00:00:00",
          "2021-11-09T00:00:00",
          "2021-11-10T00:00:00",
          "2021-11-11T00:00:00",
          "2021-11-12T00:00:00",
          "2021-11-13T00:00:00",
          "2021-11-14T00:00:00",
          "2021-11-15T00:00:00",
          "2021-11-16T00:00:00",
          "2021-11-17T00:00:00",
          "2021-11-18T00:00:00",
          "2021-11-19T00:00:00",
          "2021-11-20T00:00:00",
          "2021-11-21T00:00:00",
          "2021-11-22T00:00:00",
          "2021-11-23T00:00:00",
          "2021-11-24T00:00:00",
          "2021-11-25T00:00:00",
          "2021-11-26T00:00:00",
          "2021-11-27T00:00:00",
          "2021-11-28T00:00:00",
          "2021-11-29T00:00:00",
          "2021-11-30T00:00:00",
          "2021-12-01T00:00:00"
         ],
         "y": [
          712.5,
          695.0477905273438,
          696.778564453125,
          695.3049926757812,
          691.3519287109375,
          688.660400390625,
          696.8233032226562,
          696.730224609375,
          692.876708984375,
          689.224609375,
          687.16064453125,
          696.6221313476562,
          695.2797241210938,
          691.6580200195312,
          688.129638671875,
          693.0951538085938,
          694.149658203125,
          690.889404296875,
          687.3826904296875,
          687.6611328125,
          694.2648315429688,
          692.640869140625,
          689.0870361328125,
          685.5370483398438,
          688.3728637695312,
          692.3280029296875,
          692.91064453125,
          688.9557495117188,
          685.9488525390625,
          686.0219116210938,
          690.810791015625
         ]
        }
       ],
       "layout": {
        "template": {
         "data": {
          "bar": [
           {
            "error_x": {
             "color": "#2a3f5f"
            },
            "error_y": {
             "color": "#2a3f5f"
            },
            "marker": {
             "line": {
              "color": "#E5ECF6",
              "width": 0.5
             },
             "pattern": {
              "fillmode": "overlay",
              "size": 10,
              "solidity": 0.2
             }
            },
            "type": "bar"
           }
          ],
          "barpolar": [
           {
            "marker": {
             "line": {
              "color": "#E5ECF6",
              "width": 0.5
             },
             "pattern": {
              "fillmode": "overlay",
              "size": 10,
              "solidity": 0.2
             }
            },
            "type": "barpolar"
           }
          ],
          "carpet": [
           {
            "aaxis": {
             "endlinecolor": "#2a3f5f",
             "gridcolor": "white",
             "linecolor": "white",
             "minorgridcolor": "white",
             "startlinecolor": "#2a3f5f"
            },
            "baxis": {
             "endlinecolor": "#2a3f5f",
             "gridcolor": "white",
             "linecolor": "white",
             "minorgridcolor": "white",
             "startlinecolor": "#2a3f5f"
            },
            "type": "carpet"
           }
          ],
          "choropleth": [
           {
            "colorbar": {
             "outlinewidth": 0,
             "ticks": ""
            },
            "type": "choropleth"
           }
          ],
          "contour": [
           {
            "colorbar": {
             "outlinewidth": 0,
             "ticks": ""
            },
            "colorscale": [
             [
              0,
              "#0d0887"
             ],
             [
              0.1111111111111111,
              "#46039f"
             ],
             [
              0.2222222222222222,
              "#7201a8"
             ],
             [
              0.3333333333333333,
              "#9c179e"
             ],
             [
              0.4444444444444444,
              "#bd3786"
             ],
             [
              0.5555555555555556,
              "#d8576b"
             ],
             [
              0.6666666666666666,
              "#ed7953"
             ],
             [
              0.7777777777777778,
              "#fb9f3a"
             ],
             [
              0.8888888888888888,
              "#fdca26"
             ],
             [
              1,
              "#f0f921"
             ]
            ],
            "type": "contour"
           }
          ],
          "contourcarpet": [
           {
            "colorbar": {
             "outlinewidth": 0,
             "ticks": ""
            },
            "type": "contourcarpet"
           }
          ],
          "heatmap": [
           {
            "colorbar": {
             "outlinewidth": 0,
             "ticks": ""
            },
            "colorscale": [
             [
              0,
              "#0d0887"
             ],
             [
              0.1111111111111111,
              "#46039f"
             ],
             [
              0.2222222222222222,
              "#7201a8"
             ],
             [
              0.3333333333333333,
              "#9c179e"
             ],
             [
              0.4444444444444444,
              "#bd3786"
             ],
             [
              0.5555555555555556,
              "#d8576b"
             ],
             [
              0.6666666666666666,
              "#ed7953"
             ],
             [
              0.7777777777777778,
              "#fb9f3a"
             ],
             [
              0.8888888888888888,
              "#fdca26"
             ],
             [
              1,
              "#f0f921"
             ]
            ],
            "type": "heatmap"
           }
          ],
          "heatmapgl": [
           {
            "colorbar": {
             "outlinewidth": 0,
             "ticks": ""
            },
            "colorscale": [
             [
              0,
              "#0d0887"
             ],
             [
              0.1111111111111111,
              "#46039f"
             ],
             [
              0.2222222222222222,
              "#7201a8"
             ],
             [
              0.3333333333333333,
              "#9c179e"
             ],
             [
              0.4444444444444444,
              "#bd3786"
             ],
             [
              0.5555555555555556,
              "#d8576b"
             ],
             [
              0.6666666666666666,
              "#ed7953"
             ],
             [
              0.7777777777777778,
              "#fb9f3a"
             ],
             [
              0.8888888888888888,
              "#fdca26"
             ],
             [
              1,
              "#f0f921"
             ]
            ],
            "type": "heatmapgl"
           }
          ],
          "histogram": [
           {
            "marker": {
             "pattern": {
              "fillmode": "overlay",
              "size": 10,
              "solidity": 0.2
             }
            },
            "type": "histogram"
           }
          ],
          "histogram2d": [
           {
            "colorbar": {
             "outlinewidth": 0,
             "ticks": ""
            },
            "colorscale": [
             [
              0,
              "#0d0887"
             ],
             [
              0.1111111111111111,
              "#46039f"
             ],
             [
              0.2222222222222222,
              "#7201a8"
             ],
             [
              0.3333333333333333,
              "#9c179e"
             ],
             [
              0.4444444444444444,
              "#bd3786"
             ],
             [
              0.5555555555555556,
              "#d8576b"
             ],
             [
              0.6666666666666666,
              "#ed7953"
             ],
             [
              0.7777777777777778,
              "#fb9f3a"
             ],
             [
              0.8888888888888888,
              "#fdca26"
             ],
             [
              1,
              "#f0f921"
             ]
            ],
            "type": "histogram2d"
           }
          ],
          "histogram2dcontour": [
           {
            "colorbar": {
             "outlinewidth": 0,
             "ticks": ""
            },
            "colorscale": [
             [
              0,
              "#0d0887"
             ],
             [
              0.1111111111111111,
              "#46039f"
             ],
             [
              0.2222222222222222,
              "#7201a8"
             ],
             [
              0.3333333333333333,
              "#9c179e"
             ],
             [
              0.4444444444444444,
              "#bd3786"
             ],
             [
              0.5555555555555556,
              "#d8576b"
             ],
             [
              0.6666666666666666,
              "#ed7953"
             ],
             [
              0.7777777777777778,
              "#fb9f3a"
             ],
             [
              0.8888888888888888,
              "#fdca26"
             ],
             [
              1,
              "#f0f921"
             ]
            ],
            "type": "histogram2dcontour"
           }
          ],
          "mesh3d": [
           {
            "colorbar": {
             "outlinewidth": 0,
             "ticks": ""
            },
            "type": "mesh3d"
           }
          ],
          "parcoords": [
           {
            "line": {
             "colorbar": {
              "outlinewidth": 0,
              "ticks": ""
             }
            },
            "type": "parcoords"
           }
          ],
          "pie": [
           {
            "automargin": true,
            "type": "pie"
           }
          ],
          "scatter": [
           {
            "marker": {
             "colorbar": {
              "outlinewidth": 0,
              "ticks": ""
             }
            },
            "type": "scatter"
           }
          ],
          "scatter3d": [
           {
            "line": {
             "colorbar": {
              "outlinewidth": 0,
              "ticks": ""
             }
            },
            "marker": {
             "colorbar": {
              "outlinewidth": 0,
              "ticks": ""
             }
            },
            "type": "scatter3d"
           }
          ],
          "scattercarpet": [
           {
            "marker": {
             "colorbar": {
              "outlinewidth": 0,
              "ticks": ""
             }
            },
            "type": "scattercarpet"
           }
          ],
          "scattergeo": [
           {
            "marker": {
             "colorbar": {
              "outlinewidth": 0,
              "ticks": ""
             }
            },
            "type": "scattergeo"
           }
          ],
          "scattergl": [
           {
            "marker": {
             "colorbar": {
              "outlinewidth": 0,
              "ticks": ""
             }
            },
            "type": "scattergl"
           }
          ],
          "scattermapbox": [
           {
            "marker": {
             "colorbar": {
              "outlinewidth": 0,
              "ticks": ""
             }
            },
            "type": "scattermapbox"
           }
          ],
          "scatterpolar": [
           {
            "marker": {
             "colorbar": {
              "outlinewidth": 0,
              "ticks": ""
             }
            },
            "type": "scatterpolar"
           }
          ],
          "scatterpolargl": [
           {
            "marker": {
             "colorbar": {
              "outlinewidth": 0,
              "ticks": ""
             }
            },
            "type": "scatterpolargl"
           }
          ],
          "scatterternary": [
           {
            "marker": {
             "colorbar": {
              "outlinewidth": 0,
              "ticks": ""
             }
            },
            "type": "scatterternary"
           }
          ],
          "surface": [
           {
            "colorbar": {
             "outlinewidth": 0,
             "ticks": ""
            },
            "colorscale": [
             [
              0,
              "#0d0887"
             ],
             [
              0.1111111111111111,
              "#46039f"
             ],
             [
              0.2222222222222222,
              "#7201a8"
             ],
             [
              0.3333333333333333,
              "#9c179e"
             ],
             [
              0.4444444444444444,
              "#bd3786"
             ],
             [
              0.5555555555555556,
              "#d8576b"
             ],
             [
              0.6666666666666666,
              "#ed7953"
             ],
             [
              0.7777777777777778,
              "#fb9f3a"
             ],
             [
              0.8888888888888888,
              "#fdca26"
             ],
             [
              1,
              "#f0f921"
             ]
            ],
            "type": "surface"
           }
          ],
          "table": [
           {
            "cells": {
             "fill": {
              "color": "#EBF0F8"
             },
             "line": {
              "color": "white"
             }
            },
            "header": {
             "fill": {
              "color": "#C8D4E3"
             },
             "line": {
              "color": "white"
             }
            },
            "type": "table"
           }
          ]
         },
         "layout": {
          "annotationdefaults": {
           "arrowcolor": "#2a3f5f",
           "arrowhead": 0,
           "arrowwidth": 1
          },
          "autotypenumbers": "strict",
          "coloraxis": {
           "colorbar": {
            "outlinewidth": 0,
            "ticks": ""
           }
          },
          "colorscale": {
           "diverging": [
            [
             0,
             "#8e0152"
            ],
            [
             0.1,
             "#c51b7d"
            ],
            [
             0.2,
             "#de77ae"
            ],
            [
             0.3,
             "#f1b6da"
            ],
            [
             0.4,
             "#fde0ef"
            ],
            [
             0.5,
             "#f7f7f7"
            ],
            [
             0.6,
             "#e6f5d0"
            ],
            [
             0.7,
             "#b8e186"
            ],
            [
             0.8,
             "#7fbc41"
            ],
            [
             0.9,
             "#4d9221"
            ],
            [
             1,
             "#276419"
            ]
           ],
           "sequential": [
            [
             0,
             "#0d0887"
            ],
            [
             0.1111111111111111,
             "#46039f"
            ],
            [
             0.2222222222222222,
             "#7201a8"
            ],
            [
             0.3333333333333333,
             "#9c179e"
            ],
            [
             0.4444444444444444,
             "#bd3786"
            ],
            [
             0.5555555555555556,
             "#d8576b"
            ],
            [
             0.6666666666666666,
             "#ed7953"
            ],
            [
             0.7777777777777778,
             "#fb9f3a"
            ],
            [
             0.8888888888888888,
             "#fdca26"
            ],
            [
             1,
             "#f0f921"
            ]
           ],
           "sequentialminus": [
            [
             0,
             "#0d0887"
            ],
            [
             0.1111111111111111,
             "#46039f"
            ],
            [
             0.2222222222222222,
             "#7201a8"
            ],
            [
             0.3333333333333333,
             "#9c179e"
            ],
            [
             0.4444444444444444,
             "#bd3786"
            ],
            [
             0.5555555555555556,
             "#d8576b"
            ],
            [
             0.6666666666666666,
             "#ed7953"
            ],
            [
             0.7777777777777778,
             "#fb9f3a"
            ],
            [
             0.8888888888888888,
             "#fdca26"
            ],
            [
             1,
             "#f0f921"
            ]
           ]
          },
          "colorway": [
           "#636efa",
           "#EF553B",
           "#00cc96",
           "#ab63fa",
           "#FFA15A",
           "#19d3f3",
           "#FF6692",
           "#B6E880",
           "#FF97FF",
           "#FECB52"
          ],
          "font": {
           "color": "#2a3f5f"
          },
          "geo": {
           "bgcolor": "white",
           "lakecolor": "white",
           "landcolor": "#E5ECF6",
           "showlakes": true,
           "showland": true,
           "subunitcolor": "white"
          },
          "hoverlabel": {
           "align": "left"
          },
          "hovermode": "closest",
          "mapbox": {
           "style": "light"
          },
          "paper_bgcolor": "white",
          "plot_bgcolor": "#E5ECF6",
          "polar": {
           "angularaxis": {
            "gridcolor": "white",
            "linecolor": "white",
            "ticks": ""
           },
           "bgcolor": "#E5ECF6",
           "radialaxis": {
            "gridcolor": "white",
            "linecolor": "white",
            "ticks": ""
           }
          },
          "scene": {
           "xaxis": {
            "backgroundcolor": "#E5ECF6",
            "gridcolor": "white",
            "gridwidth": 2,
            "linecolor": "white",
            "showbackground": true,
            "ticks": "",
            "zerolinecolor": "white"
           },
           "yaxis": {
            "backgroundcolor": "#E5ECF6",
            "gridcolor": "white",
            "gridwidth": 2,
            "linecolor": "white",
            "showbackground": true,
            "ticks": "",
            "zerolinecolor": "white"
           },
           "zaxis": {
            "backgroundcolor": "#E5ECF6",
            "gridcolor": "white",
            "gridwidth": 2,
            "linecolor": "white",
            "showbackground": true,
            "ticks": "",
            "zerolinecolor": "white"
           }
          },
          "shapedefaults": {
           "line": {
            "color": "#2a3f5f"
           }
          },
          "ternary": {
           "aaxis": {
            "gridcolor": "white",
            "linecolor": "white",
            "ticks": ""
           },
           "baxis": {
            "gridcolor": "white",
            "linecolor": "white",
            "ticks": ""
           },
           "bgcolor": "#E5ECF6",
           "caxis": {
            "gridcolor": "white",
            "linecolor": "white",
            "ticks": ""
           }
          },
          "title": {
           "x": 0.05
          },
          "xaxis": {
           "automargin": true,
           "gridcolor": "white",
           "linecolor": "white",
           "ticks": "",
           "title": {
            "standoff": 15
           },
           "zerolinecolor": "white",
           "zerolinewidth": 2
          },
          "yaxis": {
           "automargin": true,
           "gridcolor": "white",
           "linecolor": "white",
           "ticks": "",
           "title": {
            "standoff": 15
           },
           "zerolinecolor": "white",
           "zerolinewidth": 2
          }
         }
        },
        "title": {
         "text": "BHARTIARTL Stock"
        },
        "xaxis": {
         "title": {
          "text": "Date"
         }
        },
        "yaxis": {
         "title": {
          "text": "Close"
         }
        }
       }
      }
     },
     "metadata": {},
     "output_type": "display_data"
    },
    {
     "data": {
      "image/png": "[encoded data removed]",
      "text/plain": [
       "<IPython.core.display.Image object>"
      ]
     },
     "execution_count": 9,
     "metadata": {},
     "output_type": "execute_result"
    }
   ],
   "source": [
    "trace1 = go.Scatter(\n",
    "    x = date_train,\n",
    "    y = close_train,\n",
    "    mode = 'lines',\n",
    "    name = 'Data'\n",
    ")\n",
    "trace2 = go.Scatter(\n",
    "    x = date_test,\n",
    "    y = prediction,\n",
    "    mode = 'lines',\n",
    "    name = 'Prediction'\n",
    ")\n",
    "trace3 = go.Scatter(\n",
    "    x = date_test,\n",
    "    y = close_test,\n",
    "    mode='lines',\n",
    "    name = 'Ground Truth'\n",
    ")\n",
    "trace4 = go.Scatter(\n",
    "    x = forecast_dates,\n",
    "    y = forecast,\n",
    "    mode='lines',\n",
    "    name = 'Forecasted'\n",
    ")\n",
    "fig = go.Figure(data=[trace1, trace2, trace3,trace4], layout=layout)\n",
    "fig.show()\n",
    "img_bytes=fig.to_image(format=\"png\")\n",
    "Image(img_bytes)"
   ]
  }
 ],
 "metadata": {
  "kernelspec": {
   "display_name": "Python 3 (ipykernel)",
   "language": "python",
   "name": "python3"
  },
  "language_info": {
   "codemirror_mode": {
    "name": "ipython",
    "version": 3
   },
   "file_extension": ".py",
   "mimetype": "text/x-python",
   "name": "python",
   "nbconvert_exporter": "python",
   "pygments_lexer": "ipython3",
   "version": "3.7.0"
  }
 },
 "nbformat": 4,
 "nbformat_minor": 5
}
